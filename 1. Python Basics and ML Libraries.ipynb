{
 "cells": [
  {
   "cell_type": "markdown",
   "id": "8fafa820",
   "metadata": {},
   "source": [
    "\n",
    "# Python Basics\n"
   ]
  },
  {
   "cell_type": "code",
   "execution_count": 1,
   "id": "cbddf4a4",
   "metadata": {},
   "outputs": [
    {
     "name": "stdout",
     "output_type": "stream",
     "text": [
      "Name: Alvia and Age: 20\n"
     ]
    }
   ],
   "source": [
    "name=\"Alvia\"\n",
    "age=20\n",
    "print(\"Name: {} and Age: {}\".format(name,age))\n",
    "##before bracket starts press shift+tab key to see the paramters we can give."
   ]
  },
  {
   "cell_type": "code",
   "execution_count": 67,
   "id": "74a38940",
   "metadata": {},
   "outputs": [
    {
     "data": {
      "text/plain": [
       "[1, 2, 3, 4, 5]"
      ]
     },
     "execution_count": 67,
     "metadata": {},
     "output_type": "execute_result"
    }
   ],
   "source": [
    "#indexing\n",
    "list=[1,2,3,4,5,6,7,8]\n",
    "list[1:6]##list[startAt:endBefore:skip]"
   ]
  },
  {
   "cell_type": "code",
   "execution_count": null,
   "id": "39ed9c37",
   "metadata": {},
   "outputs": [],
   "source": [
    "##a tuple is similar to a list in terms of indexing, nested objects, \n",
    "##and repetition but a tuple is immutable, \n",
    "##unlike lists that are mutable.\n",
    "my_dict={\"Car1\": \"Audi\", \"Car2\":\"BMW\",\"Car3\":\"Mercidies Benz\"}\n",
    "\n",
    "##Access the item values based on keys\n",
    "my_dict['Car1']\n",
    "\n",
    "# We can even loop throught the dictionaries keys\n",
    "for x in my_dict:\n",
    "    print(x)\n",
    "    \n",
    "# We can even loop throught the dictionaries values\n",
    "for x in my_dict.values():\n",
    "    print(x)\n",
    "\n",
    "# We can also check both keys and values\n",
    "for x in my_dict.items():\n",
    "    print(x)"
   ]
  },
  {
   "cell_type": "code",
   "execution_count": null,
   "id": "36eca91f",
   "metadata": {},
   "outputs": [],
   "source": [
    "my_dict\n"
   ]
  },
  {
   "cell_type": "code",
   "execution_count": null,
   "id": "4e9a8d09",
   "metadata": {},
   "outputs": [],
   "source": [
    "##Nested Dictionary\n",
    "car1_model={'Mercedes':1960}\n",
    "car2_model={'Audi':1970}\n",
    "car3_model={'Ambassador':1980}\n",
    "\n",
    "car_type={'car1':car1_model,'car2':car2_model,'car3':car3_model}\n",
    "\n",
    "print(car_type)\n",
    "\n",
    "## Accessing the items in the dictionary\n",
    "print(car_type['car1'])\n",
    "\n",
    "print(car_type['car1']['Mercedes'])"
   ]
  },
  {
   "cell_type": "code",
   "execution_count": null,
   "id": "71be00e2",
   "metadata": {},
   "outputs": [],
   "source": [
    "my_tuple=(\"Alvia\",\"Indu\",\"Anitta\",\"Akshay\",\"Abhinand\",\"Sibin\",\"Kshnith\",\"Deepak\")"
   ]
  },
  {
   "cell_type": "code",
   "execution_count": null,
   "id": "3caacfe0",
   "metadata": {},
   "outputs": [],
   "source": [
    "print(my_tuple)"
   ]
  },
  {
   "cell_type": "markdown",
   "id": "7cce6a33",
   "metadata": {},
   "source": [
    "# Map Function"
   ]
  },
  {
   "cell_type": "code",
   "execution_count": 152,
   "id": "6228b845",
   "metadata": {},
   "outputs": [],
   "source": [
    "def even_or_odd(num):\n",
    "    if num%2==0:\n",
    "        return \"The number {} is Even\".format(num)\n",
    "    else:\n",
    "        return \"The number {} is Odd\".format(num)"
   ]
  },
  {
   "cell_type": "code",
   "execution_count": 153,
   "id": "1c96635d",
   "metadata": {},
   "outputs": [
    {
     "data": {
      "text/plain": [
       "'The number 24 is Even'"
      ]
     },
     "execution_count": 153,
     "metadata": {},
     "output_type": "execute_result"
    }
   ],
   "source": [
    "even_or_odd(24)"
   ]
  },
  {
   "cell_type": "code",
   "execution_count": 158,
   "id": "8f92b14b",
   "metadata": {},
   "outputs": [],
   "source": [
    "lst=[1,2,3,4,5,6,7,8,9,24,56,78]"
   ]
  },
  {
   "cell_type": "code",
   "execution_count": 172,
   "id": "87ad869d",
   "metadata": {},
   "outputs": [
    {
     "ename": "TypeError",
     "evalue": "'list' object is not callable",
     "output_type": "error",
     "traceback": [
      "\u001b[1;31m---------------------------------------------------------------------------\u001b[0m",
      "\u001b[1;31mTypeError\u001b[0m                                 Traceback (most recent call last)",
      "Input \u001b[1;32mIn [172]\u001b[0m, in \u001b[0;36m<cell line: 1>\u001b[1;34m()\u001b[0m\n\u001b[1;32m----> 1\u001b[0m \u001b[38;5;28;43mlist\u001b[39;49m\u001b[43m(\u001b[49m\u001b[38;5;28;43mmap\u001b[39;49m\u001b[43m(\u001b[49m\u001b[43meven_or_odd\u001b[49m\u001b[43m,\u001b[49m\u001b[43mlst\u001b[49m\u001b[43m)\u001b[49m\u001b[43m)\u001b[49m\n",
      "\u001b[1;31mTypeError\u001b[0m: 'list' object is not callable"
     ]
    }
   ],
   "source": [
    "list(map(even_or_odd,lst))"
   ]
  },
  {
   "cell_type": "markdown",
   "id": "773dcdb6",
   "metadata": {},
   "source": [
    "# List Comprehension"
   ]
  },
  {
   "cell_type": "code",
   "execution_count": null,
   "id": "3a3c2470",
   "metadata": {},
   "outputs": [],
   "source": [
    "#List comprehension provide a concise way to create lists."
   ]
  },
  {
   "cell_type": "code",
   "execution_count": 162,
   "id": "6a203fd1",
   "metadata": {},
   "outputs": [],
   "source": [
    "lst1=[]\n",
    "def lst_square(lst):\n",
    "    for i in lst:\n",
    "        lst1.append(i*i)\n",
    "    return lst1"
   ]
  },
  {
   "cell_type": "code",
   "execution_count": 161,
   "id": "9fc0209f",
   "metadata": {},
   "outputs": [
    {
     "data": {
      "text/plain": [
       "[1, 4, 9, 16, 25, 36, 49]"
      ]
     },
     "execution_count": 161,
     "metadata": {},
     "output_type": "execute_result"
    }
   ],
   "source": [
    "lst_square([1,2,3,4,5,6,7])"
   ]
  },
  {
   "cell_type": "code",
   "execution_count": 164,
   "id": "a37eee36",
   "metadata": {},
   "outputs": [],
   "source": [
    "lst1=[i*i for i in lst if i%2!=0]"
   ]
  },
  {
   "cell_type": "code",
   "execution_count": 165,
   "id": "3c1b657e",
   "metadata": {},
   "outputs": [
    {
     "name": "stdout",
     "output_type": "stream",
     "text": [
      "[1, 9, 25, 49, 81]\n"
     ]
    }
   ],
   "source": [
    "print(lst1)"
   ]
  },
  {
   "cell_type": "markdown",
   "id": "0e290ea3",
   "metadata": {},
   "source": [
    "# Class Methods and Class Variables"
   ]
  },
  {
   "cell_type": "code",
   "execution_count": 166,
   "id": "0f271c3f",
   "metadata": {},
   "outputs": [],
   "source": [
    "class Car:\n",
    "    base_price=100000 ##Class Variables\n",
    "    def __init__(self,windows,doors,power):\n",
    "        self.windows=windows\n",
    "        self.doors=doors\n",
    "        self.power=power\n",
    "    def what_base_price(self):\n",
    "        print(\"The base price is {}\".format(self.base_price))\n",
    "    @classmethod\n",
    "    def revise_base_price(cls,inflation):\n",
    "        cls.base_price=cls.base_price+cls.base_price*inflation"
   ]
  },
  {
   "cell_type": "code",
   "execution_count": 167,
   "id": "72166b23",
   "metadata": {},
   "outputs": [
    {
     "data": {
      "text/plain": [
       "110000.0"
      ]
     },
     "execution_count": 167,
     "metadata": {},
     "output_type": "execute_result"
    }
   ],
   "source": [
    "Car.revise_base_price(0.10)\n",
    "Car.base_price"
   ]
  },
  {
   "cell_type": "code",
   "execution_count": 168,
   "id": "0b9247ac",
   "metadata": {},
   "outputs": [
    {
     "data": {
      "text/plain": [
       "110000.0"
      ]
     },
     "execution_count": 168,
     "metadata": {},
     "output_type": "execute_result"
    }
   ],
   "source": [
    "car1=Car(4,5,2000)\n",
    "car1.base_price"
   ]
  },
  {
   "cell_type": "code",
   "execution_count": 169,
   "id": "7863fec6",
   "metadata": {},
   "outputs": [
    {
     "data": {
      "text/plain": [
       "121000.0"
      ]
     },
     "execution_count": 169,
     "metadata": {},
     "output_type": "execute_result"
    }
   ],
   "source": [
    "car1.revise_base_price(0.10)\n",
    "car1.base_price"
   ]
  },
  {
   "cell_type": "code",
   "execution_count": 170,
   "id": "306b85c7",
   "metadata": {},
   "outputs": [
    {
     "data": {
      "text/plain": [
       "121000.0"
      ]
     },
     "execution_count": 170,
     "metadata": {},
     "output_type": "execute_result"
    }
   ],
   "source": [
    "car3=Car(3,4,2000)\n",
    "car3.base_price"
   ]
  },
  {
   "cell_type": "code",
   "execution_count": 171,
   "id": "b3a68fce",
   "metadata": {},
   "outputs": [
    {
     "data": {
      "text/plain": [
       "['__class__',\n",
       " '__delattr__',\n",
       " '__dict__',\n",
       " '__dir__',\n",
       " '__doc__',\n",
       " '__eq__',\n",
       " '__format__',\n",
       " '__ge__',\n",
       " '__getattribute__',\n",
       " '__gt__',\n",
       " '__hash__',\n",
       " '__init__',\n",
       " '__init_subclass__',\n",
       " '__le__',\n",
       " '__lt__',\n",
       " '__module__',\n",
       " '__ne__',\n",
       " '__new__',\n",
       " '__reduce__',\n",
       " '__reduce_ex__',\n",
       " '__repr__',\n",
       " '__setattr__',\n",
       " '__sizeof__',\n",
       " '__str__',\n",
       " '__subclasshook__',\n",
       " '__weakref__',\n",
       " 'base_price',\n",
       " 'doors',\n",
       " 'power',\n",
       " 'revise_base_price',\n",
       " 'what_base_price',\n",
       " 'windows']"
      ]
     },
     "execution_count": 171,
     "metadata": {},
     "output_type": "execute_result"
    }
   ],
   "source": [
    "dir(car1)"
   ]
  },
  {
   "cell_type": "code",
   "execution_count": null,
   "id": "086d2b5f",
   "metadata": {},
   "outputs": [],
   "source": []
  },
  {
   "cell_type": "code",
   "execution_count": null,
   "id": "43d914a2",
   "metadata": {},
   "outputs": [],
   "source": []
  },
  {
   "cell_type": "code",
   "execution_count": null,
   "id": "45f6b179",
   "metadata": {},
   "outputs": [],
   "source": []
  },
  {
   "cell_type": "code",
   "execution_count": null,
   "id": "916568ba",
   "metadata": {},
   "outputs": [],
   "source": []
  },
  {
   "cell_type": "code",
   "execution_count": null,
   "id": "d395ad2a",
   "metadata": {},
   "outputs": [],
   "source": []
  },
  {
   "cell_type": "code",
   "execution_count": null,
   "id": "58f6b9ef",
   "metadata": {},
   "outputs": [],
   "source": []
  },
  {
   "cell_type": "code",
   "execution_count": null,
   "id": "2c94b746",
   "metadata": {},
   "outputs": [],
   "source": []
  },
  {
   "cell_type": "code",
   "execution_count": null,
   "id": "40cbba0b",
   "metadata": {},
   "outputs": [],
   "source": []
  },
  {
   "cell_type": "code",
   "execution_count": null,
   "id": "4f8ba7a5",
   "metadata": {},
   "outputs": [],
   "source": []
  },
  {
   "cell_type": "code",
   "execution_count": null,
   "id": "93ae92bf",
   "metadata": {},
   "outputs": [],
   "source": []
  },
  {
   "cell_type": "code",
   "execution_count": null,
   "id": "e444eb55",
   "metadata": {},
   "outputs": [],
   "source": []
  },
  {
   "cell_type": "markdown",
   "id": "5bb499ac",
   "metadata": {},
   "source": [
    "# Lambda Function"
   ]
  },
  {
   "cell_type": "code",
   "execution_count": null,
   "id": "19861213",
   "metadata": {},
   "outputs": [],
   "source": [
    "#anonymous function\n",
    "#A function with no name"
   ]
  },
  {
   "cell_type": "code",
   "execution_count": 138,
   "id": "9d7b68af",
   "metadata": {},
   "outputs": [],
   "source": [
    "def addition(a,b):\n",
    "    return a+b"
   ]
  },
  {
   "cell_type": "code",
   "execution_count": 139,
   "id": "ddd9b297",
   "metadata": {},
   "outputs": [
    {
     "data": {
      "text/plain": [
       "9"
      ]
     },
     "execution_count": 139,
     "metadata": {},
     "output_type": "execute_result"
    }
   ],
   "source": [
    "addition(4,5)"
   ]
  },
  {
   "cell_type": "code",
   "execution_count": 140,
   "id": "c11eb61a",
   "metadata": {},
   "outputs": [],
   "source": [
    "addition=lambda a,b:a+b"
   ]
  },
  {
   "cell_type": "code",
   "execution_count": 141,
   "id": "5817676e",
   "metadata": {},
   "outputs": [
    {
     "data": {
      "text/plain": [
       "26"
      ]
     },
     "execution_count": 141,
     "metadata": {},
     "output_type": "execute_result"
    }
   ],
   "source": [
    "addition(12,14)"
   ]
  },
  {
   "cell_type": "code",
   "execution_count": 142,
   "id": "c6d95d18",
   "metadata": {},
   "outputs": [],
   "source": [
    "def even(num):\n",
    "    if num%2==0:\n",
    "        return True"
   ]
  },
  {
   "cell_type": "code",
   "execution_count": 143,
   "id": "f4018a5d",
   "metadata": {},
   "outputs": [
    {
     "data": {
      "text/plain": [
       "True"
      ]
     },
     "execution_count": 143,
     "metadata": {},
     "output_type": "execute_result"
    }
   ],
   "source": [
    "even(24)"
   ]
  },
  {
   "cell_type": "code",
   "execution_count": 144,
   "id": "c46b7e9c",
   "metadata": {},
   "outputs": [],
   "source": [
    "even1=lambda a:a%2==0"
   ]
  },
  {
   "cell_type": "code",
   "execution_count": 145,
   "id": "4f91f03f",
   "metadata": {},
   "outputs": [
    {
     "data": {
      "text/plain": [
       "True"
      ]
     },
     "execution_count": 145,
     "metadata": {},
     "output_type": "execute_result"
    }
   ],
   "source": [
    "even1(12)"
   ]
  },
  {
   "cell_type": "code",
   "execution_count": 146,
   "id": "af0ea914",
   "metadata": {},
   "outputs": [],
   "source": [
    "def addition1(x,y,z):\n",
    "    return x+y+z"
   ]
  },
  {
   "cell_type": "code",
   "execution_count": 147,
   "id": "68805c97",
   "metadata": {},
   "outputs": [
    {
     "data": {
      "text/plain": [
       "9"
      ]
     },
     "execution_count": 147,
     "metadata": {},
     "output_type": "execute_result"
    }
   ],
   "source": [
    "addition1(2,3,4)"
   ]
  },
  {
   "cell_type": "markdown",
   "id": "6efc77e7",
   "metadata": {},
   "source": [
    "# Filter Function"
   ]
  },
  {
   "cell_type": "code",
   "execution_count": 148,
   "id": "7d8b9acb",
   "metadata": {},
   "outputs": [],
   "source": [
    "add=lambda a,b,c:a+b+c"
   ]
  },
  {
   "cell_type": "code",
   "execution_count": 149,
   "id": "9b64bb50",
   "metadata": {},
   "outputs": [
    {
     "data": {
      "text/plain": [
       "6"
      ]
     },
     "execution_count": 149,
     "metadata": {},
     "output_type": "execute_result"
    }
   ],
   "source": [
    "add(1,2,3)"
   ]
  },
  {
   "cell_type": "code",
   "execution_count": 150,
   "id": "4f220486",
   "metadata": {},
   "outputs": [],
   "source": [
    "def even(num):\n",
    "    if num%2==0:\n",
    "        return True"
   ]
  },
  {
   "cell_type": "markdown",
   "id": "20a90605",
   "metadata": {},
   "source": [
    "1st=[1,2,3,4,5,6,7,8,9,0]"
   ]
  },
  {
   "cell_type": "code",
   "execution_count": null,
   "id": "76d77f4c",
   "metadata": {},
   "outputs": [],
   "source": [
    "list(filter(lambda num:num%2==0,1st))"
   ]
  },
  {
   "cell_type": "code",
   "execution_count": null,
   "id": "5fd38df0",
   "metadata": {},
   "outputs": [],
   "source": []
  },
  {
   "cell_type": "code",
   "execution_count": null,
   "id": "f4105534",
   "metadata": {},
   "outputs": [],
   "source": []
  },
  {
   "cell_type": "code",
   "execution_count": null,
   "id": "94bd669d",
   "metadata": {},
   "outputs": [],
   "source": []
  },
  {
   "cell_type": "code",
   "execution_count": null,
   "id": "1557ebc0",
   "metadata": {},
   "outputs": [],
   "source": []
  },
  {
   "cell_type": "code",
   "execution_count": null,
   "id": "3a491b06",
   "metadata": {},
   "outputs": [],
   "source": []
  },
  {
   "cell_type": "code",
   "execution_count": null,
   "id": "43e403ca",
   "metadata": {},
   "outputs": [],
   "source": []
  },
  {
   "cell_type": "code",
   "execution_count": null,
   "id": "912f22e4",
   "metadata": {},
   "outputs": [],
   "source": []
  },
  {
   "cell_type": "code",
   "execution_count": null,
   "id": "e614c07f",
   "metadata": {},
   "outputs": [],
   "source": []
  },
  {
   "cell_type": "code",
   "execution_count": null,
   "id": "47678a69",
   "metadata": {},
   "outputs": [],
   "source": []
  },
  {
   "cell_type": "code",
   "execution_count": null,
   "id": "b7c84c21",
   "metadata": {},
   "outputs": [],
   "source": []
  },
  {
   "cell_type": "code",
   "execution_count": null,
   "id": "ff54d3fb",
   "metadata": {},
   "outputs": [],
   "source": []
  },
  {
   "cell_type": "code",
   "execution_count": null,
   "id": "1b6999e9",
   "metadata": {},
   "outputs": [],
   "source": []
  },
  {
   "cell_type": "code",
   "execution_count": null,
   "id": "1acf2b93",
   "metadata": {},
   "outputs": [],
   "source": []
  },
  {
   "cell_type": "code",
   "execution_count": null,
   "id": "0271622a",
   "metadata": {},
   "outputs": [],
   "source": []
  },
  {
   "cell_type": "code",
   "execution_count": null,
   "id": "c3aa11be",
   "metadata": {},
   "outputs": [],
   "source": []
  },
  {
   "cell_type": "code",
   "execution_count": null,
   "id": "84739b43",
   "metadata": {},
   "outputs": [],
   "source": []
  },
  {
   "cell_type": "code",
   "execution_count": null,
   "id": "4752a81d",
   "metadata": {},
   "outputs": [],
   "source": []
  },
  {
   "cell_type": "code",
   "execution_count": null,
   "id": "56cb1946",
   "metadata": {},
   "outputs": [],
   "source": []
  },
  {
   "cell_type": "markdown",
   "id": "94e65d64",
   "metadata": {},
   "source": [
    "# Numpy"
   ]
  },
  {
   "cell_type": "code",
   "execution_count": 3,
   "id": "2bd174dd",
   "metadata": {},
   "outputs": [],
   "source": [
    "##array-processing package\n",
    "##provides tools for working with these arrays\n",
    "import numpy as np"
   ]
  },
  {
   "cell_type": "code",
   "execution_count": 4,
   "id": "ded7d1db",
   "metadata": {},
   "outputs": [
    {
     "name": "stdout",
     "output_type": "stream",
     "text": [
      "[1 2 3 4 5]\n"
     ]
    }
   ],
   "source": [
    "my_lst=[1,2,3,4,5]\n",
    "\n",
    "arr=np.array(my_lst)\n",
    "print(arr)"
   ]
  },
  {
   "cell_type": "code",
   "execution_count": 5,
   "id": "c627a88f",
   "metadata": {},
   "outputs": [
    {
     "data": {
      "text/plain": [
       "array([[1, 2, 3, 4, 5],\n",
       "       [2, 3, 4, 5, 6],\n",
       "       [9, 7, 6, 8, 9]])"
      ]
     },
     "execution_count": 5,
     "metadata": {},
     "output_type": "execute_result"
    }
   ],
   "source": [
    "## Multinested array\n",
    "my_lst1=[1,2,3,4,5]\n",
    "my_lst2=[2,3,4,5,6]\n",
    "my_lst3=[9,7,6,8,9]\n",
    "\n",
    "arr=np.array([my_lst1,my_lst2,my_lst3])\n",
    "arr"
   ]
  },
  {
   "cell_type": "code",
   "execution_count": 6,
   "id": "254048a1",
   "metadata": {},
   "outputs": [
    {
     "data": {
      "text/plain": [
       "(3, 5)"
      ]
     },
     "execution_count": 6,
     "metadata": {},
     "output_type": "execute_result"
    }
   ],
   "source": [
    "arr.shape"
   ]
  },
  {
   "cell_type": "code",
   "execution_count": 7,
   "id": "f5014596",
   "metadata": {},
   "outputs": [
    {
     "data": {
      "text/plain": [
       "array([[2, 3],\n",
       "       [9, 7]])"
      ]
     },
     "execution_count": 7,
     "metadata": {},
     "output_type": "execute_result"
    }
   ],
   "source": [
    "#indexing\n",
    "arr[1:,:2]"
   ]
  },
  {
   "cell_type": "code",
   "execution_count": 8,
   "id": "550d792c",
   "metadata": {},
   "outputs": [
    {
     "data": {
      "text/plain": [
       "array([[4, 5],\n",
       "       [5, 6],\n",
       "       [8, 9]])"
      ]
     },
     "execution_count": 8,
     "metadata": {},
     "output_type": "execute_result"
    }
   ],
   "source": [
    "arr[:,3:]"
   ]
  },
  {
   "cell_type": "code",
   "execution_count": 9,
   "id": "63c39af3",
   "metadata": {},
   "outputs": [
    {
     "data": {
      "text/plain": [
       "array([  1,   2,   3, 100, 100, 100])"
      ]
     },
     "execution_count": 9,
     "metadata": {},
     "output_type": "execute_result"
    }
   ],
   "source": [
    "my_lst=[1,2,3,4,5,2]\n",
    "\n",
    "arr1=np.array(my_lst)\n",
    "arr1[3:]=100\n",
    "arr1"
   ]
  },
  {
   "cell_type": "code",
   "execution_count": 10,
   "id": "c6635ed8",
   "metadata": {},
   "outputs": [
    {
     "data": {
      "text/plain": [
       "array([1, 2, 3])"
      ]
     },
     "execution_count": 10,
     "metadata": {},
     "output_type": "execute_result"
    }
   ],
   "source": [
    "### To display first 5 elements in the array\n",
    "arr1[arr1<5]"
   ]
  },
  {
   "cell_type": "code",
   "execution_count": 11,
   "id": "be8c7943",
   "metadata": {},
   "outputs": [
    {
     "data": {
      "text/plain": [
       "array([[0, 1],\n",
       "       [2, 3],\n",
       "       [4, 5],\n",
       "       [6, 7],\n",
       "       [8, 9]])"
      ]
     },
     "execution_count": 11,
     "metadata": {},
     "output_type": "execute_result"
    }
   ],
   "source": [
    "## Create arrays and reshape\n",
    "np.arange(0,10).reshape(5,2)"
   ]
  },
  {
   "cell_type": "code",
   "execution_count": 12,
   "id": "3199e040",
   "metadata": {},
   "outputs": [
    {
     "data": {
      "text/plain": [
       "array([[0, 1, 2, 3, 4],\n",
       "       [5, 6, 7, 8, 9]])"
      ]
     },
     "execution_count": 12,
     "metadata": {},
     "output_type": "execute_result"
    }
   ],
   "source": [
    "arr1=np.arange(0,10).reshape(2,5)\n",
    "arr2=np.arange(0,10).reshape(2,5)\n",
    "arr1"
   ]
  },
  {
   "cell_type": "code",
   "execution_count": 13,
   "id": "f3c3c650",
   "metadata": {},
   "outputs": [
    {
     "data": {
      "text/plain": [
       "array([[ 0,  1,  4,  9, 16],\n",
       "       [25, 36, 49, 64, 81]])"
      ]
     },
     "execution_count": 13,
     "metadata": {},
     "output_type": "execute_result"
    }
   ],
   "source": [
    "arr1*arr2"
   ]
  },
  {
   "cell_type": "code",
   "execution_count": 14,
   "id": "0cd117f0",
   "metadata": {},
   "outputs": [
    {
     "data": {
      "text/plain": [
       "array([[1, 1, 1, 1, 1],\n",
       "       [1, 1, 1, 1, 1]])"
      ]
     },
     "execution_count": 14,
     "metadata": {},
     "output_type": "execute_result"
    }
   ],
   "source": [
    "np.ones((2,5),dtype=int)"
   ]
  },
  {
   "cell_type": "code",
   "execution_count": 15,
   "id": "9ada7541",
   "metadata": {},
   "outputs": [
    {
     "data": {
      "text/plain": [
       "array([[0.03679153, 0.08397268, 0.13806404],\n",
       "       [0.2819426 , 0.63898893, 0.13158443],\n",
       "       [0.77692972, 0.69309927, 0.96717124]])"
      ]
     },
     "execution_count": 15,
     "metadata": {},
     "output_type": "execute_result"
    }
   ],
   "source": [
    "##random distribution\n",
    "np.random.rand(3,3)"
   ]
  },
  {
   "cell_type": "code",
   "execution_count": 16,
   "id": "56c993bf",
   "metadata": {},
   "outputs": [
    {
     "data": {
      "text/plain": [
       "array([[ 0.01432736,  1.08739807,  1.51301853,  1.2593692 ],\n",
       "       [ 0.64362528,  1.13601257, -1.09031507,  0.56823578],\n",
       "       [ 2.25292905, -0.94975502,  1.61316697, -1.1159922 ],\n",
       "       [ 0.80395682,  0.43915471,  0.61950143, -0.63818506]])"
      ]
     },
     "execution_count": 16,
     "metadata": {},
     "output_type": "execute_result"
    }
   ],
   "source": [
    "arr_ex=np.random.randn(4,4)\n",
    "arr_ex"
   ]
  },
  {
   "cell_type": "code",
   "execution_count": 17,
   "id": "580a87da",
   "metadata": {},
   "outputs": [
    {
     "data": {
      "text/plain": [
       "array([[29, 32],\n",
       "       [24, 40],\n",
       "       [ 2, 28],\n",
       "       [52, 54]])"
      ]
     },
     "execution_count": 17,
     "metadata": {},
     "output_type": "execute_result"
    }
   ],
   "source": [
    "np.random.randint(0,100,8).reshape(4,2)"
   ]
  },
  {
   "cell_type": "code",
   "execution_count": 18,
   "id": "04188495",
   "metadata": {},
   "outputs": [
    {
     "data": {
      "text/plain": [
       "array([[0.45632677, 0.04707265, 0.62543508, 0.76763354, 0.6070208 ]])"
      ]
     },
     "execution_count": 18,
     "metadata": {},
     "output_type": "execute_result"
    }
   ],
   "source": [
    "np.random.random_sample((1,5))"
   ]
  },
  {
   "cell_type": "markdown",
   "id": "3c2fd393",
   "metadata": {},
   "source": [
    "# Pandas"
   ]
  },
  {
   "cell_type": "code",
   "execution_count": 19,
   "id": "f8adca13",
   "metadata": {},
   "outputs": [],
   "source": [
    "##easy-to-use data structures and data analysis tools\n",
    "##What is Data Frames?\n",
    "##What is Data Series? - combination of many columns - no of cols > 1\n",
    "##Different operation in Pandas"
   ]
  },
  {
   "cell_type": "code",
   "execution_count": 20,
   "id": "2a313aea",
   "metadata": {},
   "outputs": [],
   "source": [
    "import pandas as pd\n",
    "import numpy as np"
   ]
  },
  {
   "cell_type": "code",
   "execution_count": 21,
   "id": "b63cd4a6",
   "metadata": {},
   "outputs": [],
   "source": [
    "df=pd.DataFrame(np.arange(0,20).reshape(5,4),index=['Row1','Row2','Row3','Row4','Row5'],columns=[\"Column1\",\"Column2\",\"Column3\",\"Column4\"])"
   ]
  },
  {
   "cell_type": "code",
   "execution_count": 22,
   "id": "be7daf66",
   "metadata": {},
   "outputs": [
    {
     "data": {
      "text/html": [
       "<div>\n",
       "<style scoped>\n",
       "    .dataframe tbody tr th:only-of-type {\n",
       "        vertical-align: middle;\n",
       "    }\n",
       "\n",
       "    .dataframe tbody tr th {\n",
       "        vertical-align: top;\n",
       "    }\n",
       "\n",
       "    .dataframe thead th {\n",
       "        text-align: right;\n",
       "    }\n",
       "</style>\n",
       "<table border=\"1\" class=\"dataframe\">\n",
       "  <thead>\n",
       "    <tr style=\"text-align: right;\">\n",
       "      <th></th>\n",
       "      <th>Column1</th>\n",
       "      <th>Column2</th>\n",
       "      <th>Column3</th>\n",
       "      <th>Column4</th>\n",
       "    </tr>\n",
       "  </thead>\n",
       "  <tbody>\n",
       "    <tr>\n",
       "      <th>Row1</th>\n",
       "      <td>0</td>\n",
       "      <td>1</td>\n",
       "      <td>2</td>\n",
       "      <td>3</td>\n",
       "    </tr>\n",
       "    <tr>\n",
       "      <th>Row2</th>\n",
       "      <td>4</td>\n",
       "      <td>5</td>\n",
       "      <td>6</td>\n",
       "      <td>7</td>\n",
       "    </tr>\n",
       "    <tr>\n",
       "      <th>Row3</th>\n",
       "      <td>8</td>\n",
       "      <td>9</td>\n",
       "      <td>10</td>\n",
       "      <td>11</td>\n",
       "    </tr>\n",
       "    <tr>\n",
       "      <th>Row4</th>\n",
       "      <td>12</td>\n",
       "      <td>13</td>\n",
       "      <td>14</td>\n",
       "      <td>15</td>\n",
       "    </tr>\n",
       "    <tr>\n",
       "      <th>Row5</th>\n",
       "      <td>16</td>\n",
       "      <td>17</td>\n",
       "      <td>18</td>\n",
       "      <td>19</td>\n",
       "    </tr>\n",
       "  </tbody>\n",
       "</table>\n",
       "</div>"
      ],
      "text/plain": [
       "      Column1  Column2  Column3  Column4\n",
       "Row1        0        1        2        3\n",
       "Row2        4        5        6        7\n",
       "Row3        8        9       10       11\n",
       "Row4       12       13       14       15\n",
       "Row5       16       17       18       19"
      ]
     },
     "execution_count": 22,
     "metadata": {},
     "output_type": "execute_result"
    }
   ],
   "source": [
    "df.head()"
   ]
  },
  {
   "cell_type": "code",
   "execution_count": 23,
   "id": "1907d89e",
   "metadata": {},
   "outputs": [
    {
     "data": {
      "text/plain": [
       "Column1    0\n",
       "Column2    1\n",
       "Column3    2\n",
       "Column4    3\n",
       "Name: Row1, dtype: int32"
      ]
     },
     "execution_count": 23,
     "metadata": {},
     "output_type": "execute_result"
    }
   ],
   "source": [
    "## Accessing the elements\n",
    "df.loc['Row1']"
   ]
  },
  {
   "cell_type": "code",
   "execution_count": 24,
   "id": "94a15693",
   "metadata": {},
   "outputs": [
    {
     "data": {
      "text/html": [
       "<div>\n",
       "<style scoped>\n",
       "    .dataframe tbody tr th:only-of-type {\n",
       "        vertical-align: middle;\n",
       "    }\n",
       "\n",
       "    .dataframe tbody tr th {\n",
       "        vertical-align: top;\n",
       "    }\n",
       "\n",
       "    .dataframe thead th {\n",
       "        text-align: right;\n",
       "    }\n",
       "</style>\n",
       "<table border=\"1\" class=\"dataframe\">\n",
       "  <thead>\n",
       "    <tr style=\"text-align: right;\">\n",
       "      <th></th>\n",
       "      <th>Column1</th>\n",
       "      <th>Column2</th>\n",
       "      <th>Column3</th>\n",
       "      <th>Column4</th>\n",
       "    </tr>\n",
       "  </thead>\n",
       "  <tbody>\n",
       "    <tr>\n",
       "      <th>Row1</th>\n",
       "      <td>0</td>\n",
       "      <td>1</td>\n",
       "      <td>2</td>\n",
       "      <td>3</td>\n",
       "    </tr>\n",
       "    <tr>\n",
       "      <th>Row2</th>\n",
       "      <td>4</td>\n",
       "      <td>5</td>\n",
       "      <td>6</td>\n",
       "      <td>7</td>\n",
       "    </tr>\n",
       "    <tr>\n",
       "      <th>Row3</th>\n",
       "      <td>8</td>\n",
       "      <td>9</td>\n",
       "      <td>10</td>\n",
       "      <td>11</td>\n",
       "    </tr>\n",
       "    <tr>\n",
       "      <th>Row4</th>\n",
       "      <td>12</td>\n",
       "      <td>13</td>\n",
       "      <td>14</td>\n",
       "      <td>15</td>\n",
       "    </tr>\n",
       "    <tr>\n",
       "      <th>Row5</th>\n",
       "      <td>16</td>\n",
       "      <td>17</td>\n",
       "      <td>18</td>\n",
       "      <td>19</td>\n",
       "    </tr>\n",
       "  </tbody>\n",
       "</table>\n",
       "</div>"
      ],
      "text/plain": [
       "      Column1  Column2  Column3  Column4\n",
       "Row1        0        1        2        3\n",
       "Row2        4        5        6        7\n",
       "Row3        8        9       10       11\n",
       "Row4       12       13       14       15\n",
       "Row5       16       17       18       19"
      ]
     },
     "execution_count": 24,
     "metadata": {},
     "output_type": "execute_result"
    }
   ],
   "source": [
    "df.iloc[:,:] ##give values and see how it works"
   ]
  },
  {
   "cell_type": "code",
   "execution_count": 25,
   "id": "f5123a6c",
   "metadata": {},
   "outputs": [
    {
     "ename": "SyntaxError",
     "evalue": "invalid syntax (593053569.py, line 3)",
     "output_type": "error",
     "traceback": [
      "\u001b[1;36m  Input \u001b[1;32mIn [25]\u001b[1;36m\u001b[0m\n\u001b[1;33m    [0:1]   #means lines 0 to 1 excluded of your matrix\u001b[0m\n\u001b[1;37m      ^\u001b[0m\n\u001b[1;31mSyntaxError\u001b[0m\u001b[1;31m:\u001b[0m invalid syntax\n"
     ]
    }
   ],
   "source": [
    "[0]     #means line 0 of your matrix\n",
    "[(0,0)] #means cell at 0,0 of your matrix\n",
    "[0:1]   #means lines 0 to 1 excluded of your matrix\n",
    "[:1]    #excluding the first value means all lines until line 1 excluded\n",
    "[1:]    #excluding the last param mean all lines starting form line 1 included\n",
    "[:]     #excluding both means all lines\n",
    "[::2]   #the addition of a second ':' is the sampling or skip. (1 item every 2)\n",
    "[::]    #excluding it means a sampling of 1\n",
    "[:,:]   #simply uses a tuple (a single , represents an empty tuple) instead of an index."
   ]
  },
  {
   "cell_type": "code",
   "execution_count": 26,
   "id": "6e3b6dbc",
   "metadata": {},
   "outputs": [
    {
     "data": {
      "text/html": [
       "<div>\n",
       "<style scoped>\n",
       "    .dataframe tbody tr th:only-of-type {\n",
       "        vertical-align: middle;\n",
       "    }\n",
       "\n",
       "    .dataframe tbody tr th {\n",
       "        vertical-align: top;\n",
       "    }\n",
       "\n",
       "    .dataframe thead th {\n",
       "        text-align: right;\n",
       "    }\n",
       "</style>\n",
       "<table border=\"1\" class=\"dataframe\">\n",
       "  <thead>\n",
       "    <tr style=\"text-align: right;\">\n",
       "      <th></th>\n",
       "      <th>Column1</th>\n",
       "      <th>Column2</th>\n",
       "    </tr>\n",
       "  </thead>\n",
       "  <tbody>\n",
       "    <tr>\n",
       "      <th>Row1</th>\n",
       "      <td>0</td>\n",
       "      <td>1</td>\n",
       "    </tr>\n",
       "    <tr>\n",
       "      <th>Row2</th>\n",
       "      <td>4</td>\n",
       "      <td>5</td>\n",
       "    </tr>\n",
       "    <tr>\n",
       "      <th>Row3</th>\n",
       "      <td>8</td>\n",
       "      <td>9</td>\n",
       "    </tr>\n",
       "  </tbody>\n",
       "</table>\n",
       "</div>"
      ],
      "text/plain": [
       "      Column1  Column2\n",
       "Row1        0        1\n",
       "Row2        4        5\n",
       "Row3        8        9"
      ]
     },
     "execution_count": 26,
     "metadata": {},
     "output_type": "execute_result"
    }
   ],
   "source": [
    "## Take the elements from the Column2\n",
    "df.iloc[0:3,0:2]"
   ]
  },
  {
   "cell_type": "code",
   "execution_count": 27,
   "id": "4f305138",
   "metadata": {},
   "outputs": [
    {
     "data": {
      "text/plain": [
       "array([[ 1,  2,  3],\n",
       "       [ 5,  6,  7],\n",
       "       [ 9, 10, 11],\n",
       "       [13, 14, 15],\n",
       "       [17, 18, 19]])"
      ]
     },
     "execution_count": 27,
     "metadata": {},
     "output_type": "execute_result"
    }
   ],
   "source": [
    "#convert Dataframes into array\n",
    "df.iloc[:,1:].values"
   ]
  },
  {
   "cell_type": "code",
   "execution_count": 28,
   "id": "36483c50",
   "metadata": {},
   "outputs": [
    {
     "data": {
      "text/plain": [
       "0     1\n",
       "4     1\n",
       "8     1\n",
       "12    1\n",
       "16    1\n",
       "Name: Column1, dtype: int64"
      ]
     },
     "execution_count": 28,
     "metadata": {},
     "output_type": "execute_result"
    }
   ],
   "source": [
    "df['Column1'].value_counts()"
   ]
  },
  {
   "cell_type": "code",
   "execution_count": 29,
   "id": "108fdf43",
   "metadata": {},
   "outputs": [
    {
     "name": "stdout",
     "output_type": "stream",
     "text": [
      "<class 'pandas.core.frame.DataFrame'>\n",
      "Index: 5 entries, Row1 to Row5\n",
      "Data columns (total 4 columns):\n",
      " #   Column   Non-Null Count  Dtype\n",
      "---  ------   --------------  -----\n",
      " 0   Column1  5 non-null      int32\n",
      " 1   Column2  5 non-null      int32\n",
      " 2   Column3  5 non-null      int32\n",
      " 3   Column4  5 non-null      int32\n",
      "dtypes: int32(4)\n",
      "memory usage: 292.0+ bytes\n"
     ]
    }
   ],
   "source": [
    "df.info()"
   ]
  },
  {
   "cell_type": "code",
   "execution_count": 30,
   "id": "7ee7abb9",
   "metadata": {},
   "outputs": [
    {
     "data": {
      "text/html": [
       "<div>\n",
       "<style scoped>\n",
       "    .dataframe tbody tr th:only-of-type {\n",
       "        vertical-align: middle;\n",
       "    }\n",
       "\n",
       "    .dataframe tbody tr th {\n",
       "        vertical-align: top;\n",
       "    }\n",
       "\n",
       "    .dataframe thead th {\n",
       "        text-align: right;\n",
       "    }\n",
       "</style>\n",
       "<table border=\"1\" class=\"dataframe\">\n",
       "  <thead>\n",
       "    <tr style=\"text-align: right;\">\n",
       "      <th></th>\n",
       "      <th>Column1</th>\n",
       "      <th>Column2</th>\n",
       "      <th>Column3</th>\n",
       "      <th>Column4</th>\n",
       "    </tr>\n",
       "  </thead>\n",
       "  <tbody>\n",
       "    <tr>\n",
       "      <th>count</th>\n",
       "      <td>5.000000</td>\n",
       "      <td>5.000000</td>\n",
       "      <td>5.000000</td>\n",
       "      <td>5.000000</td>\n",
       "    </tr>\n",
       "    <tr>\n",
       "      <th>mean</th>\n",
       "      <td>8.000000</td>\n",
       "      <td>9.000000</td>\n",
       "      <td>10.000000</td>\n",
       "      <td>11.000000</td>\n",
       "    </tr>\n",
       "    <tr>\n",
       "      <th>std</th>\n",
       "      <td>6.324555</td>\n",
       "      <td>6.324555</td>\n",
       "      <td>6.324555</td>\n",
       "      <td>6.324555</td>\n",
       "    </tr>\n",
       "    <tr>\n",
       "      <th>min</th>\n",
       "      <td>0.000000</td>\n",
       "      <td>1.000000</td>\n",
       "      <td>2.000000</td>\n",
       "      <td>3.000000</td>\n",
       "    </tr>\n",
       "    <tr>\n",
       "      <th>25%</th>\n",
       "      <td>4.000000</td>\n",
       "      <td>5.000000</td>\n",
       "      <td>6.000000</td>\n",
       "      <td>7.000000</td>\n",
       "    </tr>\n",
       "    <tr>\n",
       "      <th>50%</th>\n",
       "      <td>8.000000</td>\n",
       "      <td>9.000000</td>\n",
       "      <td>10.000000</td>\n",
       "      <td>11.000000</td>\n",
       "    </tr>\n",
       "    <tr>\n",
       "      <th>75%</th>\n",
       "      <td>12.000000</td>\n",
       "      <td>13.000000</td>\n",
       "      <td>14.000000</td>\n",
       "      <td>15.000000</td>\n",
       "    </tr>\n",
       "    <tr>\n",
       "      <th>max</th>\n",
       "      <td>16.000000</td>\n",
       "      <td>17.000000</td>\n",
       "      <td>18.000000</td>\n",
       "      <td>19.000000</td>\n",
       "    </tr>\n",
       "  </tbody>\n",
       "</table>\n",
       "</div>"
      ],
      "text/plain": [
       "         Column1    Column2    Column3    Column4\n",
       "count   5.000000   5.000000   5.000000   5.000000\n",
       "mean    8.000000   9.000000  10.000000  11.000000\n",
       "std     6.324555   6.324555   6.324555   6.324555\n",
       "min     0.000000   1.000000   2.000000   3.000000\n",
       "25%     4.000000   5.000000   6.000000   7.000000\n",
       "50%     8.000000   9.000000  10.000000  11.000000\n",
       "75%    12.000000  13.000000  14.000000  15.000000\n",
       "max    16.000000  17.000000  18.000000  19.000000"
      ]
     },
     "execution_count": 30,
     "metadata": {},
     "output_type": "execute_result"
    }
   ],
   "source": [
    "df.describe()"
   ]
  },
  {
   "cell_type": "code",
   "execution_count": 31,
   "id": "ab54de73",
   "metadata": {},
   "outputs": [
    {
     "data": {
      "text/plain": [
       "0     1\n",
       "4     1\n",
       "8     1\n",
       "12    1\n",
       "16    1\n",
       "Name: Column1, dtype: int64"
      ]
     },
     "execution_count": 31,
     "metadata": {},
     "output_type": "execute_result"
    }
   ],
   "source": [
    "#Get the unique category counts\n",
    "df['Column1'].value_counts()"
   ]
  },
  {
   "cell_type": "code",
   "execution_count": 32,
   "id": "f0a9efc3",
   "metadata": {},
   "outputs": [
    {
     "data": {
      "text/html": [
       "<div>\n",
       "<style scoped>\n",
       "    .dataframe tbody tr th:only-of-type {\n",
       "        vertical-align: middle;\n",
       "    }\n",
       "\n",
       "    .dataframe tbody tr th {\n",
       "        vertical-align: top;\n",
       "    }\n",
       "\n",
       "    .dataframe thead th {\n",
       "        text-align: right;\n",
       "    }\n",
       "</style>\n",
       "<table border=\"1\" class=\"dataframe\">\n",
       "  <thead>\n",
       "    <tr style=\"text-align: right;\">\n",
       "      <th></th>\n",
       "      <th>Column1</th>\n",
       "      <th>Column2</th>\n",
       "      <th>Column3</th>\n",
       "      <th>Column4</th>\n",
       "    </tr>\n",
       "  </thead>\n",
       "  <tbody>\n",
       "    <tr>\n",
       "      <th>Row4</th>\n",
       "      <td>12</td>\n",
       "      <td>13</td>\n",
       "      <td>14</td>\n",
       "      <td>15</td>\n",
       "    </tr>\n",
       "    <tr>\n",
       "      <th>Row5</th>\n",
       "      <td>16</td>\n",
       "      <td>17</td>\n",
       "      <td>18</td>\n",
       "      <td>19</td>\n",
       "    </tr>\n",
       "  </tbody>\n",
       "</table>\n",
       "</div>"
      ],
      "text/plain": [
       "      Column1  Column2  Column3  Column4\n",
       "Row4       12       13       14       15\n",
       "Row5       16       17       18       19"
      ]
     },
     "execution_count": 32,
     "metadata": {},
     "output_type": "execute_result"
    }
   ],
   "source": [
    "df[df['Column1']>10]"
   ]
  },
  {
   "cell_type": "code",
   "execution_count": 33,
   "id": "52e94261",
   "metadata": {},
   "outputs": [
    {
     "data": {
      "text/html": [
       "<div>\n",
       "<style scoped>\n",
       "    .dataframe tbody tr th:only-of-type {\n",
       "        vertical-align: middle;\n",
       "    }\n",
       "\n",
       "    .dataframe tbody tr th {\n",
       "        vertical-align: top;\n",
       "    }\n",
       "\n",
       "    .dataframe thead th {\n",
       "        text-align: right;\n",
       "    }\n",
       "</style>\n",
       "<table border=\"1\" class=\"dataframe\">\n",
       "  <thead>\n",
       "    <tr style=\"text-align: right;\">\n",
       "      <th></th>\n",
       "      <th>Column1</th>\n",
       "      <th>Column2</th>\n",
       "      <th>Column3</th>\n",
       "      <th>Column4</th>\n",
       "    </tr>\n",
       "  </thead>\n",
       "  <tbody>\n",
       "    <tr>\n",
       "      <th>Column1</th>\n",
       "      <td>1.0</td>\n",
       "      <td>1.0</td>\n",
       "      <td>1.0</td>\n",
       "      <td>1.0</td>\n",
       "    </tr>\n",
       "    <tr>\n",
       "      <th>Column2</th>\n",
       "      <td>1.0</td>\n",
       "      <td>1.0</td>\n",
       "      <td>1.0</td>\n",
       "      <td>1.0</td>\n",
       "    </tr>\n",
       "    <tr>\n",
       "      <th>Column3</th>\n",
       "      <td>1.0</td>\n",
       "      <td>1.0</td>\n",
       "      <td>1.0</td>\n",
       "      <td>1.0</td>\n",
       "    </tr>\n",
       "    <tr>\n",
       "      <th>Column4</th>\n",
       "      <td>1.0</td>\n",
       "      <td>1.0</td>\n",
       "      <td>1.0</td>\n",
       "      <td>1.0</td>\n",
       "    </tr>\n",
       "  </tbody>\n",
       "</table>\n",
       "</div>"
      ],
      "text/plain": [
       "         Column1  Column2  Column3  Column4\n",
       "Column1      1.0      1.0      1.0      1.0\n",
       "Column2      1.0      1.0      1.0      1.0\n",
       "Column3      1.0      1.0      1.0      1.0\n",
       "Column4      1.0      1.0      1.0      1.0"
      ]
     },
     "execution_count": 33,
     "metadata": {},
     "output_type": "execute_result"
    }
   ],
   "source": [
    "df.corr()"
   ]
  },
  {
   "cell_type": "markdown",
   "id": "0c2e6de1",
   "metadata": {},
   "source": [
    "# Pandas with Numpy"
   ]
  },
  {
   "cell_type": "code",
   "execution_count": 34,
   "id": "c2b2e33d",
   "metadata": {},
   "outputs": [
    {
     "data": {
      "text/html": [
       "<div>\n",
       "<style scoped>\n",
       "    .dataframe tbody tr th:only-of-type {\n",
       "        vertical-align: middle;\n",
       "    }\n",
       "\n",
       "    .dataframe tbody tr th {\n",
       "        vertical-align: top;\n",
       "    }\n",
       "\n",
       "    .dataframe thead th {\n",
       "        text-align: right;\n",
       "    }\n",
       "</style>\n",
       "<table border=\"1\" class=\"dataframe\">\n",
       "  <thead>\n",
       "    <tr style=\"text-align: right;\">\n",
       "      <th></th>\n",
       "      <th>0</th>\n",
       "      <th>1</th>\n",
       "      <th>2</th>\n",
       "    </tr>\n",
       "  </thead>\n",
       "  <tbody>\n",
       "    <tr>\n",
       "      <th>0</th>\n",
       "      <td>1.0</td>\n",
       "      <td>2.0</td>\n",
       "      <td>3.0</td>\n",
       "    </tr>\n",
       "    <tr>\n",
       "      <th>1</th>\n",
       "      <td>3.0</td>\n",
       "      <td>4.0</td>\n",
       "      <td>NaN</td>\n",
       "    </tr>\n",
       "    <tr>\n",
       "      <th>2</th>\n",
       "      <td>5.0</td>\n",
       "      <td>6.0</td>\n",
       "      <td>NaN</td>\n",
       "    </tr>\n",
       "    <tr>\n",
       "      <th>3</th>\n",
       "      <td>NaN</td>\n",
       "      <td>NaN</td>\n",
       "      <td>NaN</td>\n",
       "    </tr>\n",
       "  </tbody>\n",
       "</table>\n",
       "</div>"
      ],
      "text/plain": [
       "     0    1    2\n",
       "0  1.0  2.0  3.0\n",
       "1  3.0  4.0  NaN\n",
       "2  5.0  6.0  NaN\n",
       "3  NaN  NaN  NaN"
      ]
     },
     "execution_count": 34,
     "metadata": {},
     "output_type": "execute_result"
    }
   ],
   "source": [
    "import numpy as np\n",
    "lst_data=[[1,2,3],[3,4,np.nan],[5,6,np.nan],[np.nan,np.nan,np.nan]]\n",
    "df=pd.DataFrame(lst_data)\n",
    "df.head()"
   ]
  },
  {
   "cell_type": "code",
   "execution_count": 35,
   "id": "fc108567",
   "metadata": {},
   "outputs": [
    {
     "data": {
      "text/html": [
       "<div>\n",
       "<style scoped>\n",
       "    .dataframe tbody tr th:only-of-type {\n",
       "        vertical-align: middle;\n",
       "    }\n",
       "\n",
       "    .dataframe tbody tr th {\n",
       "        vertical-align: top;\n",
       "    }\n",
       "\n",
       "    .dataframe thead th {\n",
       "        text-align: right;\n",
       "    }\n",
       "</style>\n",
       "<table border=\"1\" class=\"dataframe\">\n",
       "  <thead>\n",
       "    <tr style=\"text-align: right;\">\n",
       "      <th></th>\n",
       "      <th>0</th>\n",
       "      <th>1</th>\n",
       "      <th>2</th>\n",
       "    </tr>\n",
       "  </thead>\n",
       "  <tbody>\n",
       "    <tr>\n",
       "      <th>0</th>\n",
       "      <td>1.0</td>\n",
       "      <td>2.0</td>\n",
       "      <td>3.0</td>\n",
       "    </tr>\n",
       "  </tbody>\n",
       "</table>\n",
       "</div>"
      ],
      "text/plain": [
       "     0    1    2\n",
       "0  1.0  2.0  3.0"
      ]
     },
     "execution_count": 35,
     "metadata": {},
     "output_type": "execute_result"
    }
   ],
   "source": [
    "## Handling Missing Values\n",
    "## Drop nan values\n",
    "df.dropna(axis=0) ##delete rows that has nan in any of its columns"
   ]
  },
  {
   "cell_type": "code",
   "execution_count": 36,
   "id": "b2909e67",
   "metadata": {},
   "outputs": [
    {
     "data": {
      "text/html": [
       "<div>\n",
       "<style scoped>\n",
       "    .dataframe tbody tr th:only-of-type {\n",
       "        vertical-align: middle;\n",
       "    }\n",
       "\n",
       "    .dataframe tbody tr th {\n",
       "        vertical-align: top;\n",
       "    }\n",
       "\n",
       "    .dataframe thead th {\n",
       "        text-align: right;\n",
       "    }\n",
       "</style>\n",
       "<table border=\"1\" class=\"dataframe\">\n",
       "  <thead>\n",
       "    <tr style=\"text-align: right;\">\n",
       "      <th></th>\n",
       "    </tr>\n",
       "  </thead>\n",
       "  <tbody>\n",
       "    <tr>\n",
       "      <th>0</th>\n",
       "    </tr>\n",
       "    <tr>\n",
       "      <th>1</th>\n",
       "    </tr>\n",
       "    <tr>\n",
       "      <th>2</th>\n",
       "    </tr>\n",
       "    <tr>\n",
       "      <th>3</th>\n",
       "    </tr>\n",
       "  </tbody>\n",
       "</table>\n",
       "</div>"
      ],
      "text/plain": [
       "Empty DataFrame\n",
       "Columns: []\n",
       "Index: [0, 1, 2, 3]"
      ]
     },
     "execution_count": 36,
     "metadata": {},
     "output_type": "execute_result"
    }
   ],
   "source": [
    "df.dropna(axis=1) ##column\n",
    "##columns u generally don't delete as features are important"
   ]
  },
  {
   "cell_type": "code",
   "execution_count": 37,
   "id": "11084917",
   "metadata": {},
   "outputs": [
    {
     "data": {
      "text/html": [
       "<div>\n",
       "<style scoped>\n",
       "    .dataframe tbody tr th:only-of-type {\n",
       "        vertical-align: middle;\n",
       "    }\n",
       "\n",
       "    .dataframe tbody tr th {\n",
       "        vertical-align: top;\n",
       "    }\n",
       "\n",
       "    .dataframe thead th {\n",
       "        text-align: right;\n",
       "    }\n",
       "</style>\n",
       "<table border=\"1\" class=\"dataframe\">\n",
       "  <thead>\n",
       "    <tr style=\"text-align: right;\">\n",
       "      <th></th>\n",
       "      <th>one</th>\n",
       "      <th>two</th>\n",
       "      <th>three</th>\n",
       "    </tr>\n",
       "  </thead>\n",
       "  <tbody>\n",
       "    <tr>\n",
       "      <th>a</th>\n",
       "      <td>1.471043</td>\n",
       "      <td>0.451572</td>\n",
       "      <td>-0.979004</td>\n",
       "    </tr>\n",
       "    <tr>\n",
       "      <th>c</th>\n",
       "      <td>0.191353</td>\n",
       "      <td>0.673606</td>\n",
       "      <td>1.857273</td>\n",
       "    </tr>\n",
       "    <tr>\n",
       "      <th>e</th>\n",
       "      <td>0.410610</td>\n",
       "      <td>-1.841591</td>\n",
       "      <td>-0.041467</td>\n",
       "    </tr>\n",
       "    <tr>\n",
       "      <th>f</th>\n",
       "      <td>-0.646066</td>\n",
       "      <td>-0.230172</td>\n",
       "      <td>0.323051</td>\n",
       "    </tr>\n",
       "    <tr>\n",
       "      <th>h</th>\n",
       "      <td>-0.102675</td>\n",
       "      <td>-0.500811</td>\n",
       "      <td>-1.511218</td>\n",
       "    </tr>\n",
       "  </tbody>\n",
       "</table>\n",
       "</div>"
      ],
      "text/plain": [
       "        one       two     three\n",
       "a  1.471043  0.451572 -0.979004\n",
       "c  0.191353  0.673606  1.857273\n",
       "e  0.410610 -1.841591 -0.041467\n",
       "f -0.646066 -0.230172  0.323051\n",
       "h -0.102675 -0.500811 -1.511218"
      ]
     },
     "execution_count": 37,
     "metadata": {},
     "output_type": "execute_result"
    }
   ],
   "source": [
    "df = pd.DataFrame(np.random.randn(5, 3), index=['a', 'c', 'e', 'f', 'h'],\n",
    "                     columns=['one', 'two', 'three'])\n",
    "df.head()"
   ]
  },
  {
   "cell_type": "code",
   "execution_count": 38,
   "id": "deeaa5b9",
   "metadata": {},
   "outputs": [
    {
     "data": {
      "text/html": [
       "<div>\n",
       "<style scoped>\n",
       "    .dataframe tbody tr th:only-of-type {\n",
       "        vertical-align: middle;\n",
       "    }\n",
       "\n",
       "    .dataframe tbody tr th {\n",
       "        vertical-align: top;\n",
       "    }\n",
       "\n",
       "    .dataframe thead th {\n",
       "        text-align: right;\n",
       "    }\n",
       "</style>\n",
       "<table border=\"1\" class=\"dataframe\">\n",
       "  <thead>\n",
       "    <tr style=\"text-align: right;\">\n",
       "      <th></th>\n",
       "      <th>one</th>\n",
       "      <th>two</th>\n",
       "      <th>three</th>\n",
       "    </tr>\n",
       "  </thead>\n",
       "  <tbody>\n",
       "    <tr>\n",
       "      <th>a</th>\n",
       "      <td>1.471043</td>\n",
       "      <td>0.451572</td>\n",
       "      <td>-0.979004</td>\n",
       "    </tr>\n",
       "    <tr>\n",
       "      <th>b</th>\n",
       "      <td>NaN</td>\n",
       "      <td>NaN</td>\n",
       "      <td>NaN</td>\n",
       "    </tr>\n",
       "    <tr>\n",
       "      <th>c</th>\n",
       "      <td>0.191353</td>\n",
       "      <td>0.673606</td>\n",
       "      <td>1.857273</td>\n",
       "    </tr>\n",
       "    <tr>\n",
       "      <th>d</th>\n",
       "      <td>NaN</td>\n",
       "      <td>NaN</td>\n",
       "      <td>NaN</td>\n",
       "    </tr>\n",
       "    <tr>\n",
       "      <th>e</th>\n",
       "      <td>0.410610</td>\n",
       "      <td>-1.841591</td>\n",
       "      <td>-0.041467</td>\n",
       "    </tr>\n",
       "    <tr>\n",
       "      <th>f</th>\n",
       "      <td>-0.646066</td>\n",
       "      <td>-0.230172</td>\n",
       "      <td>0.323051</td>\n",
       "    </tr>\n",
       "    <tr>\n",
       "      <th>g</th>\n",
       "      <td>NaN</td>\n",
       "      <td>NaN</td>\n",
       "      <td>NaN</td>\n",
       "    </tr>\n",
       "    <tr>\n",
       "      <th>h</th>\n",
       "      <td>-0.102675</td>\n",
       "      <td>-0.500811</td>\n",
       "      <td>-1.511218</td>\n",
       "    </tr>\n",
       "  </tbody>\n",
       "</table>\n",
       "</div>"
      ],
      "text/plain": [
       "        one       two     three\n",
       "a  1.471043  0.451572 -0.979004\n",
       "b       NaN       NaN       NaN\n",
       "c  0.191353  0.673606  1.857273\n",
       "d       NaN       NaN       NaN\n",
       "e  0.410610 -1.841591 -0.041467\n",
       "f -0.646066 -0.230172  0.323051\n",
       "g       NaN       NaN       NaN\n",
       "h -0.102675 -0.500811 -1.511218"
      ]
     },
     "execution_count": 38,
     "metadata": {},
     "output_type": "execute_result"
    }
   ],
   "source": [
    "df2=df.reindex(['a', 'b', 'c', 'd', 'e', 'f', 'g', 'h'])\n",
    "df2"
   ]
  },
  {
   "cell_type": "code",
   "execution_count": 39,
   "id": "ca396af1",
   "metadata": {},
   "outputs": [
    {
     "data": {
      "text/html": [
       "<div>\n",
       "<style scoped>\n",
       "    .dataframe tbody tr th:only-of-type {\n",
       "        vertical-align: middle;\n",
       "    }\n",
       "\n",
       "    .dataframe tbody tr th {\n",
       "        vertical-align: top;\n",
       "    }\n",
       "\n",
       "    .dataframe thead th {\n",
       "        text-align: right;\n",
       "    }\n",
       "</style>\n",
       "<table border=\"1\" class=\"dataframe\">\n",
       "  <thead>\n",
       "    <tr style=\"text-align: right;\">\n",
       "      <th></th>\n",
       "      <th>one</th>\n",
       "      <th>two</th>\n",
       "      <th>three</th>\n",
       "    </tr>\n",
       "  </thead>\n",
       "  <tbody>\n",
       "    <tr>\n",
       "      <th>a</th>\n",
       "      <td>1.471043</td>\n",
       "      <td>0.451572</td>\n",
       "      <td>-0.979004</td>\n",
       "    </tr>\n",
       "    <tr>\n",
       "      <th>c</th>\n",
       "      <td>0.191353</td>\n",
       "      <td>0.673606</td>\n",
       "      <td>1.857273</td>\n",
       "    </tr>\n",
       "    <tr>\n",
       "      <th>e</th>\n",
       "      <td>0.410610</td>\n",
       "      <td>-1.841591</td>\n",
       "      <td>-0.041467</td>\n",
       "    </tr>\n",
       "    <tr>\n",
       "      <th>f</th>\n",
       "      <td>-0.646066</td>\n",
       "      <td>-0.230172</td>\n",
       "      <td>0.323051</td>\n",
       "    </tr>\n",
       "    <tr>\n",
       "      <th>h</th>\n",
       "      <td>-0.102675</td>\n",
       "      <td>-0.500811</td>\n",
       "      <td>-1.511218</td>\n",
       "    </tr>\n",
       "  </tbody>\n",
       "</table>\n",
       "</div>"
      ],
      "text/plain": [
       "        one       two     three\n",
       "a  1.471043  0.451572 -0.979004\n",
       "c  0.191353  0.673606  1.857273\n",
       "e  0.410610 -1.841591 -0.041467\n",
       "f -0.646066 -0.230172  0.323051\n",
       "h -0.102675 -0.500811 -1.511218"
      ]
     },
     "execution_count": 39,
     "metadata": {},
     "output_type": "execute_result"
    }
   ],
   "source": [
    "df2.dropna(axis=0)"
   ]
  },
  {
   "cell_type": "code",
   "execution_count": 40,
   "id": "14827422",
   "metadata": {},
   "outputs": [
    {
     "data": {
      "text/plain": [
       "a    False\n",
       "b     True\n",
       "c    False\n",
       "d     True\n",
       "e    False\n",
       "f    False\n",
       "g     True\n",
       "h    False\n",
       "Name: one, dtype: bool"
      ]
     },
     "execution_count": 40,
     "metadata": {},
     "output_type": "execute_result"
    }
   ],
   "source": [
    "pd.isna(df2['one'])"
   ]
  },
  {
   "cell_type": "code",
   "execution_count": 41,
   "id": "5de2e1e8",
   "metadata": {},
   "outputs": [
    {
     "data": {
      "text/plain": [
       "a     True\n",
       "b    False\n",
       "c     True\n",
       "d    False\n",
       "e     True\n",
       "f     True\n",
       "g    False\n",
       "h     True\n",
       "Name: one, dtype: bool"
      ]
     },
     "execution_count": 41,
     "metadata": {},
     "output_type": "execute_result"
    }
   ],
   "source": [
    "df2['one'].notna()"
   ]
  },
  {
   "cell_type": "code",
   "execution_count": 42,
   "id": "f7a0c617",
   "metadata": {},
   "outputs": [
    {
     "data": {
      "text/html": [
       "<div>\n",
       "<style scoped>\n",
       "    .dataframe tbody tr th:only-of-type {\n",
       "        vertical-align: middle;\n",
       "    }\n",
       "\n",
       "    .dataframe tbody tr th {\n",
       "        vertical-align: top;\n",
       "    }\n",
       "\n",
       "    .dataframe thead th {\n",
       "        text-align: right;\n",
       "    }\n",
       "</style>\n",
       "<table border=\"1\" class=\"dataframe\">\n",
       "  <thead>\n",
       "    <tr style=\"text-align: right;\">\n",
       "      <th></th>\n",
       "      <th>one</th>\n",
       "      <th>two</th>\n",
       "      <th>three</th>\n",
       "    </tr>\n",
       "  </thead>\n",
       "  <tbody>\n",
       "    <tr>\n",
       "      <th>a</th>\n",
       "      <td>1.471043</td>\n",
       "      <td>0.451572</td>\n",
       "      <td>-0.979004</td>\n",
       "    </tr>\n",
       "    <tr>\n",
       "      <th>b</th>\n",
       "      <td>Missing</td>\n",
       "      <td>Missing</td>\n",
       "      <td>Missing</td>\n",
       "    </tr>\n",
       "    <tr>\n",
       "      <th>c</th>\n",
       "      <td>0.191353</td>\n",
       "      <td>0.673606</td>\n",
       "      <td>1.857273</td>\n",
       "    </tr>\n",
       "    <tr>\n",
       "      <th>d</th>\n",
       "      <td>Missing</td>\n",
       "      <td>Missing</td>\n",
       "      <td>Missing</td>\n",
       "    </tr>\n",
       "    <tr>\n",
       "      <th>e</th>\n",
       "      <td>0.41061</td>\n",
       "      <td>-1.841591</td>\n",
       "      <td>-0.041467</td>\n",
       "    </tr>\n",
       "    <tr>\n",
       "      <th>f</th>\n",
       "      <td>-0.646066</td>\n",
       "      <td>-0.230172</td>\n",
       "      <td>0.323051</td>\n",
       "    </tr>\n",
       "    <tr>\n",
       "      <th>g</th>\n",
       "      <td>Missing</td>\n",
       "      <td>Missing</td>\n",
       "      <td>Missing</td>\n",
       "    </tr>\n",
       "    <tr>\n",
       "      <th>h</th>\n",
       "      <td>-0.102675</td>\n",
       "      <td>-0.500811</td>\n",
       "      <td>-1.511218</td>\n",
       "    </tr>\n",
       "  </tbody>\n",
       "</table>\n",
       "</div>"
      ],
      "text/plain": [
       "        one       two     three\n",
       "a  1.471043  0.451572 -0.979004\n",
       "b   Missing   Missing   Missing\n",
       "c  0.191353  0.673606  1.857273\n",
       "d   Missing   Missing   Missing\n",
       "e   0.41061 -1.841591 -0.041467\n",
       "f -0.646066 -0.230172  0.323051\n",
       "g   Missing   Missing   Missing\n",
       "h -0.102675 -0.500811 -1.511218"
      ]
     },
     "execution_count": 42,
     "metadata": {},
     "output_type": "execute_result"
    }
   ],
   "source": [
    "df2.fillna('Missing')"
   ]
  },
  {
   "cell_type": "code",
   "execution_count": 43,
   "id": "c5e6d9b4",
   "metadata": {},
   "outputs": [
    {
     "data": {
      "text/plain": [
       "array([ 1.47104346,         nan,  0.19135286,         nan,  0.41060989,\n",
       "       -0.64606564,         nan, -0.10267494])"
      ]
     },
     "execution_count": 43,
     "metadata": {},
     "output_type": "execute_result"
    }
   ],
   "source": [
    "df2['one'].values"
   ]
  },
  {
   "cell_type": "markdown",
   "id": "f211326a",
   "metadata": {},
   "source": [
    "# CSV"
   ]
  },
  {
   "cell_type": "code",
   "execution_count": 44,
   "id": "f39d25ef",
   "metadata": {},
   "outputs": [
    {
     "data": {
      "text/plain": [
       "str"
      ]
     },
     "execution_count": 44,
     "metadata": {},
     "output_type": "execute_result"
    }
   ],
   "source": [
    "## for dealing with various types of I/O\n",
    "## data can be kept as bytes in an in-memory\n",
    "## buffer when we use the io module’s Byte IO operations.\n",
    "from io import StringIO, BytesIO ##basically, stringio is to read text data which\n",
    "                                ##could be converted to csv as well\n",
    "data = ('col1,col2,col3\\n''x,y,1\\n''a,b,2\\n''c,d,3')\n",
    "type(data)"
   ]
  },
  {
   "cell_type": "code",
   "execution_count": 45,
   "id": "b141d576",
   "metadata": {},
   "outputs": [
    {
     "data": {
      "text/html": [
       "<div>\n",
       "<style scoped>\n",
       "    .dataframe tbody tr th:only-of-type {\n",
       "        vertical-align: middle;\n",
       "    }\n",
       "\n",
       "    .dataframe tbody tr th {\n",
       "        vertical-align: top;\n",
       "    }\n",
       "\n",
       "    .dataframe thead th {\n",
       "        text-align: right;\n",
       "    }\n",
       "</style>\n",
       "<table border=\"1\" class=\"dataframe\">\n",
       "  <thead>\n",
       "    <tr style=\"text-align: right;\">\n",
       "      <th></th>\n",
       "      <th>col1</th>\n",
       "      <th>col2</th>\n",
       "      <th>col3</th>\n",
       "    </tr>\n",
       "  </thead>\n",
       "  <tbody>\n",
       "    <tr>\n",
       "      <th>0</th>\n",
       "      <td>x</td>\n",
       "      <td>y</td>\n",
       "      <td>1</td>\n",
       "    </tr>\n",
       "    <tr>\n",
       "      <th>1</th>\n",
       "      <td>a</td>\n",
       "      <td>b</td>\n",
       "      <td>2</td>\n",
       "    </tr>\n",
       "    <tr>\n",
       "      <th>2</th>\n",
       "      <td>c</td>\n",
       "      <td>d</td>\n",
       "      <td>3</td>\n",
       "    </tr>\n",
       "  </tbody>\n",
       "</table>\n",
       "</div>"
      ],
      "text/plain": [
       "  col1 col2  col3\n",
       "0    x    y     1\n",
       "1    a    b     2\n",
       "2    c    d     3"
      ]
     },
     "execution_count": 45,
     "metadata": {},
     "output_type": "execute_result"
    }
   ],
   "source": [
    "pd.read_csv(StringIO(data))"
   ]
  },
  {
   "cell_type": "code",
   "execution_count": 46,
   "id": "8aaf22aa",
   "metadata": {},
   "outputs": [
    {
     "data": {
      "text/html": [
       "<div>\n",
       "<style scoped>\n",
       "    .dataframe tbody tr th:only-of-type {\n",
       "        vertical-align: middle;\n",
       "    }\n",
       "\n",
       "    .dataframe tbody tr th {\n",
       "        vertical-align: top;\n",
       "    }\n",
       "\n",
       "    .dataframe thead th {\n",
       "        text-align: right;\n",
       "    }\n",
       "</style>\n",
       "<table border=\"1\" class=\"dataframe\">\n",
       "  <thead>\n",
       "    <tr style=\"text-align: right;\">\n",
       "      <th></th>\n",
       "      <th>col1</th>\n",
       "      <th>col3</th>\n",
       "    </tr>\n",
       "  </thead>\n",
       "  <tbody>\n",
       "    <tr>\n",
       "      <th>0</th>\n",
       "      <td>x</td>\n",
       "      <td>1</td>\n",
       "    </tr>\n",
       "    <tr>\n",
       "      <th>1</th>\n",
       "      <td>a</td>\n",
       "      <td>2</td>\n",
       "    </tr>\n",
       "    <tr>\n",
       "      <th>2</th>\n",
       "      <td>c</td>\n",
       "      <td>3</td>\n",
       "    </tr>\n",
       "  </tbody>\n",
       "</table>\n",
       "</div>"
      ],
      "text/plain": [
       "  col1  col3\n",
       "0    x     1\n",
       "1    a     2\n",
       "2    c     3"
      ]
     },
     "execution_count": 46,
     "metadata": {},
     "output_type": "execute_result"
    }
   ],
   "source": [
    "## Read from specific columns ie to retrieve col1 and col3 only\n",
    "df=pd.read_csv(StringIO(data), usecols=['col1', 'col3']) \n",
    "df"
   ]
  },
  {
   "cell_type": "code",
   "execution_count": 47,
   "id": "1396d69d",
   "metadata": {},
   "outputs": [
    {
     "name": "stdout",
     "output_type": "stream",
     "text": [
      "a,b,c,d\n",
      "1,2,3,4\n",
      "5,6,7,8\n",
      "9,10,11\n"
     ]
    }
   ],
   "source": [
    "## Specifying columns data types\n",
    "data = ('a,b,c,d\\n'\n",
    "            '1,2,3,4\\n'\n",
    "            '5,6,7,8\\n'\n",
    "            '9,10,11')\n",
    "print(data)"
   ]
  },
  {
   "cell_type": "code",
   "execution_count": 48,
   "id": "adc1d3be",
   "metadata": {},
   "outputs": [],
   "source": [
    "#to create a file named Test.csv and store in the same folder\n",
    "df.to_csv('Test.csv')"
   ]
  },
  {
   "cell_type": "code",
   "execution_count": 49,
   "id": "8eae6fa5",
   "metadata": {},
   "outputs": [
    {
     "data": {
      "text/html": [
       "<div>\n",
       "<style scoped>\n",
       "    .dataframe tbody tr th:only-of-type {\n",
       "        vertical-align: middle;\n",
       "    }\n",
       "\n",
       "    .dataframe tbody tr th {\n",
       "        vertical-align: top;\n",
       "    }\n",
       "\n",
       "    .dataframe thead th {\n",
       "        text-align: right;\n",
       "    }\n",
       "</style>\n",
       "<table border=\"1\" class=\"dataframe\">\n",
       "  <thead>\n",
       "    <tr style=\"text-align: right;\">\n",
       "      <th></th>\n",
       "      <th>a</th>\n",
       "      <th>b</th>\n",
       "      <th>c</th>\n",
       "      <th>d</th>\n",
       "    </tr>\n",
       "  </thead>\n",
       "  <tbody>\n",
       "    <tr>\n",
       "      <th>0</th>\n",
       "      <td>1</td>\n",
       "      <td>2</td>\n",
       "      <td>3</td>\n",
       "      <td>4</td>\n",
       "    </tr>\n",
       "    <tr>\n",
       "      <th>1</th>\n",
       "      <td>5</td>\n",
       "      <td>6</td>\n",
       "      <td>7</td>\n",
       "      <td>8</td>\n",
       "    </tr>\n",
       "    <tr>\n",
       "      <th>2</th>\n",
       "      <td>9</td>\n",
       "      <td>10</td>\n",
       "      <td>11</td>\n",
       "      <td>NaN</td>\n",
       "    </tr>\n",
       "  </tbody>\n",
       "</table>\n",
       "</div>"
      ],
      "text/plain": [
       "   a   b   c    d\n",
       "0  1   2   3    4\n",
       "1  5   6   7    8\n",
       "2  9  10  11  NaN"
      ]
     },
     "execution_count": 49,
     "metadata": {},
     "output_type": "execute_result"
    }
   ],
   "source": [
    "df=pd.read_csv(StringIO(data),dtype=object)\n",
    "df"
   ]
  },
  {
   "cell_type": "code",
   "execution_count": 50,
   "id": "330180b2",
   "metadata": {},
   "outputs": [
    {
     "data": {
      "text/plain": [
       "'5'"
      ]
     },
     "execution_count": 50,
     "metadata": {},
     "output_type": "execute_result"
    }
   ],
   "source": [
    "df['a'][1]"
   ]
  },
  {
   "cell_type": "code",
   "execution_count": 51,
   "id": "aeaf5bca",
   "metadata": {},
   "outputs": [
    {
     "name": "stderr",
     "output_type": "stream",
     "text": [
      "C:\\Users\\alvia\\AppData\\Local\\Temp\\ipykernel_34184\\3785282432.py:1: DeprecationWarning: `np.float` is a deprecated alias for the builtin `float`. To silence this warning, use `float` by itself. Doing this will not modify any behavior and is safe. If you specifically wanted the numpy scalar type, use `np.float64` here.\n",
      "Deprecated in NumPy 1.20; for more details and guidance: https://numpy.org/devdocs/release/1.20.0-notes.html#deprecations\n",
      "  df=pd.read_csv(StringIO(data),dtype={'b':int,'c':np.float,'a':'Int64'})\n"
     ]
    },
    {
     "data": {
      "text/html": [
       "<div>\n",
       "<style scoped>\n",
       "    .dataframe tbody tr th:only-of-type {\n",
       "        vertical-align: middle;\n",
       "    }\n",
       "\n",
       "    .dataframe tbody tr th {\n",
       "        vertical-align: top;\n",
       "    }\n",
       "\n",
       "    .dataframe thead th {\n",
       "        text-align: right;\n",
       "    }\n",
       "</style>\n",
       "<table border=\"1\" class=\"dataframe\">\n",
       "  <thead>\n",
       "    <tr style=\"text-align: right;\">\n",
       "      <th></th>\n",
       "      <th>a</th>\n",
       "      <th>b</th>\n",
       "      <th>c</th>\n",
       "      <th>d</th>\n",
       "    </tr>\n",
       "  </thead>\n",
       "  <tbody>\n",
       "    <tr>\n",
       "      <th>0</th>\n",
       "      <td>1</td>\n",
       "      <td>2</td>\n",
       "      <td>3.0</td>\n",
       "      <td>4.0</td>\n",
       "    </tr>\n",
       "    <tr>\n",
       "      <th>1</th>\n",
       "      <td>5</td>\n",
       "      <td>6</td>\n",
       "      <td>7.0</td>\n",
       "      <td>8.0</td>\n",
       "    </tr>\n",
       "    <tr>\n",
       "      <th>2</th>\n",
       "      <td>9</td>\n",
       "      <td>10</td>\n",
       "      <td>11.0</td>\n",
       "      <td>NaN</td>\n",
       "    </tr>\n",
       "  </tbody>\n",
       "</table>\n",
       "</div>"
      ],
      "text/plain": [
       "   a   b     c    d\n",
       "0  1   2   3.0  4.0\n",
       "1  5   6   7.0  8.0\n",
       "2  9  10  11.0  NaN"
      ]
     },
     "execution_count": 51,
     "metadata": {},
     "output_type": "execute_result"
    }
   ],
   "source": [
    "df=pd.read_csv(StringIO(data),dtype={'b':int,'c':np.float,'a':'Int64'})\n",
    "df"
   ]
  },
  {
   "cell_type": "code",
   "execution_count": 52,
   "id": "06c67301",
   "metadata": {},
   "outputs": [
    {
     "data": {
      "text/plain": [
       "5"
      ]
     },
     "execution_count": 52,
     "metadata": {},
     "output_type": "execute_result"
    }
   ],
   "source": [
    "df['a'][1]"
   ]
  },
  {
   "cell_type": "code",
   "execution_count": 53,
   "id": "87fca6a5",
   "metadata": {},
   "outputs": [
    {
     "data": {
      "text/plain": [
       "a      Int64\n",
       "b      int32\n",
       "c    float64\n",
       "d    float64\n",
       "dtype: object"
      ]
     },
     "execution_count": 53,
     "metadata": {},
     "output_type": "execute_result"
    }
   ],
   "source": [
    "## check the datatype\n",
    "df.dtypes"
   ]
  },
  {
   "cell_type": "code",
   "execution_count": 54,
   "id": "6110db2d",
   "metadata": {},
   "outputs": [
    {
     "data": {
      "text/html": [
       "<div>\n",
       "<style scoped>\n",
       "    .dataframe tbody tr th:only-of-type {\n",
       "        vertical-align: middle;\n",
       "    }\n",
       "\n",
       "    .dataframe tbody tr th {\n",
       "        vertical-align: top;\n",
       "    }\n",
       "\n",
       "    .dataframe thead th {\n",
       "        text-align: right;\n",
       "    }\n",
       "</style>\n",
       "<table border=\"1\" class=\"dataframe\">\n",
       "  <thead>\n",
       "    <tr style=\"text-align: right;\">\n",
       "      <th></th>\n",
       "      <th>index</th>\n",
       "      <th>a</th>\n",
       "      <th>b</th>\n",
       "      <th>c</th>\n",
       "    </tr>\n",
       "  </thead>\n",
       "  <tbody>\n",
       "    <tr>\n",
       "      <th>0</th>\n",
       "      <td>4</td>\n",
       "      <td>apple</td>\n",
       "      <td>bat</td>\n",
       "      <td>5.7</td>\n",
       "    </tr>\n",
       "    <tr>\n",
       "      <th>1</th>\n",
       "      <td>8</td>\n",
       "      <td>orange</td>\n",
       "      <td>cow</td>\n",
       "      <td>10.0</td>\n",
       "    </tr>\n",
       "  </tbody>\n",
       "</table>\n",
       "</div>"
      ],
      "text/plain": [
       "   index       a    b     c\n",
       "0      4   apple  bat   5.7\n",
       "1      8  orange  cow  10.0"
      ]
     },
     "execution_count": 54,
     "metadata": {},
     "output_type": "execute_result"
    }
   ],
   "source": [
    "## Index columns and training delimiters\n",
    "data = ('index,a,b,c\\n'\n",
    "           '4,apple,bat,5.7\\n'\n",
    "            '8,orange,cow,10')\n",
    "pd.read_csv(StringIO(data))"
   ]
  },
  {
   "cell_type": "code",
   "execution_count": 55,
   "id": "860144e6",
   "metadata": {},
   "outputs": [
    {
     "data": {
      "text/html": [
       "<div>\n",
       "<style scoped>\n",
       "    .dataframe tbody tr th:only-of-type {\n",
       "        vertical-align: middle;\n",
       "    }\n",
       "\n",
       "    .dataframe tbody tr th {\n",
       "        vertical-align: top;\n",
       "    }\n",
       "\n",
       "    .dataframe thead th {\n",
       "        text-align: right;\n",
       "    }\n",
       "</style>\n",
       "<table border=\"1\" class=\"dataframe\">\n",
       "  <thead>\n",
       "    <tr style=\"text-align: right;\">\n",
       "      <th></th>\n",
       "      <th>a</th>\n",
       "      <th>b</th>\n",
       "      <th>c</th>\n",
       "    </tr>\n",
       "    <tr>\n",
       "      <th>index</th>\n",
       "      <th></th>\n",
       "      <th></th>\n",
       "      <th></th>\n",
       "    </tr>\n",
       "  </thead>\n",
       "  <tbody>\n",
       "    <tr>\n",
       "      <th>4</th>\n",
       "      <td>apple</td>\n",
       "      <td>bat</td>\n",
       "      <td>5.7</td>\n",
       "    </tr>\n",
       "    <tr>\n",
       "      <th>8</th>\n",
       "      <td>orange</td>\n",
       "      <td>cow</td>\n",
       "      <td>10.0</td>\n",
       "    </tr>\n",
       "  </tbody>\n",
       "</table>\n",
       "</div>"
      ],
      "text/plain": [
       "            a    b     c\n",
       "index                   \n",
       "4       apple  bat   5.7\n",
       "8      orange  cow  10.0"
      ]
     },
     "execution_count": 55,
     "metadata": {},
     "output_type": "execute_result"
    }
   ],
   "source": [
    "pd.read_csv(StringIO(data),index_col=0) ##to read the first column as index"
   ]
  },
  {
   "cell_type": "code",
   "execution_count": 56,
   "id": "89052158",
   "metadata": {},
   "outputs": [
    {
     "data": {
      "text/html": [
       "<div>\n",
       "<style scoped>\n",
       "    .dataframe tbody tr th:only-of-type {\n",
       "        vertical-align: middle;\n",
       "    }\n",
       "\n",
       "    .dataframe tbody tr th {\n",
       "        vertical-align: top;\n",
       "    }\n",
       "\n",
       "    .dataframe thead th {\n",
       "        text-align: right;\n",
       "    }\n",
       "</style>\n",
       "<table border=\"1\" class=\"dataframe\">\n",
       "  <thead>\n",
       "    <tr style=\"text-align: right;\">\n",
       "      <th></th>\n",
       "      <th>a</th>\n",
       "      <th>b</th>\n",
       "      <th>c</th>\n",
       "    </tr>\n",
       "  </thead>\n",
       "  <tbody>\n",
       "    <tr>\n",
       "      <th>4</th>\n",
       "      <td>apple</td>\n",
       "      <td>bat</td>\n",
       "      <td>NaN</td>\n",
       "    </tr>\n",
       "    <tr>\n",
       "      <th>8</th>\n",
       "      <td>orange</td>\n",
       "      <td>cow</td>\n",
       "      <td>NaN</td>\n",
       "    </tr>\n",
       "  </tbody>\n",
       "</table>\n",
       "</div>"
      ],
      "text/plain": [
       "        a    b   c\n",
       "4   apple  bat NaN\n",
       "8  orange  cow NaN"
      ]
     },
     "execution_count": 56,
     "metadata": {},
     "output_type": "execute_result"
    }
   ],
   "source": [
    "data = ('a,b,c\\n'\n",
    "           '4,apple,bat,\\n'\n",
    "            '8,orange,cow,')\n",
    "pd.read_csv(StringIO(data))"
   ]
  },
  {
   "cell_type": "code",
   "execution_count": 57,
   "id": "6377d0d7",
   "metadata": {},
   "outputs": [
    {
     "data": {
      "text/html": [
       "<div>\n",
       "<style scoped>\n",
       "    .dataframe tbody tr th:only-of-type {\n",
       "        vertical-align: middle;\n",
       "    }\n",
       "\n",
       "    .dataframe tbody tr th {\n",
       "        vertical-align: top;\n",
       "    }\n",
       "\n",
       "    .dataframe thead th {\n",
       "        text-align: right;\n",
       "    }\n",
       "</style>\n",
       "<table border=\"1\" class=\"dataframe\">\n",
       "  <thead>\n",
       "    <tr style=\"text-align: right;\">\n",
       "      <th></th>\n",
       "      <th>a</th>\n",
       "      <th>b</th>\n",
       "      <th>c</th>\n",
       "    </tr>\n",
       "  </thead>\n",
       "  <tbody>\n",
       "    <tr>\n",
       "      <th>0</th>\n",
       "      <td>4</td>\n",
       "      <td>apple</td>\n",
       "      <td>bat</td>\n",
       "    </tr>\n",
       "    <tr>\n",
       "      <th>1</th>\n",
       "      <td>8</td>\n",
       "      <td>orange</td>\n",
       "      <td>cow</td>\n",
       "    </tr>\n",
       "  </tbody>\n",
       "</table>\n",
       "</div>"
      ],
      "text/plain": [
       "   a       b    c\n",
       "0  4   apple  bat\n",
       "1  8  orange  cow"
      ]
     },
     "execution_count": 57,
     "metadata": {},
     "output_type": "execute_result"
    }
   ],
   "source": [
    "pd.read_csv(StringIO(data),index_col=False)"
   ]
  },
  {
   "cell_type": "code",
   "execution_count": 58,
   "id": "2137176f",
   "metadata": {},
   "outputs": [
    {
     "data": {
      "text/html": [
       "<div>\n",
       "<style scoped>\n",
       "    .dataframe tbody tr th:only-of-type {\n",
       "        vertical-align: middle;\n",
       "    }\n",
       "\n",
       "    .dataframe tbody tr th {\n",
       "        vertical-align: top;\n",
       "    }\n",
       "\n",
       "    .dataframe thead th {\n",
       "        text-align: right;\n",
       "    }\n",
       "</style>\n",
       "<table border=\"1\" class=\"dataframe\">\n",
       "  <thead>\n",
       "    <tr style=\"text-align: right;\">\n",
       "      <th></th>\n",
       "      <th>b</th>\n",
       "      <th>c</th>\n",
       "    </tr>\n",
       "  </thead>\n",
       "  <tbody>\n",
       "    <tr>\n",
       "      <th>0</th>\n",
       "      <td>apple</td>\n",
       "      <td>bat</td>\n",
       "    </tr>\n",
       "    <tr>\n",
       "      <th>1</th>\n",
       "      <td>orange</td>\n",
       "      <td>cow</td>\n",
       "    </tr>\n",
       "  </tbody>\n",
       "</table>\n",
       "</div>"
      ],
      "text/plain": [
       "        b    c\n",
       "0   apple  bat\n",
       "1  orange  cow"
      ]
     },
     "execution_count": 58,
     "metadata": {},
     "output_type": "execute_result"
    }
   ],
   "source": [
    "## Combining usecols and index_col\n",
    "data = ('a,b,c\\n'\n",
    "             '4,apple,bat,\\n'\n",
    "                 '8,orange,cow,')\n",
    "pd.read_csv(StringIO(data), usecols=['b', 'c'],index_col=False) # to not use the first column \n",
    "                                                                # as the index index_col=F"
   ]
  },
  {
   "cell_type": "code",
   "execution_count": 59,
   "id": "3ee4d706",
   "metadata": {},
   "outputs": [
    {
     "data": {
      "text/html": [
       "<div>\n",
       "<style scoped>\n",
       "    .dataframe tbody tr th:only-of-type {\n",
       "        vertical-align: middle;\n",
       "    }\n",
       "\n",
       "    .dataframe tbody tr th {\n",
       "        vertical-align: top;\n",
       "    }\n",
       "\n",
       "    .dataframe thead th {\n",
       "        text-align: right;\n",
       "    }\n",
       "</style>\n",
       "<table border=\"1\" class=\"dataframe\">\n",
       "  <thead>\n",
       "    <tr style=\"text-align: right;\">\n",
       "      <th></th>\n",
       "      <th>a</th>\n",
       "      <th>b</th>\n",
       "    </tr>\n",
       "  </thead>\n",
       "  <tbody>\n",
       "    <tr>\n",
       "      <th>0</th>\n",
       "      <td>hello, \"Bob\", nice to see you</td>\n",
       "      <td>5</td>\n",
       "    </tr>\n",
       "  </tbody>\n",
       "</table>\n",
       "</div>"
      ],
      "text/plain": [
       "                               a  b\n",
       "0  hello, \"Bob\", nice to see you  5"
      ]
     },
     "execution_count": 59,
     "metadata": {},
     "output_type": "execute_result"
    }
   ],
   "source": [
    "## Quoting and Escape Characters¶. Very useful in NLP\n",
    "data = 'a,b\\n\"hello, \\\\\"Bob\\\\\", nice to see you\",5'\n",
    "pd.read_csv(StringIO(data),escapechar='\\\\')"
   ]
  },
  {
   "cell_type": "code",
   "execution_count": 60,
   "id": "9a409f16",
   "metadata": {},
   "outputs": [
    {
     "data": {
      "text/html": [
       "<div>\n",
       "<style scoped>\n",
       "    .dataframe tbody tr th:only-of-type {\n",
       "        vertical-align: middle;\n",
       "    }\n",
       "\n",
       "    .dataframe tbody tr th {\n",
       "        vertical-align: top;\n",
       "    }\n",
       "\n",
       "    .dataframe thead th {\n",
       "        text-align: right;\n",
       "    }\n",
       "</style>\n",
       "<table border=\"1\" class=\"dataframe\">\n",
       "  <thead>\n",
       "    <tr style=\"text-align: right;\">\n",
       "      <th></th>\n",
       "      <th>item_code</th>\n",
       "      <th>item_name</th>\n",
       "      <th>display_level</th>\n",
       "      <th>selectable</th>\n",
       "      <th>sort_sequence</th>\n",
       "    </tr>\n",
       "  </thead>\n",
       "  <tbody>\n",
       "    <tr>\n",
       "      <th>0</th>\n",
       "      <td>AA0</td>\n",
       "      <td>All items - old base</td>\n",
       "      <td>0</td>\n",
       "      <td>T</td>\n",
       "      <td>2</td>\n",
       "    </tr>\n",
       "    <tr>\n",
       "      <th>1</th>\n",
       "      <td>AA0R</td>\n",
       "      <td>Purchasing power of the consumer dollar - old ...</td>\n",
       "      <td>0</td>\n",
       "      <td>T</td>\n",
       "      <td>400</td>\n",
       "    </tr>\n",
       "    <tr>\n",
       "      <th>2</th>\n",
       "      <td>SA0</td>\n",
       "      <td>All items</td>\n",
       "      <td>0</td>\n",
       "      <td>T</td>\n",
       "      <td>1</td>\n",
       "    </tr>\n",
       "    <tr>\n",
       "      <th>3</th>\n",
       "      <td>SA0E</td>\n",
       "      <td>Energy</td>\n",
       "      <td>1</td>\n",
       "      <td>T</td>\n",
       "      <td>375</td>\n",
       "    </tr>\n",
       "    <tr>\n",
       "      <th>4</th>\n",
       "      <td>SA0L1</td>\n",
       "      <td>All items less food</td>\n",
       "      <td>1</td>\n",
       "      <td>T</td>\n",
       "      <td>359</td>\n",
       "    </tr>\n",
       "  </tbody>\n",
       "</table>\n",
       "</div>"
      ],
      "text/plain": [
       "  item_code                                          item_name  display_level  \\\n",
       "0       AA0                               All items - old base              0   \n",
       "1      AA0R  Purchasing power of the consumer dollar - old ...              0   \n",
       "2       SA0                                          All items              0   \n",
       "3      SA0E                                             Energy              1   \n",
       "4     SA0L1                                All items less food              1   \n",
       "\n",
       "  selectable  sort_sequence  \n",
       "0          T              2  \n",
       "1          T            400  \n",
       "2          T              1  \n",
       "3          T            375  \n",
       "4          T            359  "
      ]
     },
     "execution_count": 60,
     "metadata": {},
     "output_type": "execute_result"
    }
   ],
   "source": [
    "## URL to CSV\n",
    "df=pd.read_csv('https://download.bls.gov/pub/time.series/cu/cu.item',\n",
    "                 sep='\\t')\n",
    "df.head()"
   ]
  },
  {
   "cell_type": "code",
   "execution_count": 61,
   "id": "4bb05158",
   "metadata": {},
   "outputs": [
    {
     "data": {
      "text/html": [
       "<div>\n",
       "<style scoped>\n",
       "    .dataframe tbody tr th:only-of-type {\n",
       "        vertical-align: middle;\n",
       "    }\n",
       "\n",
       "    .dataframe tbody tr th {\n",
       "        vertical-align: top;\n",
       "    }\n",
       "\n",
       "    .dataframe thead th {\n",
       "        text-align: right;\n",
       "    }\n",
       "</style>\n",
       "<table border=\"1\" class=\"dataframe\">\n",
       "  <thead>\n",
       "    <tr style=\"text-align: right;\">\n",
       "      <th></th>\n",
       "      <th>employee_name</th>\n",
       "      <th>email</th>\n",
       "      <th>job_profile</th>\n",
       "    </tr>\n",
       "  </thead>\n",
       "  <tbody>\n",
       "    <tr>\n",
       "      <th>0</th>\n",
       "      <td>James</td>\n",
       "      <td>james@gmail.com</td>\n",
       "      <td>{'title1': 'Team Lead', 'title2': 'Sr. Develop...</td>\n",
       "    </tr>\n",
       "  </tbody>\n",
       "</table>\n",
       "</div>"
      ],
      "text/plain": [
       "  employee_name            email  \\\n",
       "0         James  james@gmail.com   \n",
       "\n",
       "                                         job_profile  \n",
       "0  {'title1': 'Team Lead', 'title2': 'Sr. Develop...  "
      ]
     },
     "execution_count": 61,
     "metadata": {},
     "output_type": "execute_result"
    }
   ],
   "source": [
    "## Read Json to CSV\n",
    "Data = '{\"employee_name\": \"James\", \"email\": \"james@gmail.com\", \"job_profile\": [{\"title1\":\"Team Lead\", \"title2\":\"Sr. Developer\"}]}'\n",
    "pd.read_json(Data)"
   ]
  },
  {
   "cell_type": "code",
   "execution_count": 62,
   "id": "9e1c2059",
   "metadata": {},
   "outputs": [
    {
     "data": {
      "text/html": [
       "<div>\n",
       "<style scoped>\n",
       "    .dataframe tbody tr th:only-of-type {\n",
       "        vertical-align: middle;\n",
       "    }\n",
       "\n",
       "    .dataframe tbody tr th {\n",
       "        vertical-align: top;\n",
       "    }\n",
       "\n",
       "    .dataframe thead th {\n",
       "        text-align: right;\n",
       "    }\n",
       "</style>\n",
       "<table border=\"1\" class=\"dataframe\">\n",
       "  <thead>\n",
       "    <tr style=\"text-align: right;\">\n",
       "      <th></th>\n",
       "      <th>0</th>\n",
       "      <th>1</th>\n",
       "      <th>2</th>\n",
       "      <th>3</th>\n",
       "      <th>4</th>\n",
       "      <th>5</th>\n",
       "      <th>6</th>\n",
       "      <th>7</th>\n",
       "      <th>8</th>\n",
       "      <th>9</th>\n",
       "      <th>10</th>\n",
       "      <th>11</th>\n",
       "      <th>12</th>\n",
       "      <th>13</th>\n",
       "    </tr>\n",
       "  </thead>\n",
       "  <tbody>\n",
       "    <tr>\n",
       "      <th>0</th>\n",
       "      <td>1</td>\n",
       "      <td>14.23</td>\n",
       "      <td>1.71</td>\n",
       "      <td>2.43</td>\n",
       "      <td>15.6</td>\n",
       "      <td>127</td>\n",
       "      <td>2.80</td>\n",
       "      <td>3.06</td>\n",
       "      <td>0.28</td>\n",
       "      <td>2.29</td>\n",
       "      <td>5.64</td>\n",
       "      <td>1.04</td>\n",
       "      <td>3.92</td>\n",
       "      <td>1065</td>\n",
       "    </tr>\n",
       "    <tr>\n",
       "      <th>1</th>\n",
       "      <td>1</td>\n",
       "      <td>13.20</td>\n",
       "      <td>1.78</td>\n",
       "      <td>2.14</td>\n",
       "      <td>11.2</td>\n",
       "      <td>100</td>\n",
       "      <td>2.65</td>\n",
       "      <td>2.76</td>\n",
       "      <td>0.26</td>\n",
       "      <td>1.28</td>\n",
       "      <td>4.38</td>\n",
       "      <td>1.05</td>\n",
       "      <td>3.40</td>\n",
       "      <td>1050</td>\n",
       "    </tr>\n",
       "    <tr>\n",
       "      <th>2</th>\n",
       "      <td>1</td>\n",
       "      <td>13.16</td>\n",
       "      <td>2.36</td>\n",
       "      <td>2.67</td>\n",
       "      <td>18.6</td>\n",
       "      <td>101</td>\n",
       "      <td>2.80</td>\n",
       "      <td>3.24</td>\n",
       "      <td>0.30</td>\n",
       "      <td>2.81</td>\n",
       "      <td>5.68</td>\n",
       "      <td>1.03</td>\n",
       "      <td>3.17</td>\n",
       "      <td>1185</td>\n",
       "    </tr>\n",
       "    <tr>\n",
       "      <th>3</th>\n",
       "      <td>1</td>\n",
       "      <td>14.37</td>\n",
       "      <td>1.95</td>\n",
       "      <td>2.50</td>\n",
       "      <td>16.8</td>\n",
       "      <td>113</td>\n",
       "      <td>3.85</td>\n",
       "      <td>3.49</td>\n",
       "      <td>0.24</td>\n",
       "      <td>2.18</td>\n",
       "      <td>7.80</td>\n",
       "      <td>0.86</td>\n",
       "      <td>3.45</td>\n",
       "      <td>1480</td>\n",
       "    </tr>\n",
       "    <tr>\n",
       "      <th>4</th>\n",
       "      <td>1</td>\n",
       "      <td>13.24</td>\n",
       "      <td>2.59</td>\n",
       "      <td>2.87</td>\n",
       "      <td>21.0</td>\n",
       "      <td>118</td>\n",
       "      <td>2.80</td>\n",
       "      <td>2.69</td>\n",
       "      <td>0.39</td>\n",
       "      <td>1.82</td>\n",
       "      <td>4.32</td>\n",
       "      <td>1.04</td>\n",
       "      <td>2.93</td>\n",
       "      <td>735</td>\n",
       "    </tr>\n",
       "  </tbody>\n",
       "</table>\n",
       "</div>"
      ],
      "text/plain": [
       "   0      1     2     3     4    5     6     7     8     9     10    11    12  \\\n",
       "0   1  14.23  1.71  2.43  15.6  127  2.80  3.06  0.28  2.29  5.64  1.04  3.92   \n",
       "1   1  13.20  1.78  2.14  11.2  100  2.65  2.76  0.26  1.28  4.38  1.05  3.40   \n",
       "2   1  13.16  2.36  2.67  18.6  101  2.80  3.24  0.30  2.81  5.68  1.03  3.17   \n",
       "3   1  14.37  1.95  2.50  16.8  113  3.85  3.49  0.24  2.18  7.80  0.86  3.45   \n",
       "4   1  13.24  2.59  2.87  21.0  118  2.80  2.69  0.39  1.82  4.32  1.04  2.93   \n",
       "\n",
       "     13  \n",
       "0  1065  \n",
       "1  1050  \n",
       "2  1185  \n",
       "3  1480  \n",
       "4   735  "
      ]
     },
     "execution_count": 62,
     "metadata": {},
     "output_type": "execute_result"
    }
   ],
   "source": [
    "df = pd.read_csv('https://archive.ics.uci.edu/ml/machine-learning-databases/wine/wine.data', header=None)\n",
    "df.head()"
   ]
  },
  {
   "cell_type": "code",
   "execution_count": 63,
   "id": "de66795f",
   "metadata": {},
   "outputs": [
    {
     "data": {
      "text/plain": [
       "'{\"0\":{\"0\":1,\"1\":14.23,\"2\":1.71,\"3\":2.43,\"4\":15.6,\"5\":127,\"6\":2.8,\"7\":3.06,\"8\":0.28,\"9\":2.29,\"10\":5.64,\"11\":1.04,\"12\":3.92,\"13\":1065},\"1\":{\"0\":1,\"1\":13.2,\"2\":1.78,\"3\":2.14,\"4\":11.2,\"5\":100,\"6\":2.65,\"7\":2.76,\"8\":0.26,\"9\":1.28,\"10\":4.38,\"11\":1.05,\"12\":3.4,\"13\":1050},\"2\":{\"0\":1,\"1\":13.16,\"2\":2.36,\"3\":2.67,\"4\":18.6,\"5\":101,\"6\":2.8,\"7\":3.24,\"8\":0.3,\"9\":2.81,\"10\":5.68,\"11\":1.03,\"12\":3.17,\"13\":1185},\"3\":{\"0\":1,\"1\":14.37,\"2\":1.95,\"3\":2.5,\"4\":16.8,\"5\":113,\"6\":3.85,\"7\":3.49,\"8\":0.24,\"9\":2.18,\"10\":7.8,\"11\":0.86,\"12\":3.45,\"13\":1480},\"4\":{\"0\":1,\"1\":13.24,\"2\":2.59,\"3\":2.87,\"4\":21.0,\"5\":118,\"6\":2.8,\"7\":2.69,\"8\":0.39,\"9\":1.82,\"10\":4.32,\"11\":1.04,\"12\":2.93,\"13\":735},\"5\":{\"0\":1,\"1\":14.2,\"2\":1.76,\"3\":2.45,\"4\":15.2,\"5\":112,\"6\":3.27,\"7\":3.39,\"8\":0.34,\"9\":1.97,\"10\":6.75,\"11\":1.05,\"12\":2.85,\"13\":1450},\"6\":{\"0\":1,\"1\":14.39,\"2\":1.87,\"3\":2.45,\"4\":14.6,\"5\":96,\"6\":2.5,\"7\":2.52,\"8\":0.3,\"9\":1.98,\"10\":5.25,\"11\":1.02,\"12\":3.58,\"13\":1290},\"7\":{\"0\":1,\"1\":14.06,\"2\":2.15,\"3\":2.61,\"4\":17.6,\"5\":121,\"6\":2.6,\"7\":2.51,\"8\":0.31,\"9\":1.25,\"10\":5.05,\"11\":1.06,\"12\":3.58,\"13\":1295},\"8\":{\"0\":1,\"1\":14.83,\"2\":1.64,\"3\":2.17,\"4\":14.0,\"5\":97,\"6\":2.8,\"7\":2.98,\"8\":0.29,\"9\":1.98,\"10\":5.2,\"11\":1.08,\"12\":2.85,\"13\":1045},\"9\":{\"0\":1,\"1\":13.86,\"2\":1.35,\"3\":2.27,\"4\":16.0,\"5\":98,\"6\":2.98,\"7\":3.15,\"8\":0.22,\"9\":1.85,\"10\":7.22,\"11\":1.01,\"12\":3.55,\"13\":1045},\"10\":{\"0\":1,\"1\":14.1,\"2\":2.16,\"3\":2.3,\"4\":18.0,\"5\":105,\"6\":2.95,\"7\":3.32,\"8\":0.22,\"9\":2.38,\"10\":5.75,\"11\":1.25,\"12\":3.17,\"13\":1510},\"11\":{\"0\":1,\"1\":14.12,\"2\":1.48,\"3\":2.32,\"4\":16.8,\"5\":95,\"6\":2.2,\"7\":2.43,\"8\":0.26,\"9\":1.57,\"10\":5.0,\"11\":1.17,\"12\":2.82,\"13\":1280},\"12\":{\"0\":1,\"1\":13.75,\"2\":1.73,\"3\":2.41,\"4\":16.0,\"5\":89,\"6\":2.6,\"7\":2.76,\"8\":0.29,\"9\":1.81,\"10\":5.6,\"11\":1.15,\"12\":2.9,\"13\":1320},\"13\":{\"0\":1,\"1\":14.75,\"2\":1.73,\"3\":2.39,\"4\":11.4,\"5\":91,\"6\":3.1,\"7\":3.69,\"8\":0.43,\"9\":2.81,\"10\":5.4,\"11\":1.25,\"12\":2.73,\"13\":1150},\"14\":{\"0\":1,\"1\":14.38,\"2\":1.87,\"3\":2.38,\"4\":12.0,\"5\":102,\"6\":3.3,\"7\":3.64,\"8\":0.29,\"9\":2.96,\"10\":7.5,\"11\":1.2,\"12\":3.0,\"13\":1547},\"15\":{\"0\":1,\"1\":13.63,\"2\":1.81,\"3\":2.7,\"4\":17.2,\"5\":112,\"6\":2.85,\"7\":2.91,\"8\":0.3,\"9\":1.46,\"10\":7.3,\"11\":1.28,\"12\":2.88,\"13\":1310},\"16\":{\"0\":1,\"1\":14.3,\"2\":1.92,\"3\":2.72,\"4\":20.0,\"5\":120,\"6\":2.8,\"7\":3.14,\"8\":0.33,\"9\":1.97,\"10\":6.2,\"11\":1.07,\"12\":2.65,\"13\":1280},\"17\":{\"0\":1,\"1\":13.83,\"2\":1.57,\"3\":2.62,\"4\":20.0,\"5\":115,\"6\":2.95,\"7\":3.4,\"8\":0.4,\"9\":1.72,\"10\":6.6,\"11\":1.13,\"12\":2.57,\"13\":1130},\"18\":{\"0\":1,\"1\":14.19,\"2\":1.59,\"3\":2.48,\"4\":16.5,\"5\":108,\"6\":3.3,\"7\":3.93,\"8\":0.32,\"9\":1.86,\"10\":8.7,\"11\":1.23,\"12\":2.82,\"13\":1680},\"19\":{\"0\":1,\"1\":13.64,\"2\":3.1,\"3\":2.56,\"4\":15.2,\"5\":116,\"6\":2.7,\"7\":3.03,\"8\":0.17,\"9\":1.66,\"10\":5.1,\"11\":0.96,\"12\":3.36,\"13\":845},\"20\":{\"0\":1,\"1\":14.06,\"2\":1.63,\"3\":2.28,\"4\":16.0,\"5\":126,\"6\":3.0,\"7\":3.17,\"8\":0.24,\"9\":2.1,\"10\":5.65,\"11\":1.09,\"12\":3.71,\"13\":780},\"21\":{\"0\":1,\"1\":12.93,\"2\":3.8,\"3\":2.65,\"4\":18.6,\"5\":102,\"6\":2.41,\"7\":2.41,\"8\":0.25,\"9\":1.98,\"10\":4.5,\"11\":1.03,\"12\":3.52,\"13\":770},\"22\":{\"0\":1,\"1\":13.71,\"2\":1.86,\"3\":2.36,\"4\":16.6,\"5\":101,\"6\":2.61,\"7\":2.88,\"8\":0.27,\"9\":1.69,\"10\":3.8,\"11\":1.11,\"12\":4.0,\"13\":1035},\"23\":{\"0\":1,\"1\":12.85,\"2\":1.6,\"3\":2.52,\"4\":17.8,\"5\":95,\"6\":2.48,\"7\":2.37,\"8\":0.26,\"9\":1.46,\"10\":3.93,\"11\":1.09,\"12\":3.63,\"13\":1015},\"24\":{\"0\":1,\"1\":13.5,\"2\":1.81,\"3\":2.61,\"4\":20.0,\"5\":96,\"6\":2.53,\"7\":2.61,\"8\":0.28,\"9\":1.66,\"10\":3.52,\"11\":1.12,\"12\":3.82,\"13\":845},\"25\":{\"0\":1,\"1\":13.05,\"2\":2.05,\"3\":3.22,\"4\":25.0,\"5\":124,\"6\":2.63,\"7\":2.68,\"8\":0.47,\"9\":1.92,\"10\":3.58,\"11\":1.13,\"12\":3.2,\"13\":830},\"26\":{\"0\":1,\"1\":13.39,\"2\":1.77,\"3\":2.62,\"4\":16.1,\"5\":93,\"6\":2.85,\"7\":2.94,\"8\":0.34,\"9\":1.45,\"10\":4.8,\"11\":0.92,\"12\":3.22,\"13\":1195},\"27\":{\"0\":1,\"1\":13.3,\"2\":1.72,\"3\":2.14,\"4\":17.0,\"5\":94,\"6\":2.4,\"7\":2.19,\"8\":0.27,\"9\":1.35,\"10\":3.95,\"11\":1.02,\"12\":2.77,\"13\":1285},\"28\":{\"0\":1,\"1\":13.87,\"2\":1.9,\"3\":2.8,\"4\":19.4,\"5\":107,\"6\":2.95,\"7\":2.97,\"8\":0.37,\"9\":1.76,\"10\":4.5,\"11\":1.25,\"12\":3.4,\"13\":915},\"29\":{\"0\":1,\"1\":14.02,\"2\":1.68,\"3\":2.21,\"4\":16.0,\"5\":96,\"6\":2.65,\"7\":2.33,\"8\":0.26,\"9\":1.98,\"10\":4.7,\"11\":1.04,\"12\":3.59,\"13\":1035},\"30\":{\"0\":1,\"1\":13.73,\"2\":1.5,\"3\":2.7,\"4\":22.5,\"5\":101,\"6\":3.0,\"7\":3.25,\"8\":0.29,\"9\":2.38,\"10\":5.7,\"11\":1.19,\"12\":2.71,\"13\":1285},\"31\":{\"0\":1,\"1\":13.58,\"2\":1.66,\"3\":2.36,\"4\":19.1,\"5\":106,\"6\":2.86,\"7\":3.19,\"8\":0.22,\"9\":1.95,\"10\":6.9,\"11\":1.09,\"12\":2.88,\"13\":1515},\"32\":{\"0\":1,\"1\":13.68,\"2\":1.83,\"3\":2.36,\"4\":17.2,\"5\":104,\"6\":2.42,\"7\":2.69,\"8\":0.42,\"9\":1.97,\"10\":3.84,\"11\":1.23,\"12\":2.87,\"13\":990},\"33\":{\"0\":1,\"1\":13.76,\"2\":1.53,\"3\":2.7,\"4\":19.5,\"5\":132,\"6\":2.95,\"7\":2.74,\"8\":0.5,\"9\":1.35,\"10\":5.4,\"11\":1.25,\"12\":3.0,\"13\":1235},\"34\":{\"0\":1,\"1\":13.51,\"2\":1.8,\"3\":2.65,\"4\":19.0,\"5\":110,\"6\":2.35,\"7\":2.53,\"8\":0.29,\"9\":1.54,\"10\":4.2,\"11\":1.1,\"12\":2.87,\"13\":1095},\"35\":{\"0\":1,\"1\":13.48,\"2\":1.81,\"3\":2.41,\"4\":20.5,\"5\":100,\"6\":2.7,\"7\":2.98,\"8\":0.26,\"9\":1.86,\"10\":5.1,\"11\":1.04,\"12\":3.47,\"13\":920},\"36\":{\"0\":1,\"1\":13.28,\"2\":1.64,\"3\":2.84,\"4\":15.5,\"5\":110,\"6\":2.6,\"7\":2.68,\"8\":0.34,\"9\":1.36,\"10\":4.6,\"11\":1.09,\"12\":2.78,\"13\":880},\"37\":{\"0\":1,\"1\":13.05,\"2\":1.65,\"3\":2.55,\"4\":18.0,\"5\":98,\"6\":2.45,\"7\":2.43,\"8\":0.29,\"9\":1.44,\"10\":4.25,\"11\":1.12,\"12\":2.51,\"13\":1105},\"38\":{\"0\":1,\"1\":13.07,\"2\":1.5,\"3\":2.1,\"4\":15.5,\"5\":98,\"6\":2.4,\"7\":2.64,\"8\":0.28,\"9\":1.37,\"10\":3.7,\"11\":1.18,\"12\":2.69,\"13\":1020},\"39\":{\"0\":1,\"1\":14.22,\"2\":3.99,\"3\":2.51,\"4\":13.2,\"5\":128,\"6\":3.0,\"7\":3.04,\"8\":0.2,\"9\":2.08,\"10\":5.1,\"11\":0.89,\"12\":3.53,\"13\":760},\"40\":{\"0\":1,\"1\":13.56,\"2\":1.71,\"3\":2.31,\"4\":16.2,\"5\":117,\"6\":3.15,\"7\":3.29,\"8\":0.34,\"9\":2.34,\"10\":6.13,\"11\":0.95,\"12\":3.38,\"13\":795},\"41\":{\"0\":1,\"1\":13.41,\"2\":3.84,\"3\":2.12,\"4\":18.8,\"5\":90,\"6\":2.45,\"7\":2.68,\"8\":0.27,\"9\":1.48,\"10\":4.28,\"11\":0.91,\"12\":3.0,\"13\":1035},\"42\":{\"0\":1,\"1\":13.88,\"2\":1.89,\"3\":2.59,\"4\":15.0,\"5\":101,\"6\":3.25,\"7\":3.56,\"8\":0.17,\"9\":1.7,\"10\":5.43,\"11\":0.88,\"12\":3.56,\"13\":1095},\"43\":{\"0\":1,\"1\":13.24,\"2\":3.98,\"3\":2.29,\"4\":17.5,\"5\":103,\"6\":2.64,\"7\":2.63,\"8\":0.32,\"9\":1.66,\"10\":4.36,\"11\":0.82,\"12\":3.0,\"13\":680},\"44\":{\"0\":1,\"1\":13.05,\"2\":1.77,\"3\":2.1,\"4\":17.0,\"5\":107,\"6\":3.0,\"7\":3.0,\"8\":0.28,\"9\":2.03,\"10\":5.04,\"11\":0.88,\"12\":3.35,\"13\":885},\"45\":{\"0\":1,\"1\":14.21,\"2\":4.04,\"3\":2.44,\"4\":18.9,\"5\":111,\"6\":2.85,\"7\":2.65,\"8\":0.3,\"9\":1.25,\"10\":5.24,\"11\":0.87,\"12\":3.33,\"13\":1080},\"46\":{\"0\":1,\"1\":14.38,\"2\":3.59,\"3\":2.28,\"4\":16.0,\"5\":102,\"6\":3.25,\"7\":3.17,\"8\":0.27,\"9\":2.19,\"10\":4.9,\"11\":1.04,\"12\":3.44,\"13\":1065},\"47\":{\"0\":1,\"1\":13.9,\"2\":1.68,\"3\":2.12,\"4\":16.0,\"5\":101,\"6\":3.1,\"7\":3.39,\"8\":0.21,\"9\":2.14,\"10\":6.1,\"11\":0.91,\"12\":3.33,\"13\":985},\"48\":{\"0\":1,\"1\":14.1,\"2\":2.02,\"3\":2.4,\"4\":18.8,\"5\":103,\"6\":2.75,\"7\":2.92,\"8\":0.32,\"9\":2.38,\"10\":6.2,\"11\":1.07,\"12\":2.75,\"13\":1060},\"49\":{\"0\":1,\"1\":13.94,\"2\":1.73,\"3\":2.27,\"4\":17.4,\"5\":108,\"6\":2.88,\"7\":3.54,\"8\":0.32,\"9\":2.08,\"10\":8.9,\"11\":1.12,\"12\":3.1,\"13\":1260},\"50\":{\"0\":1,\"1\":13.05,\"2\":1.73,\"3\":2.04,\"4\":12.4,\"5\":92,\"6\":2.72,\"7\":3.27,\"8\":0.17,\"9\":2.91,\"10\":7.2,\"11\":1.12,\"12\":2.91,\"13\":1150},\"51\":{\"0\":1,\"1\":13.83,\"2\":1.65,\"3\":2.6,\"4\":17.2,\"5\":94,\"6\":2.45,\"7\":2.99,\"8\":0.22,\"9\":2.29,\"10\":5.6,\"11\":1.24,\"12\":3.37,\"13\":1265},\"52\":{\"0\":1,\"1\":13.82,\"2\":1.75,\"3\":2.42,\"4\":14.0,\"5\":111,\"6\":3.88,\"7\":3.74,\"8\":0.32,\"9\":1.87,\"10\":7.05,\"11\":1.01,\"12\":3.26,\"13\":1190},\"53\":{\"0\":1,\"1\":13.77,\"2\":1.9,\"3\":2.68,\"4\":17.1,\"5\":115,\"6\":3.0,\"7\":2.79,\"8\":0.39,\"9\":1.68,\"10\":6.3,\"11\":1.13,\"12\":2.93,\"13\":1375},\"54\":{\"0\":1,\"1\":13.74,\"2\":1.67,\"3\":2.25,\"4\":16.4,\"5\":118,\"6\":2.6,\"7\":2.9,\"8\":0.21,\"9\":1.62,\"10\":5.85,\"11\":0.92,\"12\":3.2,\"13\":1060},\"55\":{\"0\":1,\"1\":13.56,\"2\":1.73,\"3\":2.46,\"4\":20.5,\"5\":116,\"6\":2.96,\"7\":2.78,\"8\":0.2,\"9\":2.45,\"10\":6.25,\"11\":0.98,\"12\":3.03,\"13\":1120},\"56\":{\"0\":1,\"1\":14.22,\"2\":1.7,\"3\":2.3,\"4\":16.3,\"5\":118,\"6\":3.2,\"7\":3.0,\"8\":0.26,\"9\":2.03,\"10\":6.38,\"11\":0.94,\"12\":3.31,\"13\":970},\"57\":{\"0\":1,\"1\":13.29,\"2\":1.97,\"3\":2.68,\"4\":16.8,\"5\":102,\"6\":3.0,\"7\":3.23,\"8\":0.31,\"9\":1.66,\"10\":6.0,\"11\":1.07,\"12\":2.84,\"13\":1270},\"58\":{\"0\":1,\"1\":13.72,\"2\":1.43,\"3\":2.5,\"4\":16.7,\"5\":108,\"6\":3.4,\"7\":3.67,\"8\":0.19,\"9\":2.04,\"10\":6.8,\"11\":0.89,\"12\":2.87,\"13\":1285},\"59\":{\"0\":2,\"1\":12.37,\"2\":0.94,\"3\":1.36,\"4\":10.6,\"5\":88,\"6\":1.98,\"7\":0.57,\"8\":0.28,\"9\":0.42,\"10\":1.95,\"11\":1.05,\"12\":1.82,\"13\":520},\"60\":{\"0\":2,\"1\":12.33,\"2\":1.1,\"3\":2.28,\"4\":16.0,\"5\":101,\"6\":2.05,\"7\":1.09,\"8\":0.63,\"9\":0.41,\"10\":3.27,\"11\":1.25,\"12\":1.67,\"13\":680},\"61\":{\"0\":2,\"1\":12.64,\"2\":1.36,\"3\":2.02,\"4\":16.8,\"5\":100,\"6\":2.02,\"7\":1.41,\"8\":0.53,\"9\":0.62,\"10\":5.75,\"11\":0.98,\"12\":1.59,\"13\":450},\"62\":{\"0\":2,\"1\":13.67,\"2\":1.25,\"3\":1.92,\"4\":18.0,\"5\":94,\"6\":2.1,\"7\":1.79,\"8\":0.32,\"9\":0.73,\"10\":3.8,\"11\":1.23,\"12\":2.46,\"13\":630},\"63\":{\"0\":2,\"1\":12.37,\"2\":1.13,\"3\":2.16,\"4\":19.0,\"5\":87,\"6\":3.5,\"7\":3.1,\"8\":0.19,\"9\":1.87,\"10\":4.45,\"11\":1.22,\"12\":2.87,\"13\":420},\"64\":{\"0\":2,\"1\":12.17,\"2\":1.45,\"3\":2.53,\"4\":19.0,\"5\":104,\"6\":1.89,\"7\":1.75,\"8\":0.45,\"9\":1.03,\"10\":2.95,\"11\":1.45,\"12\":2.23,\"13\":355},\"65\":{\"0\":2,\"1\":12.37,\"2\":1.21,\"3\":2.56,\"4\":18.1,\"5\":98,\"6\":2.42,\"7\":2.65,\"8\":0.37,\"9\":2.08,\"10\":4.6,\"11\":1.19,\"12\":2.3,\"13\":678},\"66\":{\"0\":2,\"1\":13.11,\"2\":1.01,\"3\":1.7,\"4\":15.0,\"5\":78,\"6\":2.98,\"7\":3.18,\"8\":0.26,\"9\":2.28,\"10\":5.3,\"11\":1.12,\"12\":3.18,\"13\":502},\"67\":{\"0\":2,\"1\":12.37,\"2\":1.17,\"3\":1.92,\"4\":19.6,\"5\":78,\"6\":2.11,\"7\":2.0,\"8\":0.27,\"9\":1.04,\"10\":4.68,\"11\":1.12,\"12\":3.48,\"13\":510},\"68\":{\"0\":2,\"1\":13.34,\"2\":0.94,\"3\":2.36,\"4\":17.0,\"5\":110,\"6\":2.53,\"7\":1.3,\"8\":0.55,\"9\":0.42,\"10\":3.17,\"11\":1.02,\"12\":1.93,\"13\":750},\"69\":{\"0\":2,\"1\":12.21,\"2\":1.19,\"3\":1.75,\"4\":16.8,\"5\":151,\"6\":1.85,\"7\":1.28,\"8\":0.14,\"9\":2.5,\"10\":2.85,\"11\":1.28,\"12\":3.07,\"13\":718},\"70\":{\"0\":2,\"1\":12.29,\"2\":1.61,\"3\":2.21,\"4\":20.4,\"5\":103,\"6\":1.1,\"7\":1.02,\"8\":0.37,\"9\":1.46,\"10\":3.05,\"11\":0.906,\"12\":1.82,\"13\":870},\"71\":{\"0\":2,\"1\":13.86,\"2\":1.51,\"3\":2.67,\"4\":25.0,\"5\":86,\"6\":2.95,\"7\":2.86,\"8\":0.21,\"9\":1.87,\"10\":3.38,\"11\":1.36,\"12\":3.16,\"13\":410},\"72\":{\"0\":2,\"1\":13.49,\"2\":1.66,\"3\":2.24,\"4\":24.0,\"5\":87,\"6\":1.88,\"7\":1.84,\"8\":0.27,\"9\":1.03,\"10\":3.74,\"11\":0.98,\"12\":2.78,\"13\":472},\"73\":{\"0\":2,\"1\":12.99,\"2\":1.67,\"3\":2.6,\"4\":30.0,\"5\":139,\"6\":3.3,\"7\":2.89,\"8\":0.21,\"9\":1.96,\"10\":3.35,\"11\":1.31,\"12\":3.5,\"13\":985},\"74\":{\"0\":2,\"1\":11.96,\"2\":1.09,\"3\":2.3,\"4\":21.0,\"5\":101,\"6\":3.38,\"7\":2.14,\"8\":0.13,\"9\":1.65,\"10\":3.21,\"11\":0.99,\"12\":3.13,\"13\":886},\"75\":{\"0\":2,\"1\":11.66,\"2\":1.88,\"3\":1.92,\"4\":16.0,\"5\":97,\"6\":1.61,\"7\":1.57,\"8\":0.34,\"9\":1.15,\"10\":3.8,\"11\":1.23,\"12\":2.14,\"13\":428},\"76\":{\"0\":2,\"1\":13.03,\"2\":0.9,\"3\":1.71,\"4\":16.0,\"5\":86,\"6\":1.95,\"7\":2.03,\"8\":0.24,\"9\":1.46,\"10\":4.6,\"11\":1.19,\"12\":2.48,\"13\":392},\"77\":{\"0\":2,\"1\":11.84,\"2\":2.89,\"3\":2.23,\"4\":18.0,\"5\":112,\"6\":1.72,\"7\":1.32,\"8\":0.43,\"9\":0.95,\"10\":2.65,\"11\":0.96,\"12\":2.52,\"13\":500},\"78\":{\"0\":2,\"1\":12.33,\"2\":0.99,\"3\":1.95,\"4\":14.8,\"5\":136,\"6\":1.9,\"7\":1.85,\"8\":0.35,\"9\":2.76,\"10\":3.4,\"11\":1.06,\"12\":2.31,\"13\":750},\"79\":{\"0\":2,\"1\":12.7,\"2\":3.87,\"3\":2.4,\"4\":23.0,\"5\":101,\"6\":2.83,\"7\":2.55,\"8\":0.43,\"9\":1.95,\"10\":2.57,\"11\":1.19,\"12\":3.13,\"13\":463},\"80\":{\"0\":2,\"1\":12.0,\"2\":0.92,\"3\":2.0,\"4\":19.0,\"5\":86,\"6\":2.42,\"7\":2.26,\"8\":0.3,\"9\":1.43,\"10\":2.5,\"11\":1.38,\"12\":3.12,\"13\":278},\"81\":{\"0\":2,\"1\":12.72,\"2\":1.81,\"3\":2.2,\"4\":18.8,\"5\":86,\"6\":2.2,\"7\":2.53,\"8\":0.26,\"9\":1.77,\"10\":3.9,\"11\":1.16,\"12\":3.14,\"13\":714},\"82\":{\"0\":2,\"1\":12.08,\"2\":1.13,\"3\":2.51,\"4\":24.0,\"5\":78,\"6\":2.0,\"7\":1.58,\"8\":0.4,\"9\":1.4,\"10\":2.2,\"11\":1.31,\"12\":2.72,\"13\":630},\"83\":{\"0\":2,\"1\":13.05,\"2\":3.86,\"3\":2.32,\"4\":22.5,\"5\":85,\"6\":1.65,\"7\":1.59,\"8\":0.61,\"9\":1.62,\"10\":4.8,\"11\":0.84,\"12\":2.01,\"13\":515},\"84\":{\"0\":2,\"1\":11.84,\"2\":0.89,\"3\":2.58,\"4\":18.0,\"5\":94,\"6\":2.2,\"7\":2.21,\"8\":0.22,\"9\":2.35,\"10\":3.05,\"11\":0.79,\"12\":3.08,\"13\":520},\"85\":{\"0\":2,\"1\":12.67,\"2\":0.98,\"3\":2.24,\"4\":18.0,\"5\":99,\"6\":2.2,\"7\":1.94,\"8\":0.3,\"9\":1.46,\"10\":2.62,\"11\":1.23,\"12\":3.16,\"13\":450},\"86\":{\"0\":2,\"1\":12.16,\"2\":1.61,\"3\":2.31,\"4\":22.8,\"5\":90,\"6\":1.78,\"7\":1.69,\"8\":0.43,\"9\":1.56,\"10\":2.45,\"11\":1.33,\"12\":2.26,\"13\":495},\"87\":{\"0\":2,\"1\":11.65,\"2\":1.67,\"3\":2.62,\"4\":26.0,\"5\":88,\"6\":1.92,\"7\":1.61,\"8\":0.4,\"9\":1.34,\"10\":2.6,\"11\":1.36,\"12\":3.21,\"13\":562},\"88\":{\"0\":2,\"1\":11.64,\"2\":2.06,\"3\":2.46,\"4\":21.6,\"5\":84,\"6\":1.95,\"7\":1.69,\"8\":0.48,\"9\":1.35,\"10\":2.8,\"11\":1.0,\"12\":2.75,\"13\":680},\"89\":{\"0\":2,\"1\":12.08,\"2\":1.33,\"3\":2.3,\"4\":23.6,\"5\":70,\"6\":2.2,\"7\":1.59,\"8\":0.42,\"9\":1.38,\"10\":1.74,\"11\":1.07,\"12\":3.21,\"13\":625},\"90\":{\"0\":2,\"1\":12.08,\"2\":1.83,\"3\":2.32,\"4\":18.5,\"5\":81,\"6\":1.6,\"7\":1.5,\"8\":0.52,\"9\":1.64,\"10\":2.4,\"11\":1.08,\"12\":2.27,\"13\":480},\"91\":{\"0\":2,\"1\":12.0,\"2\":1.51,\"3\":2.42,\"4\":22.0,\"5\":86,\"6\":1.45,\"7\":1.25,\"8\":0.5,\"9\":1.63,\"10\":3.6,\"11\":1.05,\"12\":2.65,\"13\":450},\"92\":{\"0\":2,\"1\":12.69,\"2\":1.53,\"3\":2.26,\"4\":20.7,\"5\":80,\"6\":1.38,\"7\":1.46,\"8\":0.58,\"9\":1.62,\"10\":3.05,\"11\":0.96,\"12\":2.06,\"13\":495},\"93\":{\"0\":2,\"1\":12.29,\"2\":2.83,\"3\":2.22,\"4\":18.0,\"5\":88,\"6\":2.45,\"7\":2.25,\"8\":0.25,\"9\":1.99,\"10\":2.15,\"11\":1.15,\"12\":3.3,\"13\":290},\"94\":{\"0\":2,\"1\":11.62,\"2\":1.99,\"3\":2.28,\"4\":18.0,\"5\":98,\"6\":3.02,\"7\":2.26,\"8\":0.17,\"9\":1.35,\"10\":3.25,\"11\":1.16,\"12\":2.96,\"13\":345},\"95\":{\"0\":2,\"1\":12.47,\"2\":1.52,\"3\":2.2,\"4\":19.0,\"5\":162,\"6\":2.5,\"7\":2.27,\"8\":0.32,\"9\":3.28,\"10\":2.6,\"11\":1.16,\"12\":2.63,\"13\":937},\"96\":{\"0\":2,\"1\":11.81,\"2\":2.12,\"3\":2.74,\"4\":21.5,\"5\":134,\"6\":1.6,\"7\":0.99,\"8\":0.14,\"9\":1.56,\"10\":2.5,\"11\":0.95,\"12\":2.26,\"13\":625},\"97\":{\"0\":2,\"1\":12.29,\"2\":1.41,\"3\":1.98,\"4\":16.0,\"5\":85,\"6\":2.55,\"7\":2.5,\"8\":0.29,\"9\":1.77,\"10\":2.9,\"11\":1.23,\"12\":2.74,\"13\":428},\"98\":{\"0\":2,\"1\":12.37,\"2\":1.07,\"3\":2.1,\"4\":18.5,\"5\":88,\"6\":3.52,\"7\":3.75,\"8\":0.24,\"9\":1.95,\"10\":4.5,\"11\":1.04,\"12\":2.77,\"13\":660},\"99\":{\"0\":2,\"1\":12.29,\"2\":3.17,\"3\":2.21,\"4\":18.0,\"5\":88,\"6\":2.85,\"7\":2.99,\"8\":0.45,\"9\":2.81,\"10\":2.3,\"11\":1.42,\"12\":2.83,\"13\":406},\"100\":{\"0\":2,\"1\":12.08,\"2\":2.08,\"3\":1.7,\"4\":17.5,\"5\":97,\"6\":2.23,\"7\":2.17,\"8\":0.26,\"9\":1.4,\"10\":3.3,\"11\":1.27,\"12\":2.96,\"13\":710},\"101\":{\"0\":2,\"1\":12.6,\"2\":1.34,\"3\":1.9,\"4\":18.5,\"5\":88,\"6\":1.45,\"7\":1.36,\"8\":0.29,\"9\":1.35,\"10\":2.45,\"11\":1.04,\"12\":2.77,\"13\":562},\"102\":{\"0\":2,\"1\":12.34,\"2\":2.45,\"3\":2.46,\"4\":21.0,\"5\":98,\"6\":2.56,\"7\":2.11,\"8\":0.34,\"9\":1.31,\"10\":2.8,\"11\":0.8,\"12\":3.38,\"13\":438},\"103\":{\"0\":2,\"1\":11.82,\"2\":1.72,\"3\":1.88,\"4\":19.5,\"5\":86,\"6\":2.5,\"7\":1.64,\"8\":0.37,\"9\":1.42,\"10\":2.06,\"11\":0.94,\"12\":2.44,\"13\":415},\"104\":{\"0\":2,\"1\":12.51,\"2\":1.73,\"3\":1.98,\"4\":20.5,\"5\":85,\"6\":2.2,\"7\":1.92,\"8\":0.32,\"9\":1.48,\"10\":2.94,\"11\":1.04,\"12\":3.57,\"13\":672},\"105\":{\"0\":2,\"1\":12.42,\"2\":2.55,\"3\":2.27,\"4\":22.0,\"5\":90,\"6\":1.68,\"7\":1.84,\"8\":0.66,\"9\":1.42,\"10\":2.7,\"11\":0.86,\"12\":3.3,\"13\":315},\"106\":{\"0\":2,\"1\":12.25,\"2\":1.73,\"3\":2.12,\"4\":19.0,\"5\":80,\"6\":1.65,\"7\":2.03,\"8\":0.37,\"9\":1.63,\"10\":3.4,\"11\":1.0,\"12\":3.17,\"13\":510},\"107\":{\"0\":2,\"1\":12.72,\"2\":1.75,\"3\":2.28,\"4\":22.5,\"5\":84,\"6\":1.38,\"7\":1.76,\"8\":0.48,\"9\":1.63,\"10\":3.3,\"11\":0.88,\"12\":2.42,\"13\":488},\"108\":{\"0\":2,\"1\":12.22,\"2\":1.29,\"3\":1.94,\"4\":19.0,\"5\":92,\"6\":2.36,\"7\":2.04,\"8\":0.39,\"9\":2.08,\"10\":2.7,\"11\":0.86,\"12\":3.02,\"13\":312},\"109\":{\"0\":2,\"1\":11.61,\"2\":1.35,\"3\":2.7,\"4\":20.0,\"5\":94,\"6\":2.74,\"7\":2.92,\"8\":0.29,\"9\":2.49,\"10\":2.65,\"11\":0.96,\"12\":3.26,\"13\":680},\"110\":{\"0\":2,\"1\":11.46,\"2\":3.74,\"3\":1.82,\"4\":19.5,\"5\":107,\"6\":3.18,\"7\":2.58,\"8\":0.24,\"9\":3.58,\"10\":2.9,\"11\":0.75,\"12\":2.81,\"13\":562},\"111\":{\"0\":2,\"1\":12.52,\"2\":2.43,\"3\":2.17,\"4\":21.0,\"5\":88,\"6\":2.55,\"7\":2.27,\"8\":0.26,\"9\":1.22,\"10\":2.0,\"11\":0.9,\"12\":2.78,\"13\":325},\"112\":{\"0\":2,\"1\":11.76,\"2\":2.68,\"3\":2.92,\"4\":20.0,\"5\":103,\"6\":1.75,\"7\":2.03,\"8\":0.6,\"9\":1.05,\"10\":3.8,\"11\":1.23,\"12\":2.5,\"13\":607},\"113\":{\"0\":2,\"1\":11.41,\"2\":0.74,\"3\":2.5,\"4\":21.0,\"5\":88,\"6\":2.48,\"7\":2.01,\"8\":0.42,\"9\":1.44,\"10\":3.08,\"11\":1.1,\"12\":2.31,\"13\":434},\"114\":{\"0\":2,\"1\":12.08,\"2\":1.39,\"3\":2.5,\"4\":22.5,\"5\":84,\"6\":2.56,\"7\":2.29,\"8\":0.43,\"9\":1.04,\"10\":2.9,\"11\":0.93,\"12\":3.19,\"13\":385},\"115\":{\"0\":2,\"1\":11.03,\"2\":1.51,\"3\":2.2,\"4\":21.5,\"5\":85,\"6\":2.46,\"7\":2.17,\"8\":0.52,\"9\":2.01,\"10\":1.9,\"11\":1.71,\"12\":2.87,\"13\":407},\"116\":{\"0\":2,\"1\":11.82,\"2\":1.47,\"3\":1.99,\"4\":20.8,\"5\":86,\"6\":1.98,\"7\":1.6,\"8\":0.3,\"9\":1.53,\"10\":1.95,\"11\":0.95,\"12\":3.33,\"13\":495},\"117\":{\"0\":2,\"1\":12.42,\"2\":1.61,\"3\":2.19,\"4\":22.5,\"5\":108,\"6\":2.0,\"7\":2.09,\"8\":0.34,\"9\":1.61,\"10\":2.06,\"11\":1.06,\"12\":2.96,\"13\":345},\"118\":{\"0\":2,\"1\":12.77,\"2\":3.43,\"3\":1.98,\"4\":16.0,\"5\":80,\"6\":1.63,\"7\":1.25,\"8\":0.43,\"9\":0.83,\"10\":3.4,\"11\":0.7,\"12\":2.12,\"13\":372},\"119\":{\"0\":2,\"1\":12.0,\"2\":3.43,\"3\":2.0,\"4\":19.0,\"5\":87,\"6\":2.0,\"7\":1.64,\"8\":0.37,\"9\":1.87,\"10\":1.28,\"11\":0.93,\"12\":3.05,\"13\":564},\"120\":{\"0\":2,\"1\":11.45,\"2\":2.4,\"3\":2.42,\"4\":20.0,\"5\":96,\"6\":2.9,\"7\":2.79,\"8\":0.32,\"9\":1.83,\"10\":3.25,\"11\":0.8,\"12\":3.39,\"13\":625},\"121\":{\"0\":2,\"1\":11.56,\"2\":2.05,\"3\":3.23,\"4\":28.5,\"5\":119,\"6\":3.18,\"7\":5.08,\"8\":0.47,\"9\":1.87,\"10\":6.0,\"11\":0.93,\"12\":3.69,\"13\":465},\"122\":{\"0\":2,\"1\":12.42,\"2\":4.43,\"3\":2.73,\"4\":26.5,\"5\":102,\"6\":2.2,\"7\":2.13,\"8\":0.43,\"9\":1.71,\"10\":2.08,\"11\":0.92,\"12\":3.12,\"13\":365},\"123\":{\"0\":2,\"1\":13.05,\"2\":5.8,\"3\":2.13,\"4\":21.5,\"5\":86,\"6\":2.62,\"7\":2.65,\"8\":0.3,\"9\":2.01,\"10\":2.6,\"11\":0.73,\"12\":3.1,\"13\":380},\"124\":{\"0\":2,\"1\":11.87,\"2\":4.31,\"3\":2.39,\"4\":21.0,\"5\":82,\"6\":2.86,\"7\":3.03,\"8\":0.21,\"9\":2.91,\"10\":2.8,\"11\":0.75,\"12\":3.64,\"13\":380},\"125\":{\"0\":2,\"1\":12.07,\"2\":2.16,\"3\":2.17,\"4\":21.0,\"5\":85,\"6\":2.6,\"7\":2.65,\"8\":0.37,\"9\":1.35,\"10\":2.76,\"11\":0.86,\"12\":3.28,\"13\":378},\"126\":{\"0\":2,\"1\":12.43,\"2\":1.53,\"3\":2.29,\"4\":21.5,\"5\":86,\"6\":2.74,\"7\":3.15,\"8\":0.39,\"9\":1.77,\"10\":3.94,\"11\":0.69,\"12\":2.84,\"13\":352},\"127\":{\"0\":2,\"1\":11.79,\"2\":2.13,\"3\":2.78,\"4\":28.5,\"5\":92,\"6\":2.13,\"7\":2.24,\"8\":0.58,\"9\":1.76,\"10\":3.0,\"11\":0.97,\"12\":2.44,\"13\":466},\"128\":{\"0\":2,\"1\":12.37,\"2\":1.63,\"3\":2.3,\"4\":24.5,\"5\":88,\"6\":2.22,\"7\":2.45,\"8\":0.4,\"9\":1.9,\"10\":2.12,\"11\":0.89,\"12\":2.78,\"13\":342},\"129\":{\"0\":2,\"1\":12.04,\"2\":4.3,\"3\":2.38,\"4\":22.0,\"5\":80,\"6\":2.1,\"7\":1.75,\"8\":0.42,\"9\":1.35,\"10\":2.6,\"11\":0.79,\"12\":2.57,\"13\":580},\"130\":{\"0\":3,\"1\":12.86,\"2\":1.35,\"3\":2.32,\"4\":18.0,\"5\":122,\"6\":1.51,\"7\":1.25,\"8\":0.21,\"9\":0.94,\"10\":4.1,\"11\":0.76,\"12\":1.29,\"13\":630},\"131\":{\"0\":3,\"1\":12.88,\"2\":2.99,\"3\":2.4,\"4\":20.0,\"5\":104,\"6\":1.3,\"7\":1.22,\"8\":0.24,\"9\":0.83,\"10\":5.4,\"11\":0.74,\"12\":1.42,\"13\":530},\"132\":{\"0\":3,\"1\":12.81,\"2\":2.31,\"3\":2.4,\"4\":24.0,\"5\":98,\"6\":1.15,\"7\":1.09,\"8\":0.27,\"9\":0.83,\"10\":5.7,\"11\":0.66,\"12\":1.36,\"13\":560},\"133\":{\"0\":3,\"1\":12.7,\"2\":3.55,\"3\":2.36,\"4\":21.5,\"5\":106,\"6\":1.7,\"7\":1.2,\"8\":0.17,\"9\":0.84,\"10\":5.0,\"11\":0.78,\"12\":1.29,\"13\":600},\"134\":{\"0\":3,\"1\":12.51,\"2\":1.24,\"3\":2.25,\"4\":17.5,\"5\":85,\"6\":2.0,\"7\":0.58,\"8\":0.6,\"9\":1.25,\"10\":5.45,\"11\":0.75,\"12\":1.51,\"13\":650},\"135\":{\"0\":3,\"1\":12.6,\"2\":2.46,\"3\":2.2,\"4\":18.5,\"5\":94,\"6\":1.62,\"7\":0.66,\"8\":0.63,\"9\":0.94,\"10\":7.1,\"11\":0.73,\"12\":1.58,\"13\":695},\"136\":{\"0\":3,\"1\":12.25,\"2\":4.72,\"3\":2.54,\"4\":21.0,\"5\":89,\"6\":1.38,\"7\":0.47,\"8\":0.53,\"9\":0.8,\"10\":3.85,\"11\":0.75,\"12\":1.27,\"13\":720},\"137\":{\"0\":3,\"1\":12.53,\"2\":5.51,\"3\":2.64,\"4\":25.0,\"5\":96,\"6\":1.79,\"7\":0.6,\"8\":0.63,\"9\":1.1,\"10\":5.0,\"11\":0.82,\"12\":1.69,\"13\":515},\"138\":{\"0\":3,\"1\":13.49,\"2\":3.59,\"3\":2.19,\"4\":19.5,\"5\":88,\"6\":1.62,\"7\":0.48,\"8\":0.58,\"9\":0.88,\"10\":5.7,\"11\":0.81,\"12\":1.82,\"13\":580},\"139\":{\"0\":3,\"1\":12.84,\"2\":2.96,\"3\":2.61,\"4\":24.0,\"5\":101,\"6\":2.32,\"7\":0.6,\"8\":0.53,\"9\":0.81,\"10\":4.92,\"11\":0.89,\"12\":2.15,\"13\":590},\"140\":{\"0\":3,\"1\":12.93,\"2\":2.81,\"3\":2.7,\"4\":21.0,\"5\":96,\"6\":1.54,\"7\":0.5,\"8\":0.53,\"9\":0.75,\"10\":4.6,\"11\":0.77,\"12\":2.31,\"13\":600},\"141\":{\"0\":3,\"1\":13.36,\"2\":2.56,\"3\":2.35,\"4\":20.0,\"5\":89,\"6\":1.4,\"7\":0.5,\"8\":0.37,\"9\":0.64,\"10\":5.6,\"11\":0.7,\"12\":2.47,\"13\":780},\"142\":{\"0\":3,\"1\":13.52,\"2\":3.17,\"3\":2.72,\"4\":23.5,\"5\":97,\"6\":1.55,\"7\":0.52,\"8\":0.5,\"9\":0.55,\"10\":4.35,\"11\":0.89,\"12\":2.06,\"13\":520},\"143\":{\"0\":3,\"1\":13.62,\"2\":4.95,\"3\":2.35,\"4\":20.0,\"5\":92,\"6\":2.0,\"7\":0.8,\"8\":0.47,\"9\":1.02,\"10\":4.4,\"11\":0.91,\"12\":2.05,\"13\":550},\"144\":{\"0\":3,\"1\":12.25,\"2\":3.88,\"3\":2.2,\"4\":18.5,\"5\":112,\"6\":1.38,\"7\":0.78,\"8\":0.29,\"9\":1.14,\"10\":8.21,\"11\":0.65,\"12\":2.0,\"13\":855},\"145\":{\"0\":3,\"1\":13.16,\"2\":3.57,\"3\":2.15,\"4\":21.0,\"5\":102,\"6\":1.5,\"7\":0.55,\"8\":0.43,\"9\":1.3,\"10\":4.0,\"11\":0.6,\"12\":1.68,\"13\":830},\"146\":{\"0\":3,\"1\":13.88,\"2\":5.04,\"3\":2.23,\"4\":20.0,\"5\":80,\"6\":0.98,\"7\":0.34,\"8\":0.4,\"9\":0.68,\"10\":4.9,\"11\":0.58,\"12\":1.33,\"13\":415},\"147\":{\"0\":3,\"1\":12.87,\"2\":4.61,\"3\":2.48,\"4\":21.5,\"5\":86,\"6\":1.7,\"7\":0.65,\"8\":0.47,\"9\":0.86,\"10\":7.65,\"11\":0.54,\"12\":1.86,\"13\":625},\"148\":{\"0\":3,\"1\":13.32,\"2\":3.24,\"3\":2.38,\"4\":21.5,\"5\":92,\"6\":1.93,\"7\":0.76,\"8\":0.45,\"9\":1.25,\"10\":8.42,\"11\":0.55,\"12\":1.62,\"13\":650},\"149\":{\"0\":3,\"1\":13.08,\"2\":3.9,\"3\":2.36,\"4\":21.5,\"5\":113,\"6\":1.41,\"7\":1.39,\"8\":0.34,\"9\":1.14,\"10\":9.4,\"11\":0.57,\"12\":1.33,\"13\":550},\"150\":{\"0\":3,\"1\":13.5,\"2\":3.12,\"3\":2.62,\"4\":24.0,\"5\":123,\"6\":1.4,\"7\":1.57,\"8\":0.22,\"9\":1.25,\"10\":8.6,\"11\":0.59,\"12\":1.3,\"13\":500},\"151\":{\"0\":3,\"1\":12.79,\"2\":2.67,\"3\":2.48,\"4\":22.0,\"5\":112,\"6\":1.48,\"7\":1.36,\"8\":0.24,\"9\":1.26,\"10\":10.8,\"11\":0.48,\"12\":1.47,\"13\":480},\"152\":{\"0\":3,\"1\":13.11,\"2\":1.9,\"3\":2.75,\"4\":25.5,\"5\":116,\"6\":2.2,\"7\":1.28,\"8\":0.26,\"9\":1.56,\"10\":7.1,\"11\":0.61,\"12\":1.33,\"13\":425},\"153\":{\"0\":3,\"1\":13.23,\"2\":3.3,\"3\":2.28,\"4\":18.5,\"5\":98,\"6\":1.8,\"7\":0.83,\"8\":0.61,\"9\":1.87,\"10\":10.52,\"11\":0.56,\"12\":1.51,\"13\":675},\"154\":{\"0\":3,\"1\":12.58,\"2\":1.29,\"3\":2.1,\"4\":20.0,\"5\":103,\"6\":1.48,\"7\":0.58,\"8\":0.53,\"9\":1.4,\"10\":7.6,\"11\":0.58,\"12\":1.55,\"13\":640},\"155\":{\"0\":3,\"1\":13.17,\"2\":5.19,\"3\":2.32,\"4\":22.0,\"5\":93,\"6\":1.74,\"7\":0.63,\"8\":0.61,\"9\":1.55,\"10\":7.9,\"11\":0.6,\"12\":1.48,\"13\":725},\"156\":{\"0\":3,\"1\":13.84,\"2\":4.12,\"3\":2.38,\"4\":19.5,\"5\":89,\"6\":1.8,\"7\":0.83,\"8\":0.48,\"9\":1.56,\"10\":9.01,\"11\":0.57,\"12\":1.64,\"13\":480},\"157\":{\"0\":3,\"1\":12.45,\"2\":3.03,\"3\":2.64,\"4\":27.0,\"5\":97,\"6\":1.9,\"7\":0.58,\"8\":0.63,\"9\":1.14,\"10\":7.5,\"11\":0.67,\"12\":1.73,\"13\":880},\"158\":{\"0\":3,\"1\":14.34,\"2\":1.68,\"3\":2.7,\"4\":25.0,\"5\":98,\"6\":2.8,\"7\":1.31,\"8\":0.53,\"9\":2.7,\"10\":13.0,\"11\":0.57,\"12\":1.96,\"13\":660},\"159\":{\"0\":3,\"1\":13.48,\"2\":1.67,\"3\":2.64,\"4\":22.5,\"5\":89,\"6\":2.6,\"7\":1.1,\"8\":0.52,\"9\":2.29,\"10\":11.75,\"11\":0.57,\"12\":1.78,\"13\":620},\"160\":{\"0\":3,\"1\":12.36,\"2\":3.83,\"3\":2.38,\"4\":21.0,\"5\":88,\"6\":2.3,\"7\":0.92,\"8\":0.5,\"9\":1.04,\"10\":7.65,\"11\":0.56,\"12\":1.58,\"13\":520},\"161\":{\"0\":3,\"1\":13.69,\"2\":3.26,\"3\":2.54,\"4\":20.0,\"5\":107,\"6\":1.83,\"7\":0.56,\"8\":0.5,\"9\":0.8,\"10\":5.88,\"11\":0.96,\"12\":1.82,\"13\":680},\"162\":{\"0\":3,\"1\":12.85,\"2\":3.27,\"3\":2.58,\"4\":22.0,\"5\":106,\"6\":1.65,\"7\":0.6,\"8\":0.6,\"9\":0.96,\"10\":5.58,\"11\":0.87,\"12\":2.11,\"13\":570},\"163\":{\"0\":3,\"1\":12.96,\"2\":3.45,\"3\":2.35,\"4\":18.5,\"5\":106,\"6\":1.39,\"7\":0.7,\"8\":0.4,\"9\":0.94,\"10\":5.28,\"11\":0.68,\"12\":1.75,\"13\":675},\"164\":{\"0\":3,\"1\":13.78,\"2\":2.76,\"3\":2.3,\"4\":22.0,\"5\":90,\"6\":1.35,\"7\":0.68,\"8\":0.41,\"9\":1.03,\"10\":9.58,\"11\":0.7,\"12\":1.68,\"13\":615},\"165\":{\"0\":3,\"1\":13.73,\"2\":4.36,\"3\":2.26,\"4\":22.5,\"5\":88,\"6\":1.28,\"7\":0.47,\"8\":0.52,\"9\":1.15,\"10\":6.62,\"11\":0.78,\"12\":1.75,\"13\":520},\"166\":{\"0\":3,\"1\":13.45,\"2\":3.7,\"3\":2.6,\"4\":23.0,\"5\":111,\"6\":1.7,\"7\":0.92,\"8\":0.43,\"9\":1.46,\"10\":10.68,\"11\":0.85,\"12\":1.56,\"13\":695},\"167\":{\"0\":3,\"1\":12.82,\"2\":3.37,\"3\":2.3,\"4\":19.5,\"5\":88,\"6\":1.48,\"7\":0.66,\"8\":0.4,\"9\":0.97,\"10\":10.26,\"11\":0.72,\"12\":1.75,\"13\":685},\"168\":{\"0\":3,\"1\":13.58,\"2\":2.58,\"3\":2.69,\"4\":24.5,\"5\":105,\"6\":1.55,\"7\":0.84,\"8\":0.39,\"9\":1.54,\"10\":8.66,\"11\":0.74,\"12\":1.8,\"13\":750},\"169\":{\"0\":3,\"1\":13.4,\"2\":4.6,\"3\":2.86,\"4\":25.0,\"5\":112,\"6\":1.98,\"7\":0.96,\"8\":0.27,\"9\":1.11,\"10\":8.5,\"11\":0.67,\"12\":1.92,\"13\":630},\"170\":{\"0\":3,\"1\":12.2,\"2\":3.03,\"3\":2.32,\"4\":19.0,\"5\":96,\"6\":1.25,\"7\":0.49,\"8\":0.4,\"9\":0.73,\"10\":5.5,\"11\":0.66,\"12\":1.83,\"13\":510},\"171\":{\"0\":3,\"1\":12.77,\"2\":2.39,\"3\":2.28,\"4\":19.5,\"5\":86,\"6\":1.39,\"7\":0.51,\"8\":0.48,\"9\":0.64,\"10\":9.899999,\"11\":0.57,\"12\":1.63,\"13\":470},\"172\":{\"0\":3,\"1\":14.16,\"2\":2.51,\"3\":2.48,\"4\":20.0,\"5\":91,\"6\":1.68,\"7\":0.7,\"8\":0.44,\"9\":1.24,\"10\":9.7,\"11\":0.62,\"12\":1.71,\"13\":660},\"173\":{\"0\":3,\"1\":13.71,\"2\":5.65,\"3\":2.45,\"4\":20.5,\"5\":95,\"6\":1.68,\"7\":0.61,\"8\":0.52,\"9\":1.06,\"10\":7.7,\"11\":0.64,\"12\":1.74,\"13\":740},\"174\":{\"0\":3,\"1\":13.4,\"2\":3.91,\"3\":2.48,\"4\":23.0,\"5\":102,\"6\":1.8,\"7\":0.75,\"8\":0.43,\"9\":1.41,\"10\":7.3,\"11\":0.7,\"12\":1.56,\"13\":750},\"175\":{\"0\":3,\"1\":13.27,\"2\":4.28,\"3\":2.26,\"4\":20.0,\"5\":120,\"6\":1.59,\"7\":0.69,\"8\":0.43,\"9\":1.35,\"10\":10.2,\"11\":0.59,\"12\":1.56,\"13\":835},\"176\":{\"0\":3,\"1\":13.17,\"2\":2.59,\"3\":2.37,\"4\":20.0,\"5\":120,\"6\":1.65,\"7\":0.68,\"8\":0.53,\"9\":1.46,\"10\":9.3,\"11\":0.6,\"12\":1.62,\"13\":840},\"177\":{\"0\":3,\"1\":14.13,\"2\":4.1,\"3\":2.74,\"4\":24.5,\"5\":96,\"6\":2.05,\"7\":0.76,\"8\":0.56,\"9\":1.35,\"10\":9.2,\"11\":0.61,\"12\":1.6,\"13\":560}}'"
      ]
     },
     "execution_count": 63,
     "metadata": {},
     "output_type": "execute_result"
    }
   ],
   "source": [
    "# convert Json to csv\n",
    "df.to_csv('wine.csv')\n",
    "\n",
    "# convert Json to different json formats\n",
    "df.to_json(orient=\"index\")"
   ]
  },
  {
   "cell_type": "code",
   "execution_count": 64,
   "id": "aca1b263",
   "metadata": {},
   "outputs": [
    {
     "data": {
      "text/plain": [
       "'[{\"0\":1,\"1\":14.23,\"2\":1.71,\"3\":2.43,\"4\":15.6,\"5\":127,\"6\":2.8,\"7\":3.06,\"8\":0.28,\"9\":2.29,\"10\":5.64,\"11\":1.04,\"12\":3.92,\"13\":1065},{\"0\":1,\"1\":13.2,\"2\":1.78,\"3\":2.14,\"4\":11.2,\"5\":100,\"6\":2.65,\"7\":2.76,\"8\":0.26,\"9\":1.28,\"10\":4.38,\"11\":1.05,\"12\":3.4,\"13\":1050},{\"0\":1,\"1\":13.16,\"2\":2.36,\"3\":2.67,\"4\":18.6,\"5\":101,\"6\":2.8,\"7\":3.24,\"8\":0.3,\"9\":2.81,\"10\":5.68,\"11\":1.03,\"12\":3.17,\"13\":1185},{\"0\":1,\"1\":14.37,\"2\":1.95,\"3\":2.5,\"4\":16.8,\"5\":113,\"6\":3.85,\"7\":3.49,\"8\":0.24,\"9\":2.18,\"10\":7.8,\"11\":0.86,\"12\":3.45,\"13\":1480},{\"0\":1,\"1\":13.24,\"2\":2.59,\"3\":2.87,\"4\":21.0,\"5\":118,\"6\":2.8,\"7\":2.69,\"8\":0.39,\"9\":1.82,\"10\":4.32,\"11\":1.04,\"12\":2.93,\"13\":735},{\"0\":1,\"1\":14.2,\"2\":1.76,\"3\":2.45,\"4\":15.2,\"5\":112,\"6\":3.27,\"7\":3.39,\"8\":0.34,\"9\":1.97,\"10\":6.75,\"11\":1.05,\"12\":2.85,\"13\":1450},{\"0\":1,\"1\":14.39,\"2\":1.87,\"3\":2.45,\"4\":14.6,\"5\":96,\"6\":2.5,\"7\":2.52,\"8\":0.3,\"9\":1.98,\"10\":5.25,\"11\":1.02,\"12\":3.58,\"13\":1290},{\"0\":1,\"1\":14.06,\"2\":2.15,\"3\":2.61,\"4\":17.6,\"5\":121,\"6\":2.6,\"7\":2.51,\"8\":0.31,\"9\":1.25,\"10\":5.05,\"11\":1.06,\"12\":3.58,\"13\":1295},{\"0\":1,\"1\":14.83,\"2\":1.64,\"3\":2.17,\"4\":14.0,\"5\":97,\"6\":2.8,\"7\":2.98,\"8\":0.29,\"9\":1.98,\"10\":5.2,\"11\":1.08,\"12\":2.85,\"13\":1045},{\"0\":1,\"1\":13.86,\"2\":1.35,\"3\":2.27,\"4\":16.0,\"5\":98,\"6\":2.98,\"7\":3.15,\"8\":0.22,\"9\":1.85,\"10\":7.22,\"11\":1.01,\"12\":3.55,\"13\":1045},{\"0\":1,\"1\":14.1,\"2\":2.16,\"3\":2.3,\"4\":18.0,\"5\":105,\"6\":2.95,\"7\":3.32,\"8\":0.22,\"9\":2.38,\"10\":5.75,\"11\":1.25,\"12\":3.17,\"13\":1510},{\"0\":1,\"1\":14.12,\"2\":1.48,\"3\":2.32,\"4\":16.8,\"5\":95,\"6\":2.2,\"7\":2.43,\"8\":0.26,\"9\":1.57,\"10\":5.0,\"11\":1.17,\"12\":2.82,\"13\":1280},{\"0\":1,\"1\":13.75,\"2\":1.73,\"3\":2.41,\"4\":16.0,\"5\":89,\"6\":2.6,\"7\":2.76,\"8\":0.29,\"9\":1.81,\"10\":5.6,\"11\":1.15,\"12\":2.9,\"13\":1320},{\"0\":1,\"1\":14.75,\"2\":1.73,\"3\":2.39,\"4\":11.4,\"5\":91,\"6\":3.1,\"7\":3.69,\"8\":0.43,\"9\":2.81,\"10\":5.4,\"11\":1.25,\"12\":2.73,\"13\":1150},{\"0\":1,\"1\":14.38,\"2\":1.87,\"3\":2.38,\"4\":12.0,\"5\":102,\"6\":3.3,\"7\":3.64,\"8\":0.29,\"9\":2.96,\"10\":7.5,\"11\":1.2,\"12\":3.0,\"13\":1547},{\"0\":1,\"1\":13.63,\"2\":1.81,\"3\":2.7,\"4\":17.2,\"5\":112,\"6\":2.85,\"7\":2.91,\"8\":0.3,\"9\":1.46,\"10\":7.3,\"11\":1.28,\"12\":2.88,\"13\":1310},{\"0\":1,\"1\":14.3,\"2\":1.92,\"3\":2.72,\"4\":20.0,\"5\":120,\"6\":2.8,\"7\":3.14,\"8\":0.33,\"9\":1.97,\"10\":6.2,\"11\":1.07,\"12\":2.65,\"13\":1280},{\"0\":1,\"1\":13.83,\"2\":1.57,\"3\":2.62,\"4\":20.0,\"5\":115,\"6\":2.95,\"7\":3.4,\"8\":0.4,\"9\":1.72,\"10\":6.6,\"11\":1.13,\"12\":2.57,\"13\":1130},{\"0\":1,\"1\":14.19,\"2\":1.59,\"3\":2.48,\"4\":16.5,\"5\":108,\"6\":3.3,\"7\":3.93,\"8\":0.32,\"9\":1.86,\"10\":8.7,\"11\":1.23,\"12\":2.82,\"13\":1680},{\"0\":1,\"1\":13.64,\"2\":3.1,\"3\":2.56,\"4\":15.2,\"5\":116,\"6\":2.7,\"7\":3.03,\"8\":0.17,\"9\":1.66,\"10\":5.1,\"11\":0.96,\"12\":3.36,\"13\":845},{\"0\":1,\"1\":14.06,\"2\":1.63,\"3\":2.28,\"4\":16.0,\"5\":126,\"6\":3.0,\"7\":3.17,\"8\":0.24,\"9\":2.1,\"10\":5.65,\"11\":1.09,\"12\":3.71,\"13\":780},{\"0\":1,\"1\":12.93,\"2\":3.8,\"3\":2.65,\"4\":18.6,\"5\":102,\"6\":2.41,\"7\":2.41,\"8\":0.25,\"9\":1.98,\"10\":4.5,\"11\":1.03,\"12\":3.52,\"13\":770},{\"0\":1,\"1\":13.71,\"2\":1.86,\"3\":2.36,\"4\":16.6,\"5\":101,\"6\":2.61,\"7\":2.88,\"8\":0.27,\"9\":1.69,\"10\":3.8,\"11\":1.11,\"12\":4.0,\"13\":1035},{\"0\":1,\"1\":12.85,\"2\":1.6,\"3\":2.52,\"4\":17.8,\"5\":95,\"6\":2.48,\"7\":2.37,\"8\":0.26,\"9\":1.46,\"10\":3.93,\"11\":1.09,\"12\":3.63,\"13\":1015},{\"0\":1,\"1\":13.5,\"2\":1.81,\"3\":2.61,\"4\":20.0,\"5\":96,\"6\":2.53,\"7\":2.61,\"8\":0.28,\"9\":1.66,\"10\":3.52,\"11\":1.12,\"12\":3.82,\"13\":845},{\"0\":1,\"1\":13.05,\"2\":2.05,\"3\":3.22,\"4\":25.0,\"5\":124,\"6\":2.63,\"7\":2.68,\"8\":0.47,\"9\":1.92,\"10\":3.58,\"11\":1.13,\"12\":3.2,\"13\":830},{\"0\":1,\"1\":13.39,\"2\":1.77,\"3\":2.62,\"4\":16.1,\"5\":93,\"6\":2.85,\"7\":2.94,\"8\":0.34,\"9\":1.45,\"10\":4.8,\"11\":0.92,\"12\":3.22,\"13\":1195},{\"0\":1,\"1\":13.3,\"2\":1.72,\"3\":2.14,\"4\":17.0,\"5\":94,\"6\":2.4,\"7\":2.19,\"8\":0.27,\"9\":1.35,\"10\":3.95,\"11\":1.02,\"12\":2.77,\"13\":1285},{\"0\":1,\"1\":13.87,\"2\":1.9,\"3\":2.8,\"4\":19.4,\"5\":107,\"6\":2.95,\"7\":2.97,\"8\":0.37,\"9\":1.76,\"10\":4.5,\"11\":1.25,\"12\":3.4,\"13\":915},{\"0\":1,\"1\":14.02,\"2\":1.68,\"3\":2.21,\"4\":16.0,\"5\":96,\"6\":2.65,\"7\":2.33,\"8\":0.26,\"9\":1.98,\"10\":4.7,\"11\":1.04,\"12\":3.59,\"13\":1035},{\"0\":1,\"1\":13.73,\"2\":1.5,\"3\":2.7,\"4\":22.5,\"5\":101,\"6\":3.0,\"7\":3.25,\"8\":0.29,\"9\":2.38,\"10\":5.7,\"11\":1.19,\"12\":2.71,\"13\":1285},{\"0\":1,\"1\":13.58,\"2\":1.66,\"3\":2.36,\"4\":19.1,\"5\":106,\"6\":2.86,\"7\":3.19,\"8\":0.22,\"9\":1.95,\"10\":6.9,\"11\":1.09,\"12\":2.88,\"13\":1515},{\"0\":1,\"1\":13.68,\"2\":1.83,\"3\":2.36,\"4\":17.2,\"5\":104,\"6\":2.42,\"7\":2.69,\"8\":0.42,\"9\":1.97,\"10\":3.84,\"11\":1.23,\"12\":2.87,\"13\":990},{\"0\":1,\"1\":13.76,\"2\":1.53,\"3\":2.7,\"4\":19.5,\"5\":132,\"6\":2.95,\"7\":2.74,\"8\":0.5,\"9\":1.35,\"10\":5.4,\"11\":1.25,\"12\":3.0,\"13\":1235},{\"0\":1,\"1\":13.51,\"2\":1.8,\"3\":2.65,\"4\":19.0,\"5\":110,\"6\":2.35,\"7\":2.53,\"8\":0.29,\"9\":1.54,\"10\":4.2,\"11\":1.1,\"12\":2.87,\"13\":1095},{\"0\":1,\"1\":13.48,\"2\":1.81,\"3\":2.41,\"4\":20.5,\"5\":100,\"6\":2.7,\"7\":2.98,\"8\":0.26,\"9\":1.86,\"10\":5.1,\"11\":1.04,\"12\":3.47,\"13\":920},{\"0\":1,\"1\":13.28,\"2\":1.64,\"3\":2.84,\"4\":15.5,\"5\":110,\"6\":2.6,\"7\":2.68,\"8\":0.34,\"9\":1.36,\"10\":4.6,\"11\":1.09,\"12\":2.78,\"13\":880},{\"0\":1,\"1\":13.05,\"2\":1.65,\"3\":2.55,\"4\":18.0,\"5\":98,\"6\":2.45,\"7\":2.43,\"8\":0.29,\"9\":1.44,\"10\":4.25,\"11\":1.12,\"12\":2.51,\"13\":1105},{\"0\":1,\"1\":13.07,\"2\":1.5,\"3\":2.1,\"4\":15.5,\"5\":98,\"6\":2.4,\"7\":2.64,\"8\":0.28,\"9\":1.37,\"10\":3.7,\"11\":1.18,\"12\":2.69,\"13\":1020},{\"0\":1,\"1\":14.22,\"2\":3.99,\"3\":2.51,\"4\":13.2,\"5\":128,\"6\":3.0,\"7\":3.04,\"8\":0.2,\"9\":2.08,\"10\":5.1,\"11\":0.89,\"12\":3.53,\"13\":760},{\"0\":1,\"1\":13.56,\"2\":1.71,\"3\":2.31,\"4\":16.2,\"5\":117,\"6\":3.15,\"7\":3.29,\"8\":0.34,\"9\":2.34,\"10\":6.13,\"11\":0.95,\"12\":3.38,\"13\":795},{\"0\":1,\"1\":13.41,\"2\":3.84,\"3\":2.12,\"4\":18.8,\"5\":90,\"6\":2.45,\"7\":2.68,\"8\":0.27,\"9\":1.48,\"10\":4.28,\"11\":0.91,\"12\":3.0,\"13\":1035},{\"0\":1,\"1\":13.88,\"2\":1.89,\"3\":2.59,\"4\":15.0,\"5\":101,\"6\":3.25,\"7\":3.56,\"8\":0.17,\"9\":1.7,\"10\":5.43,\"11\":0.88,\"12\":3.56,\"13\":1095},{\"0\":1,\"1\":13.24,\"2\":3.98,\"3\":2.29,\"4\":17.5,\"5\":103,\"6\":2.64,\"7\":2.63,\"8\":0.32,\"9\":1.66,\"10\":4.36,\"11\":0.82,\"12\":3.0,\"13\":680},{\"0\":1,\"1\":13.05,\"2\":1.77,\"3\":2.1,\"4\":17.0,\"5\":107,\"6\":3.0,\"7\":3.0,\"8\":0.28,\"9\":2.03,\"10\":5.04,\"11\":0.88,\"12\":3.35,\"13\":885},{\"0\":1,\"1\":14.21,\"2\":4.04,\"3\":2.44,\"4\":18.9,\"5\":111,\"6\":2.85,\"7\":2.65,\"8\":0.3,\"9\":1.25,\"10\":5.24,\"11\":0.87,\"12\":3.33,\"13\":1080},{\"0\":1,\"1\":14.38,\"2\":3.59,\"3\":2.28,\"4\":16.0,\"5\":102,\"6\":3.25,\"7\":3.17,\"8\":0.27,\"9\":2.19,\"10\":4.9,\"11\":1.04,\"12\":3.44,\"13\":1065},{\"0\":1,\"1\":13.9,\"2\":1.68,\"3\":2.12,\"4\":16.0,\"5\":101,\"6\":3.1,\"7\":3.39,\"8\":0.21,\"9\":2.14,\"10\":6.1,\"11\":0.91,\"12\":3.33,\"13\":985},{\"0\":1,\"1\":14.1,\"2\":2.02,\"3\":2.4,\"4\":18.8,\"5\":103,\"6\":2.75,\"7\":2.92,\"8\":0.32,\"9\":2.38,\"10\":6.2,\"11\":1.07,\"12\":2.75,\"13\":1060},{\"0\":1,\"1\":13.94,\"2\":1.73,\"3\":2.27,\"4\":17.4,\"5\":108,\"6\":2.88,\"7\":3.54,\"8\":0.32,\"9\":2.08,\"10\":8.9,\"11\":1.12,\"12\":3.1,\"13\":1260},{\"0\":1,\"1\":13.05,\"2\":1.73,\"3\":2.04,\"4\":12.4,\"5\":92,\"6\":2.72,\"7\":3.27,\"8\":0.17,\"9\":2.91,\"10\":7.2,\"11\":1.12,\"12\":2.91,\"13\":1150},{\"0\":1,\"1\":13.83,\"2\":1.65,\"3\":2.6,\"4\":17.2,\"5\":94,\"6\":2.45,\"7\":2.99,\"8\":0.22,\"9\":2.29,\"10\":5.6,\"11\":1.24,\"12\":3.37,\"13\":1265},{\"0\":1,\"1\":13.82,\"2\":1.75,\"3\":2.42,\"4\":14.0,\"5\":111,\"6\":3.88,\"7\":3.74,\"8\":0.32,\"9\":1.87,\"10\":7.05,\"11\":1.01,\"12\":3.26,\"13\":1190},{\"0\":1,\"1\":13.77,\"2\":1.9,\"3\":2.68,\"4\":17.1,\"5\":115,\"6\":3.0,\"7\":2.79,\"8\":0.39,\"9\":1.68,\"10\":6.3,\"11\":1.13,\"12\":2.93,\"13\":1375},{\"0\":1,\"1\":13.74,\"2\":1.67,\"3\":2.25,\"4\":16.4,\"5\":118,\"6\":2.6,\"7\":2.9,\"8\":0.21,\"9\":1.62,\"10\":5.85,\"11\":0.92,\"12\":3.2,\"13\":1060},{\"0\":1,\"1\":13.56,\"2\":1.73,\"3\":2.46,\"4\":20.5,\"5\":116,\"6\":2.96,\"7\":2.78,\"8\":0.2,\"9\":2.45,\"10\":6.25,\"11\":0.98,\"12\":3.03,\"13\":1120},{\"0\":1,\"1\":14.22,\"2\":1.7,\"3\":2.3,\"4\":16.3,\"5\":118,\"6\":3.2,\"7\":3.0,\"8\":0.26,\"9\":2.03,\"10\":6.38,\"11\":0.94,\"12\":3.31,\"13\":970},{\"0\":1,\"1\":13.29,\"2\":1.97,\"3\":2.68,\"4\":16.8,\"5\":102,\"6\":3.0,\"7\":3.23,\"8\":0.31,\"9\":1.66,\"10\":6.0,\"11\":1.07,\"12\":2.84,\"13\":1270},{\"0\":1,\"1\":13.72,\"2\":1.43,\"3\":2.5,\"4\":16.7,\"5\":108,\"6\":3.4,\"7\":3.67,\"8\":0.19,\"9\":2.04,\"10\":6.8,\"11\":0.89,\"12\":2.87,\"13\":1285},{\"0\":2,\"1\":12.37,\"2\":0.94,\"3\":1.36,\"4\":10.6,\"5\":88,\"6\":1.98,\"7\":0.57,\"8\":0.28,\"9\":0.42,\"10\":1.95,\"11\":1.05,\"12\":1.82,\"13\":520},{\"0\":2,\"1\":12.33,\"2\":1.1,\"3\":2.28,\"4\":16.0,\"5\":101,\"6\":2.05,\"7\":1.09,\"8\":0.63,\"9\":0.41,\"10\":3.27,\"11\":1.25,\"12\":1.67,\"13\":680},{\"0\":2,\"1\":12.64,\"2\":1.36,\"3\":2.02,\"4\":16.8,\"5\":100,\"6\":2.02,\"7\":1.41,\"8\":0.53,\"9\":0.62,\"10\":5.75,\"11\":0.98,\"12\":1.59,\"13\":450},{\"0\":2,\"1\":13.67,\"2\":1.25,\"3\":1.92,\"4\":18.0,\"5\":94,\"6\":2.1,\"7\":1.79,\"8\":0.32,\"9\":0.73,\"10\":3.8,\"11\":1.23,\"12\":2.46,\"13\":630},{\"0\":2,\"1\":12.37,\"2\":1.13,\"3\":2.16,\"4\":19.0,\"5\":87,\"6\":3.5,\"7\":3.1,\"8\":0.19,\"9\":1.87,\"10\":4.45,\"11\":1.22,\"12\":2.87,\"13\":420},{\"0\":2,\"1\":12.17,\"2\":1.45,\"3\":2.53,\"4\":19.0,\"5\":104,\"6\":1.89,\"7\":1.75,\"8\":0.45,\"9\":1.03,\"10\":2.95,\"11\":1.45,\"12\":2.23,\"13\":355},{\"0\":2,\"1\":12.37,\"2\":1.21,\"3\":2.56,\"4\":18.1,\"5\":98,\"6\":2.42,\"7\":2.65,\"8\":0.37,\"9\":2.08,\"10\":4.6,\"11\":1.19,\"12\":2.3,\"13\":678},{\"0\":2,\"1\":13.11,\"2\":1.01,\"3\":1.7,\"4\":15.0,\"5\":78,\"6\":2.98,\"7\":3.18,\"8\":0.26,\"9\":2.28,\"10\":5.3,\"11\":1.12,\"12\":3.18,\"13\":502},{\"0\":2,\"1\":12.37,\"2\":1.17,\"3\":1.92,\"4\":19.6,\"5\":78,\"6\":2.11,\"7\":2.0,\"8\":0.27,\"9\":1.04,\"10\":4.68,\"11\":1.12,\"12\":3.48,\"13\":510},{\"0\":2,\"1\":13.34,\"2\":0.94,\"3\":2.36,\"4\":17.0,\"5\":110,\"6\":2.53,\"7\":1.3,\"8\":0.55,\"9\":0.42,\"10\":3.17,\"11\":1.02,\"12\":1.93,\"13\":750},{\"0\":2,\"1\":12.21,\"2\":1.19,\"3\":1.75,\"4\":16.8,\"5\":151,\"6\":1.85,\"7\":1.28,\"8\":0.14,\"9\":2.5,\"10\":2.85,\"11\":1.28,\"12\":3.07,\"13\":718},{\"0\":2,\"1\":12.29,\"2\":1.61,\"3\":2.21,\"4\":20.4,\"5\":103,\"6\":1.1,\"7\":1.02,\"8\":0.37,\"9\":1.46,\"10\":3.05,\"11\":0.906,\"12\":1.82,\"13\":870},{\"0\":2,\"1\":13.86,\"2\":1.51,\"3\":2.67,\"4\":25.0,\"5\":86,\"6\":2.95,\"7\":2.86,\"8\":0.21,\"9\":1.87,\"10\":3.38,\"11\":1.36,\"12\":3.16,\"13\":410},{\"0\":2,\"1\":13.49,\"2\":1.66,\"3\":2.24,\"4\":24.0,\"5\":87,\"6\":1.88,\"7\":1.84,\"8\":0.27,\"9\":1.03,\"10\":3.74,\"11\":0.98,\"12\":2.78,\"13\":472},{\"0\":2,\"1\":12.99,\"2\":1.67,\"3\":2.6,\"4\":30.0,\"5\":139,\"6\":3.3,\"7\":2.89,\"8\":0.21,\"9\":1.96,\"10\":3.35,\"11\":1.31,\"12\":3.5,\"13\":985},{\"0\":2,\"1\":11.96,\"2\":1.09,\"3\":2.3,\"4\":21.0,\"5\":101,\"6\":3.38,\"7\":2.14,\"8\":0.13,\"9\":1.65,\"10\":3.21,\"11\":0.99,\"12\":3.13,\"13\":886},{\"0\":2,\"1\":11.66,\"2\":1.88,\"3\":1.92,\"4\":16.0,\"5\":97,\"6\":1.61,\"7\":1.57,\"8\":0.34,\"9\":1.15,\"10\":3.8,\"11\":1.23,\"12\":2.14,\"13\":428},{\"0\":2,\"1\":13.03,\"2\":0.9,\"3\":1.71,\"4\":16.0,\"5\":86,\"6\":1.95,\"7\":2.03,\"8\":0.24,\"9\":1.46,\"10\":4.6,\"11\":1.19,\"12\":2.48,\"13\":392},{\"0\":2,\"1\":11.84,\"2\":2.89,\"3\":2.23,\"4\":18.0,\"5\":112,\"6\":1.72,\"7\":1.32,\"8\":0.43,\"9\":0.95,\"10\":2.65,\"11\":0.96,\"12\":2.52,\"13\":500},{\"0\":2,\"1\":12.33,\"2\":0.99,\"3\":1.95,\"4\":14.8,\"5\":136,\"6\":1.9,\"7\":1.85,\"8\":0.35,\"9\":2.76,\"10\":3.4,\"11\":1.06,\"12\":2.31,\"13\":750},{\"0\":2,\"1\":12.7,\"2\":3.87,\"3\":2.4,\"4\":23.0,\"5\":101,\"6\":2.83,\"7\":2.55,\"8\":0.43,\"9\":1.95,\"10\":2.57,\"11\":1.19,\"12\":3.13,\"13\":463},{\"0\":2,\"1\":12.0,\"2\":0.92,\"3\":2.0,\"4\":19.0,\"5\":86,\"6\":2.42,\"7\":2.26,\"8\":0.3,\"9\":1.43,\"10\":2.5,\"11\":1.38,\"12\":3.12,\"13\":278},{\"0\":2,\"1\":12.72,\"2\":1.81,\"3\":2.2,\"4\":18.8,\"5\":86,\"6\":2.2,\"7\":2.53,\"8\":0.26,\"9\":1.77,\"10\":3.9,\"11\":1.16,\"12\":3.14,\"13\":714},{\"0\":2,\"1\":12.08,\"2\":1.13,\"3\":2.51,\"4\":24.0,\"5\":78,\"6\":2.0,\"7\":1.58,\"8\":0.4,\"9\":1.4,\"10\":2.2,\"11\":1.31,\"12\":2.72,\"13\":630},{\"0\":2,\"1\":13.05,\"2\":3.86,\"3\":2.32,\"4\":22.5,\"5\":85,\"6\":1.65,\"7\":1.59,\"8\":0.61,\"9\":1.62,\"10\":4.8,\"11\":0.84,\"12\":2.01,\"13\":515},{\"0\":2,\"1\":11.84,\"2\":0.89,\"3\":2.58,\"4\":18.0,\"5\":94,\"6\":2.2,\"7\":2.21,\"8\":0.22,\"9\":2.35,\"10\":3.05,\"11\":0.79,\"12\":3.08,\"13\":520},{\"0\":2,\"1\":12.67,\"2\":0.98,\"3\":2.24,\"4\":18.0,\"5\":99,\"6\":2.2,\"7\":1.94,\"8\":0.3,\"9\":1.46,\"10\":2.62,\"11\":1.23,\"12\":3.16,\"13\":450},{\"0\":2,\"1\":12.16,\"2\":1.61,\"3\":2.31,\"4\":22.8,\"5\":90,\"6\":1.78,\"7\":1.69,\"8\":0.43,\"9\":1.56,\"10\":2.45,\"11\":1.33,\"12\":2.26,\"13\":495},{\"0\":2,\"1\":11.65,\"2\":1.67,\"3\":2.62,\"4\":26.0,\"5\":88,\"6\":1.92,\"7\":1.61,\"8\":0.4,\"9\":1.34,\"10\":2.6,\"11\":1.36,\"12\":3.21,\"13\":562},{\"0\":2,\"1\":11.64,\"2\":2.06,\"3\":2.46,\"4\":21.6,\"5\":84,\"6\":1.95,\"7\":1.69,\"8\":0.48,\"9\":1.35,\"10\":2.8,\"11\":1.0,\"12\":2.75,\"13\":680},{\"0\":2,\"1\":12.08,\"2\":1.33,\"3\":2.3,\"4\":23.6,\"5\":70,\"6\":2.2,\"7\":1.59,\"8\":0.42,\"9\":1.38,\"10\":1.74,\"11\":1.07,\"12\":3.21,\"13\":625},{\"0\":2,\"1\":12.08,\"2\":1.83,\"3\":2.32,\"4\":18.5,\"5\":81,\"6\":1.6,\"7\":1.5,\"8\":0.52,\"9\":1.64,\"10\":2.4,\"11\":1.08,\"12\":2.27,\"13\":480},{\"0\":2,\"1\":12.0,\"2\":1.51,\"3\":2.42,\"4\":22.0,\"5\":86,\"6\":1.45,\"7\":1.25,\"8\":0.5,\"9\":1.63,\"10\":3.6,\"11\":1.05,\"12\":2.65,\"13\":450},{\"0\":2,\"1\":12.69,\"2\":1.53,\"3\":2.26,\"4\":20.7,\"5\":80,\"6\":1.38,\"7\":1.46,\"8\":0.58,\"9\":1.62,\"10\":3.05,\"11\":0.96,\"12\":2.06,\"13\":495},{\"0\":2,\"1\":12.29,\"2\":2.83,\"3\":2.22,\"4\":18.0,\"5\":88,\"6\":2.45,\"7\":2.25,\"8\":0.25,\"9\":1.99,\"10\":2.15,\"11\":1.15,\"12\":3.3,\"13\":290},{\"0\":2,\"1\":11.62,\"2\":1.99,\"3\":2.28,\"4\":18.0,\"5\":98,\"6\":3.02,\"7\":2.26,\"8\":0.17,\"9\":1.35,\"10\":3.25,\"11\":1.16,\"12\":2.96,\"13\":345},{\"0\":2,\"1\":12.47,\"2\":1.52,\"3\":2.2,\"4\":19.0,\"5\":162,\"6\":2.5,\"7\":2.27,\"8\":0.32,\"9\":3.28,\"10\":2.6,\"11\":1.16,\"12\":2.63,\"13\":937},{\"0\":2,\"1\":11.81,\"2\":2.12,\"3\":2.74,\"4\":21.5,\"5\":134,\"6\":1.6,\"7\":0.99,\"8\":0.14,\"9\":1.56,\"10\":2.5,\"11\":0.95,\"12\":2.26,\"13\":625},{\"0\":2,\"1\":12.29,\"2\":1.41,\"3\":1.98,\"4\":16.0,\"5\":85,\"6\":2.55,\"7\":2.5,\"8\":0.29,\"9\":1.77,\"10\":2.9,\"11\":1.23,\"12\":2.74,\"13\":428},{\"0\":2,\"1\":12.37,\"2\":1.07,\"3\":2.1,\"4\":18.5,\"5\":88,\"6\":3.52,\"7\":3.75,\"8\":0.24,\"9\":1.95,\"10\":4.5,\"11\":1.04,\"12\":2.77,\"13\":660},{\"0\":2,\"1\":12.29,\"2\":3.17,\"3\":2.21,\"4\":18.0,\"5\":88,\"6\":2.85,\"7\":2.99,\"8\":0.45,\"9\":2.81,\"10\":2.3,\"11\":1.42,\"12\":2.83,\"13\":406},{\"0\":2,\"1\":12.08,\"2\":2.08,\"3\":1.7,\"4\":17.5,\"5\":97,\"6\":2.23,\"7\":2.17,\"8\":0.26,\"9\":1.4,\"10\":3.3,\"11\":1.27,\"12\":2.96,\"13\":710},{\"0\":2,\"1\":12.6,\"2\":1.34,\"3\":1.9,\"4\":18.5,\"5\":88,\"6\":1.45,\"7\":1.36,\"8\":0.29,\"9\":1.35,\"10\":2.45,\"11\":1.04,\"12\":2.77,\"13\":562},{\"0\":2,\"1\":12.34,\"2\":2.45,\"3\":2.46,\"4\":21.0,\"5\":98,\"6\":2.56,\"7\":2.11,\"8\":0.34,\"9\":1.31,\"10\":2.8,\"11\":0.8,\"12\":3.38,\"13\":438},{\"0\":2,\"1\":11.82,\"2\":1.72,\"3\":1.88,\"4\":19.5,\"5\":86,\"6\":2.5,\"7\":1.64,\"8\":0.37,\"9\":1.42,\"10\":2.06,\"11\":0.94,\"12\":2.44,\"13\":415},{\"0\":2,\"1\":12.51,\"2\":1.73,\"3\":1.98,\"4\":20.5,\"5\":85,\"6\":2.2,\"7\":1.92,\"8\":0.32,\"9\":1.48,\"10\":2.94,\"11\":1.04,\"12\":3.57,\"13\":672},{\"0\":2,\"1\":12.42,\"2\":2.55,\"3\":2.27,\"4\":22.0,\"5\":90,\"6\":1.68,\"7\":1.84,\"8\":0.66,\"9\":1.42,\"10\":2.7,\"11\":0.86,\"12\":3.3,\"13\":315},{\"0\":2,\"1\":12.25,\"2\":1.73,\"3\":2.12,\"4\":19.0,\"5\":80,\"6\":1.65,\"7\":2.03,\"8\":0.37,\"9\":1.63,\"10\":3.4,\"11\":1.0,\"12\":3.17,\"13\":510},{\"0\":2,\"1\":12.72,\"2\":1.75,\"3\":2.28,\"4\":22.5,\"5\":84,\"6\":1.38,\"7\":1.76,\"8\":0.48,\"9\":1.63,\"10\":3.3,\"11\":0.88,\"12\":2.42,\"13\":488},{\"0\":2,\"1\":12.22,\"2\":1.29,\"3\":1.94,\"4\":19.0,\"5\":92,\"6\":2.36,\"7\":2.04,\"8\":0.39,\"9\":2.08,\"10\":2.7,\"11\":0.86,\"12\":3.02,\"13\":312},{\"0\":2,\"1\":11.61,\"2\":1.35,\"3\":2.7,\"4\":20.0,\"5\":94,\"6\":2.74,\"7\":2.92,\"8\":0.29,\"9\":2.49,\"10\":2.65,\"11\":0.96,\"12\":3.26,\"13\":680},{\"0\":2,\"1\":11.46,\"2\":3.74,\"3\":1.82,\"4\":19.5,\"5\":107,\"6\":3.18,\"7\":2.58,\"8\":0.24,\"9\":3.58,\"10\":2.9,\"11\":0.75,\"12\":2.81,\"13\":562},{\"0\":2,\"1\":12.52,\"2\":2.43,\"3\":2.17,\"4\":21.0,\"5\":88,\"6\":2.55,\"7\":2.27,\"8\":0.26,\"9\":1.22,\"10\":2.0,\"11\":0.9,\"12\":2.78,\"13\":325},{\"0\":2,\"1\":11.76,\"2\":2.68,\"3\":2.92,\"4\":20.0,\"5\":103,\"6\":1.75,\"7\":2.03,\"8\":0.6,\"9\":1.05,\"10\":3.8,\"11\":1.23,\"12\":2.5,\"13\":607},{\"0\":2,\"1\":11.41,\"2\":0.74,\"3\":2.5,\"4\":21.0,\"5\":88,\"6\":2.48,\"7\":2.01,\"8\":0.42,\"9\":1.44,\"10\":3.08,\"11\":1.1,\"12\":2.31,\"13\":434},{\"0\":2,\"1\":12.08,\"2\":1.39,\"3\":2.5,\"4\":22.5,\"5\":84,\"6\":2.56,\"7\":2.29,\"8\":0.43,\"9\":1.04,\"10\":2.9,\"11\":0.93,\"12\":3.19,\"13\":385},{\"0\":2,\"1\":11.03,\"2\":1.51,\"3\":2.2,\"4\":21.5,\"5\":85,\"6\":2.46,\"7\":2.17,\"8\":0.52,\"9\":2.01,\"10\":1.9,\"11\":1.71,\"12\":2.87,\"13\":407},{\"0\":2,\"1\":11.82,\"2\":1.47,\"3\":1.99,\"4\":20.8,\"5\":86,\"6\":1.98,\"7\":1.6,\"8\":0.3,\"9\":1.53,\"10\":1.95,\"11\":0.95,\"12\":3.33,\"13\":495},{\"0\":2,\"1\":12.42,\"2\":1.61,\"3\":2.19,\"4\":22.5,\"5\":108,\"6\":2.0,\"7\":2.09,\"8\":0.34,\"9\":1.61,\"10\":2.06,\"11\":1.06,\"12\":2.96,\"13\":345},{\"0\":2,\"1\":12.77,\"2\":3.43,\"3\":1.98,\"4\":16.0,\"5\":80,\"6\":1.63,\"7\":1.25,\"8\":0.43,\"9\":0.83,\"10\":3.4,\"11\":0.7,\"12\":2.12,\"13\":372},{\"0\":2,\"1\":12.0,\"2\":3.43,\"3\":2.0,\"4\":19.0,\"5\":87,\"6\":2.0,\"7\":1.64,\"8\":0.37,\"9\":1.87,\"10\":1.28,\"11\":0.93,\"12\":3.05,\"13\":564},{\"0\":2,\"1\":11.45,\"2\":2.4,\"3\":2.42,\"4\":20.0,\"5\":96,\"6\":2.9,\"7\":2.79,\"8\":0.32,\"9\":1.83,\"10\":3.25,\"11\":0.8,\"12\":3.39,\"13\":625},{\"0\":2,\"1\":11.56,\"2\":2.05,\"3\":3.23,\"4\":28.5,\"5\":119,\"6\":3.18,\"7\":5.08,\"8\":0.47,\"9\":1.87,\"10\":6.0,\"11\":0.93,\"12\":3.69,\"13\":465},{\"0\":2,\"1\":12.42,\"2\":4.43,\"3\":2.73,\"4\":26.5,\"5\":102,\"6\":2.2,\"7\":2.13,\"8\":0.43,\"9\":1.71,\"10\":2.08,\"11\":0.92,\"12\":3.12,\"13\":365},{\"0\":2,\"1\":13.05,\"2\":5.8,\"3\":2.13,\"4\":21.5,\"5\":86,\"6\":2.62,\"7\":2.65,\"8\":0.3,\"9\":2.01,\"10\":2.6,\"11\":0.73,\"12\":3.1,\"13\":380},{\"0\":2,\"1\":11.87,\"2\":4.31,\"3\":2.39,\"4\":21.0,\"5\":82,\"6\":2.86,\"7\":3.03,\"8\":0.21,\"9\":2.91,\"10\":2.8,\"11\":0.75,\"12\":3.64,\"13\":380},{\"0\":2,\"1\":12.07,\"2\":2.16,\"3\":2.17,\"4\":21.0,\"5\":85,\"6\":2.6,\"7\":2.65,\"8\":0.37,\"9\":1.35,\"10\":2.76,\"11\":0.86,\"12\":3.28,\"13\":378},{\"0\":2,\"1\":12.43,\"2\":1.53,\"3\":2.29,\"4\":21.5,\"5\":86,\"6\":2.74,\"7\":3.15,\"8\":0.39,\"9\":1.77,\"10\":3.94,\"11\":0.69,\"12\":2.84,\"13\":352},{\"0\":2,\"1\":11.79,\"2\":2.13,\"3\":2.78,\"4\":28.5,\"5\":92,\"6\":2.13,\"7\":2.24,\"8\":0.58,\"9\":1.76,\"10\":3.0,\"11\":0.97,\"12\":2.44,\"13\":466},{\"0\":2,\"1\":12.37,\"2\":1.63,\"3\":2.3,\"4\":24.5,\"5\":88,\"6\":2.22,\"7\":2.45,\"8\":0.4,\"9\":1.9,\"10\":2.12,\"11\":0.89,\"12\":2.78,\"13\":342},{\"0\":2,\"1\":12.04,\"2\":4.3,\"3\":2.38,\"4\":22.0,\"5\":80,\"6\":2.1,\"7\":1.75,\"8\":0.42,\"9\":1.35,\"10\":2.6,\"11\":0.79,\"12\":2.57,\"13\":580},{\"0\":3,\"1\":12.86,\"2\":1.35,\"3\":2.32,\"4\":18.0,\"5\":122,\"6\":1.51,\"7\":1.25,\"8\":0.21,\"9\":0.94,\"10\":4.1,\"11\":0.76,\"12\":1.29,\"13\":630},{\"0\":3,\"1\":12.88,\"2\":2.99,\"3\":2.4,\"4\":20.0,\"5\":104,\"6\":1.3,\"7\":1.22,\"8\":0.24,\"9\":0.83,\"10\":5.4,\"11\":0.74,\"12\":1.42,\"13\":530},{\"0\":3,\"1\":12.81,\"2\":2.31,\"3\":2.4,\"4\":24.0,\"5\":98,\"6\":1.15,\"7\":1.09,\"8\":0.27,\"9\":0.83,\"10\":5.7,\"11\":0.66,\"12\":1.36,\"13\":560},{\"0\":3,\"1\":12.7,\"2\":3.55,\"3\":2.36,\"4\":21.5,\"5\":106,\"6\":1.7,\"7\":1.2,\"8\":0.17,\"9\":0.84,\"10\":5.0,\"11\":0.78,\"12\":1.29,\"13\":600},{\"0\":3,\"1\":12.51,\"2\":1.24,\"3\":2.25,\"4\":17.5,\"5\":85,\"6\":2.0,\"7\":0.58,\"8\":0.6,\"9\":1.25,\"10\":5.45,\"11\":0.75,\"12\":1.51,\"13\":650},{\"0\":3,\"1\":12.6,\"2\":2.46,\"3\":2.2,\"4\":18.5,\"5\":94,\"6\":1.62,\"7\":0.66,\"8\":0.63,\"9\":0.94,\"10\":7.1,\"11\":0.73,\"12\":1.58,\"13\":695},{\"0\":3,\"1\":12.25,\"2\":4.72,\"3\":2.54,\"4\":21.0,\"5\":89,\"6\":1.38,\"7\":0.47,\"8\":0.53,\"9\":0.8,\"10\":3.85,\"11\":0.75,\"12\":1.27,\"13\":720},{\"0\":3,\"1\":12.53,\"2\":5.51,\"3\":2.64,\"4\":25.0,\"5\":96,\"6\":1.79,\"7\":0.6,\"8\":0.63,\"9\":1.1,\"10\":5.0,\"11\":0.82,\"12\":1.69,\"13\":515},{\"0\":3,\"1\":13.49,\"2\":3.59,\"3\":2.19,\"4\":19.5,\"5\":88,\"6\":1.62,\"7\":0.48,\"8\":0.58,\"9\":0.88,\"10\":5.7,\"11\":0.81,\"12\":1.82,\"13\":580},{\"0\":3,\"1\":12.84,\"2\":2.96,\"3\":2.61,\"4\":24.0,\"5\":101,\"6\":2.32,\"7\":0.6,\"8\":0.53,\"9\":0.81,\"10\":4.92,\"11\":0.89,\"12\":2.15,\"13\":590},{\"0\":3,\"1\":12.93,\"2\":2.81,\"3\":2.7,\"4\":21.0,\"5\":96,\"6\":1.54,\"7\":0.5,\"8\":0.53,\"9\":0.75,\"10\":4.6,\"11\":0.77,\"12\":2.31,\"13\":600},{\"0\":3,\"1\":13.36,\"2\":2.56,\"3\":2.35,\"4\":20.0,\"5\":89,\"6\":1.4,\"7\":0.5,\"8\":0.37,\"9\":0.64,\"10\":5.6,\"11\":0.7,\"12\":2.47,\"13\":780},{\"0\":3,\"1\":13.52,\"2\":3.17,\"3\":2.72,\"4\":23.5,\"5\":97,\"6\":1.55,\"7\":0.52,\"8\":0.5,\"9\":0.55,\"10\":4.35,\"11\":0.89,\"12\":2.06,\"13\":520},{\"0\":3,\"1\":13.62,\"2\":4.95,\"3\":2.35,\"4\":20.0,\"5\":92,\"6\":2.0,\"7\":0.8,\"8\":0.47,\"9\":1.02,\"10\":4.4,\"11\":0.91,\"12\":2.05,\"13\":550},{\"0\":3,\"1\":12.25,\"2\":3.88,\"3\":2.2,\"4\":18.5,\"5\":112,\"6\":1.38,\"7\":0.78,\"8\":0.29,\"9\":1.14,\"10\":8.21,\"11\":0.65,\"12\":2.0,\"13\":855},{\"0\":3,\"1\":13.16,\"2\":3.57,\"3\":2.15,\"4\":21.0,\"5\":102,\"6\":1.5,\"7\":0.55,\"8\":0.43,\"9\":1.3,\"10\":4.0,\"11\":0.6,\"12\":1.68,\"13\":830},{\"0\":3,\"1\":13.88,\"2\":5.04,\"3\":2.23,\"4\":20.0,\"5\":80,\"6\":0.98,\"7\":0.34,\"8\":0.4,\"9\":0.68,\"10\":4.9,\"11\":0.58,\"12\":1.33,\"13\":415},{\"0\":3,\"1\":12.87,\"2\":4.61,\"3\":2.48,\"4\":21.5,\"5\":86,\"6\":1.7,\"7\":0.65,\"8\":0.47,\"9\":0.86,\"10\":7.65,\"11\":0.54,\"12\":1.86,\"13\":625},{\"0\":3,\"1\":13.32,\"2\":3.24,\"3\":2.38,\"4\":21.5,\"5\":92,\"6\":1.93,\"7\":0.76,\"8\":0.45,\"9\":1.25,\"10\":8.42,\"11\":0.55,\"12\":1.62,\"13\":650},{\"0\":3,\"1\":13.08,\"2\":3.9,\"3\":2.36,\"4\":21.5,\"5\":113,\"6\":1.41,\"7\":1.39,\"8\":0.34,\"9\":1.14,\"10\":9.4,\"11\":0.57,\"12\":1.33,\"13\":550},{\"0\":3,\"1\":13.5,\"2\":3.12,\"3\":2.62,\"4\":24.0,\"5\":123,\"6\":1.4,\"7\":1.57,\"8\":0.22,\"9\":1.25,\"10\":8.6,\"11\":0.59,\"12\":1.3,\"13\":500},{\"0\":3,\"1\":12.79,\"2\":2.67,\"3\":2.48,\"4\":22.0,\"5\":112,\"6\":1.48,\"7\":1.36,\"8\":0.24,\"9\":1.26,\"10\":10.8,\"11\":0.48,\"12\":1.47,\"13\":480},{\"0\":3,\"1\":13.11,\"2\":1.9,\"3\":2.75,\"4\":25.5,\"5\":116,\"6\":2.2,\"7\":1.28,\"8\":0.26,\"9\":1.56,\"10\":7.1,\"11\":0.61,\"12\":1.33,\"13\":425},{\"0\":3,\"1\":13.23,\"2\":3.3,\"3\":2.28,\"4\":18.5,\"5\":98,\"6\":1.8,\"7\":0.83,\"8\":0.61,\"9\":1.87,\"10\":10.52,\"11\":0.56,\"12\":1.51,\"13\":675},{\"0\":3,\"1\":12.58,\"2\":1.29,\"3\":2.1,\"4\":20.0,\"5\":103,\"6\":1.48,\"7\":0.58,\"8\":0.53,\"9\":1.4,\"10\":7.6,\"11\":0.58,\"12\":1.55,\"13\":640},{\"0\":3,\"1\":13.17,\"2\":5.19,\"3\":2.32,\"4\":22.0,\"5\":93,\"6\":1.74,\"7\":0.63,\"8\":0.61,\"9\":1.55,\"10\":7.9,\"11\":0.6,\"12\":1.48,\"13\":725},{\"0\":3,\"1\":13.84,\"2\":4.12,\"3\":2.38,\"4\":19.5,\"5\":89,\"6\":1.8,\"7\":0.83,\"8\":0.48,\"9\":1.56,\"10\":9.01,\"11\":0.57,\"12\":1.64,\"13\":480},{\"0\":3,\"1\":12.45,\"2\":3.03,\"3\":2.64,\"4\":27.0,\"5\":97,\"6\":1.9,\"7\":0.58,\"8\":0.63,\"9\":1.14,\"10\":7.5,\"11\":0.67,\"12\":1.73,\"13\":880},{\"0\":3,\"1\":14.34,\"2\":1.68,\"3\":2.7,\"4\":25.0,\"5\":98,\"6\":2.8,\"7\":1.31,\"8\":0.53,\"9\":2.7,\"10\":13.0,\"11\":0.57,\"12\":1.96,\"13\":660},{\"0\":3,\"1\":13.48,\"2\":1.67,\"3\":2.64,\"4\":22.5,\"5\":89,\"6\":2.6,\"7\":1.1,\"8\":0.52,\"9\":2.29,\"10\":11.75,\"11\":0.57,\"12\":1.78,\"13\":620},{\"0\":3,\"1\":12.36,\"2\":3.83,\"3\":2.38,\"4\":21.0,\"5\":88,\"6\":2.3,\"7\":0.92,\"8\":0.5,\"9\":1.04,\"10\":7.65,\"11\":0.56,\"12\":1.58,\"13\":520},{\"0\":3,\"1\":13.69,\"2\":3.26,\"3\":2.54,\"4\":20.0,\"5\":107,\"6\":1.83,\"7\":0.56,\"8\":0.5,\"9\":0.8,\"10\":5.88,\"11\":0.96,\"12\":1.82,\"13\":680},{\"0\":3,\"1\":12.85,\"2\":3.27,\"3\":2.58,\"4\":22.0,\"5\":106,\"6\":1.65,\"7\":0.6,\"8\":0.6,\"9\":0.96,\"10\":5.58,\"11\":0.87,\"12\":2.11,\"13\":570},{\"0\":3,\"1\":12.96,\"2\":3.45,\"3\":2.35,\"4\":18.5,\"5\":106,\"6\":1.39,\"7\":0.7,\"8\":0.4,\"9\":0.94,\"10\":5.28,\"11\":0.68,\"12\":1.75,\"13\":675},{\"0\":3,\"1\":13.78,\"2\":2.76,\"3\":2.3,\"4\":22.0,\"5\":90,\"6\":1.35,\"7\":0.68,\"8\":0.41,\"9\":1.03,\"10\":9.58,\"11\":0.7,\"12\":1.68,\"13\":615},{\"0\":3,\"1\":13.73,\"2\":4.36,\"3\":2.26,\"4\":22.5,\"5\":88,\"6\":1.28,\"7\":0.47,\"8\":0.52,\"9\":1.15,\"10\":6.62,\"11\":0.78,\"12\":1.75,\"13\":520},{\"0\":3,\"1\":13.45,\"2\":3.7,\"3\":2.6,\"4\":23.0,\"5\":111,\"6\":1.7,\"7\":0.92,\"8\":0.43,\"9\":1.46,\"10\":10.68,\"11\":0.85,\"12\":1.56,\"13\":695},{\"0\":3,\"1\":12.82,\"2\":3.37,\"3\":2.3,\"4\":19.5,\"5\":88,\"6\":1.48,\"7\":0.66,\"8\":0.4,\"9\":0.97,\"10\":10.26,\"11\":0.72,\"12\":1.75,\"13\":685},{\"0\":3,\"1\":13.58,\"2\":2.58,\"3\":2.69,\"4\":24.5,\"5\":105,\"6\":1.55,\"7\":0.84,\"8\":0.39,\"9\":1.54,\"10\":8.66,\"11\":0.74,\"12\":1.8,\"13\":750},{\"0\":3,\"1\":13.4,\"2\":4.6,\"3\":2.86,\"4\":25.0,\"5\":112,\"6\":1.98,\"7\":0.96,\"8\":0.27,\"9\":1.11,\"10\":8.5,\"11\":0.67,\"12\":1.92,\"13\":630},{\"0\":3,\"1\":12.2,\"2\":3.03,\"3\":2.32,\"4\":19.0,\"5\":96,\"6\":1.25,\"7\":0.49,\"8\":0.4,\"9\":0.73,\"10\":5.5,\"11\":0.66,\"12\":1.83,\"13\":510},{\"0\":3,\"1\":12.77,\"2\":2.39,\"3\":2.28,\"4\":19.5,\"5\":86,\"6\":1.39,\"7\":0.51,\"8\":0.48,\"9\":0.64,\"10\":9.899999,\"11\":0.57,\"12\":1.63,\"13\":470},{\"0\":3,\"1\":14.16,\"2\":2.51,\"3\":2.48,\"4\":20.0,\"5\":91,\"6\":1.68,\"7\":0.7,\"8\":0.44,\"9\":1.24,\"10\":9.7,\"11\":0.62,\"12\":1.71,\"13\":660},{\"0\":3,\"1\":13.71,\"2\":5.65,\"3\":2.45,\"4\":20.5,\"5\":95,\"6\":1.68,\"7\":0.61,\"8\":0.52,\"9\":1.06,\"10\":7.7,\"11\":0.64,\"12\":1.74,\"13\":740},{\"0\":3,\"1\":13.4,\"2\":3.91,\"3\":2.48,\"4\":23.0,\"5\":102,\"6\":1.8,\"7\":0.75,\"8\":0.43,\"9\":1.41,\"10\":7.3,\"11\":0.7,\"12\":1.56,\"13\":750},{\"0\":3,\"1\":13.27,\"2\":4.28,\"3\":2.26,\"4\":20.0,\"5\":120,\"6\":1.59,\"7\":0.69,\"8\":0.43,\"9\":1.35,\"10\":10.2,\"11\":0.59,\"12\":1.56,\"13\":835},{\"0\":3,\"1\":13.17,\"2\":2.59,\"3\":2.37,\"4\":20.0,\"5\":120,\"6\":1.65,\"7\":0.68,\"8\":0.53,\"9\":1.46,\"10\":9.3,\"11\":0.6,\"12\":1.62,\"13\":840},{\"0\":3,\"1\":14.13,\"2\":4.1,\"3\":2.74,\"4\":24.5,\"5\":96,\"6\":2.05,\"7\":0.76,\"8\":0.56,\"9\":1.35,\"10\":9.2,\"11\":0.61,\"12\":1.6,\"13\":560}]'"
      ]
     },
     "execution_count": 64,
     "metadata": {},
     "output_type": "execute_result"
    }
   ],
   "source": [
    "df.to_json(orient=\"records\")"
   ]
  },
  {
   "cell_type": "markdown",
   "id": "9e931166",
   "metadata": {},
   "source": [
    "# Reading HTML content"
   ]
  },
  {
   "cell_type": "code",
   "execution_count": 65,
   "id": "9b60283a",
   "metadata": {},
   "outputs": [
    {
     "ename": "ImportError",
     "evalue": "html5lib not found, please install it",
     "output_type": "error",
     "traceback": [
      "\u001b[1;31m---------------------------------------------------------------------------\u001b[0m",
      "\u001b[1;31mImportError\u001b[0m                               Traceback (most recent call last)",
      "Input \u001b[1;32mIn [65]\u001b[0m, in \u001b[0;36m<cell line: 2>\u001b[1;34m()\u001b[0m\n\u001b[0;32m      1\u001b[0m url \u001b[38;5;241m=\u001b[39m \u001b[38;5;124m'\u001b[39m\u001b[38;5;124mhttps://www.fdic.gov/bank/individual/failed/banklist.html\u001b[39m\u001b[38;5;124m'\u001b[39m\n\u001b[1;32m----> 2\u001b[0m dfs \u001b[38;5;241m=\u001b[39m \u001b[43mpd\u001b[49m\u001b[38;5;241;43m.\u001b[39;49m\u001b[43mread_html\u001b[49m\u001b[43m(\u001b[49m\u001b[43murl\u001b[49m\u001b[43m)\u001b[49m\n\u001b[0;32m      3\u001b[0m dfs[\u001b[38;5;241m0\u001b[39m]\n",
      "File \u001b[1;32mC:\\ProgramFiles\\Anaconda3\\lib\\site-packages\\pandas\\util\\_decorators.py:311\u001b[0m, in \u001b[0;36mdeprecate_nonkeyword_arguments.<locals>.decorate.<locals>.wrapper\u001b[1;34m(*args, **kwargs)\u001b[0m\n\u001b[0;32m    305\u001b[0m \u001b[38;5;28;01mif\u001b[39;00m \u001b[38;5;28mlen\u001b[39m(args) \u001b[38;5;241m>\u001b[39m num_allow_args:\n\u001b[0;32m    306\u001b[0m     warnings\u001b[38;5;241m.\u001b[39mwarn(\n\u001b[0;32m    307\u001b[0m         msg\u001b[38;5;241m.\u001b[39mformat(arguments\u001b[38;5;241m=\u001b[39marguments),\n\u001b[0;32m    308\u001b[0m         \u001b[38;5;167;01mFutureWarning\u001b[39;00m,\n\u001b[0;32m    309\u001b[0m         stacklevel\u001b[38;5;241m=\u001b[39mstacklevel,\n\u001b[0;32m    310\u001b[0m     )\n\u001b[1;32m--> 311\u001b[0m \u001b[38;5;28;01mreturn\u001b[39;00m func(\u001b[38;5;241m*\u001b[39margs, \u001b[38;5;241m*\u001b[39m\u001b[38;5;241m*\u001b[39mkwargs)\n",
      "File \u001b[1;32mC:\\ProgramFiles\\Anaconda3\\lib\\site-packages\\pandas\\io\\html.py:1113\u001b[0m, in \u001b[0;36mread_html\u001b[1;34m(io, match, flavor, header, index_col, skiprows, attrs, parse_dates, thousands, encoding, decimal, converters, na_values, keep_default_na, displayed_only)\u001b[0m\n\u001b[0;32m   1109\u001b[0m validate_header_arg(header)\n\u001b[0;32m   1111\u001b[0m io \u001b[38;5;241m=\u001b[39m stringify_path(io)\n\u001b[1;32m-> 1113\u001b[0m \u001b[38;5;28;01mreturn\u001b[39;00m \u001b[43m_parse\u001b[49m\u001b[43m(\u001b[49m\n\u001b[0;32m   1114\u001b[0m \u001b[43m    \u001b[49m\u001b[43mflavor\u001b[49m\u001b[38;5;241;43m=\u001b[39;49m\u001b[43mflavor\u001b[49m\u001b[43m,\u001b[49m\n\u001b[0;32m   1115\u001b[0m \u001b[43m    \u001b[49m\u001b[43mio\u001b[49m\u001b[38;5;241;43m=\u001b[39;49m\u001b[43mio\u001b[49m\u001b[43m,\u001b[49m\n\u001b[0;32m   1116\u001b[0m \u001b[43m    \u001b[49m\u001b[43mmatch\u001b[49m\u001b[38;5;241;43m=\u001b[39;49m\u001b[43mmatch\u001b[49m\u001b[43m,\u001b[49m\n\u001b[0;32m   1117\u001b[0m \u001b[43m    \u001b[49m\u001b[43mheader\u001b[49m\u001b[38;5;241;43m=\u001b[39;49m\u001b[43mheader\u001b[49m\u001b[43m,\u001b[49m\n\u001b[0;32m   1118\u001b[0m \u001b[43m    \u001b[49m\u001b[43mindex_col\u001b[49m\u001b[38;5;241;43m=\u001b[39;49m\u001b[43mindex_col\u001b[49m\u001b[43m,\u001b[49m\n\u001b[0;32m   1119\u001b[0m \u001b[43m    \u001b[49m\u001b[43mskiprows\u001b[49m\u001b[38;5;241;43m=\u001b[39;49m\u001b[43mskiprows\u001b[49m\u001b[43m,\u001b[49m\n\u001b[0;32m   1120\u001b[0m \u001b[43m    \u001b[49m\u001b[43mparse_dates\u001b[49m\u001b[38;5;241;43m=\u001b[39;49m\u001b[43mparse_dates\u001b[49m\u001b[43m,\u001b[49m\n\u001b[0;32m   1121\u001b[0m \u001b[43m    \u001b[49m\u001b[43mthousands\u001b[49m\u001b[38;5;241;43m=\u001b[39;49m\u001b[43mthousands\u001b[49m\u001b[43m,\u001b[49m\n\u001b[0;32m   1122\u001b[0m \u001b[43m    \u001b[49m\u001b[43mattrs\u001b[49m\u001b[38;5;241;43m=\u001b[39;49m\u001b[43mattrs\u001b[49m\u001b[43m,\u001b[49m\n\u001b[0;32m   1123\u001b[0m \u001b[43m    \u001b[49m\u001b[43mencoding\u001b[49m\u001b[38;5;241;43m=\u001b[39;49m\u001b[43mencoding\u001b[49m\u001b[43m,\u001b[49m\n\u001b[0;32m   1124\u001b[0m \u001b[43m    \u001b[49m\u001b[43mdecimal\u001b[49m\u001b[38;5;241;43m=\u001b[39;49m\u001b[43mdecimal\u001b[49m\u001b[43m,\u001b[49m\n\u001b[0;32m   1125\u001b[0m \u001b[43m    \u001b[49m\u001b[43mconverters\u001b[49m\u001b[38;5;241;43m=\u001b[39;49m\u001b[43mconverters\u001b[49m\u001b[43m,\u001b[49m\n\u001b[0;32m   1126\u001b[0m \u001b[43m    \u001b[49m\u001b[43mna_values\u001b[49m\u001b[38;5;241;43m=\u001b[39;49m\u001b[43mna_values\u001b[49m\u001b[43m,\u001b[49m\n\u001b[0;32m   1127\u001b[0m \u001b[43m    \u001b[49m\u001b[43mkeep_default_na\u001b[49m\u001b[38;5;241;43m=\u001b[39;49m\u001b[43mkeep_default_na\u001b[49m\u001b[43m,\u001b[49m\n\u001b[0;32m   1128\u001b[0m \u001b[43m    \u001b[49m\u001b[43mdisplayed_only\u001b[49m\u001b[38;5;241;43m=\u001b[39;49m\u001b[43mdisplayed_only\u001b[49m\u001b[43m,\u001b[49m\n\u001b[0;32m   1129\u001b[0m \u001b[43m\u001b[49m\u001b[43m)\u001b[49m\n",
      "File \u001b[1;32mC:\\ProgramFiles\\Anaconda3\\lib\\site-packages\\pandas\\io\\html.py:915\u001b[0m, in \u001b[0;36m_parse\u001b[1;34m(flavor, io, match, attrs, encoding, displayed_only, **kwargs)\u001b[0m\n\u001b[0;32m    913\u001b[0m retained \u001b[38;5;241m=\u001b[39m \u001b[38;5;28;01mNone\u001b[39;00m\n\u001b[0;32m    914\u001b[0m \u001b[38;5;28;01mfor\u001b[39;00m flav \u001b[38;5;129;01min\u001b[39;00m flavor:\n\u001b[1;32m--> 915\u001b[0m     parser \u001b[38;5;241m=\u001b[39m \u001b[43m_parser_dispatch\u001b[49m\u001b[43m(\u001b[49m\u001b[43mflav\u001b[49m\u001b[43m)\u001b[49m\n\u001b[0;32m    916\u001b[0m     p \u001b[38;5;241m=\u001b[39m parser(io, compiled_match, attrs, encoding, displayed_only)\n\u001b[0;32m    918\u001b[0m     \u001b[38;5;28;01mtry\u001b[39;00m:\n",
      "File \u001b[1;32mC:\\ProgramFiles\\Anaconda3\\lib\\site-packages\\pandas\\io\\html.py:864\u001b[0m, in \u001b[0;36m_parser_dispatch\u001b[1;34m(flavor)\u001b[0m\n\u001b[0;32m    862\u001b[0m \u001b[38;5;28;01mif\u001b[39;00m flavor \u001b[38;5;129;01min\u001b[39;00m (\u001b[38;5;124m\"\u001b[39m\u001b[38;5;124mbs4\u001b[39m\u001b[38;5;124m\"\u001b[39m, \u001b[38;5;124m\"\u001b[39m\u001b[38;5;124mhtml5lib\u001b[39m\u001b[38;5;124m\"\u001b[39m):\n\u001b[0;32m    863\u001b[0m     \u001b[38;5;28;01mif\u001b[39;00m \u001b[38;5;129;01mnot\u001b[39;00m _HAS_HTML5LIB:\n\u001b[1;32m--> 864\u001b[0m         \u001b[38;5;28;01mraise\u001b[39;00m \u001b[38;5;167;01mImportError\u001b[39;00m(\u001b[38;5;124m\"\u001b[39m\u001b[38;5;124mhtml5lib not found, please install it\u001b[39m\u001b[38;5;124m\"\u001b[39m)\n\u001b[0;32m    865\u001b[0m     \u001b[38;5;28;01mif\u001b[39;00m \u001b[38;5;129;01mnot\u001b[39;00m _HAS_BS4:\n\u001b[0;32m    866\u001b[0m         \u001b[38;5;28;01mraise\u001b[39;00m \u001b[38;5;167;01mImportError\u001b[39;00m(\u001b[38;5;124m\"\u001b[39m\u001b[38;5;124mBeautifulSoup4 (bs4) not found, please install it\u001b[39m\u001b[38;5;124m\"\u001b[39m)\n",
      "\u001b[1;31mImportError\u001b[0m: html5lib not found, please install it"
     ]
    }
   ],
   "source": [
    "url = 'https://www.fdic.gov/bank/individual/failed/banklist.html'\n",
    "dfs = pd.read_html(url)\n",
    "dfs[0]"
   ]
  },
  {
   "cell_type": "code",
   "execution_count": 68,
   "id": "bb6e4fab",
   "metadata": {},
   "outputs": [
    {
     "data": {
      "text/html": [
       "<div>\n",
       "<style scoped>\n",
       "    .dataframe tbody tr th:only-of-type {\n",
       "        vertical-align: middle;\n",
       "    }\n",
       "\n",
       "    .dataframe tbody tr th {\n",
       "        vertical-align: top;\n",
       "    }\n",
       "\n",
       "    .dataframe thead th {\n",
       "        text-align: right;\n",
       "    }\n",
       "</style>\n",
       "<table border=\"1\" class=\"dataframe\">\n",
       "  <thead>\n",
       "    <tr style=\"text-align: right;\">\n",
       "      <th></th>\n",
       "      <th>Mobile country code</th>\n",
       "      <th>Country</th>\n",
       "      <th>ISO 3166</th>\n",
       "      <th>Mobile network codes</th>\n",
       "      <th>National MNC authority</th>\n",
       "      <th>Remarks</th>\n",
       "    </tr>\n",
       "  </thead>\n",
       "  <tbody>\n",
       "    <tr>\n",
       "      <th>0</th>\n",
       "      <td>289</td>\n",
       "      <td>A Abkhazia</td>\n",
       "      <td>GE-AB</td>\n",
       "      <td>List of mobile network codes in Abkhazia</td>\n",
       "      <td>NaN</td>\n",
       "      <td>MCC is not listed by ITU</td>\n",
       "    </tr>\n",
       "    <tr>\n",
       "      <th>1</th>\n",
       "      <td>412</td>\n",
       "      <td>Afghanistan</td>\n",
       "      <td>AF</td>\n",
       "      <td>List of mobile network codes in Afghanistan</td>\n",
       "      <td>NaN</td>\n",
       "      <td>NaN</td>\n",
       "    </tr>\n",
       "    <tr>\n",
       "      <th>2</th>\n",
       "      <td>276</td>\n",
       "      <td>Albania</td>\n",
       "      <td>AL</td>\n",
       "      <td>List of mobile network codes in Albania</td>\n",
       "      <td>NaN</td>\n",
       "      <td>NaN</td>\n",
       "    </tr>\n",
       "    <tr>\n",
       "      <th>3</th>\n",
       "      <td>603</td>\n",
       "      <td>Algeria</td>\n",
       "      <td>DZ</td>\n",
       "      <td>List of mobile network codes in Algeria</td>\n",
       "      <td>NaN</td>\n",
       "      <td>NaN</td>\n",
       "    </tr>\n",
       "    <tr>\n",
       "      <th>4</th>\n",
       "      <td>544</td>\n",
       "      <td>American Samoa (United States of America)</td>\n",
       "      <td>AS</td>\n",
       "      <td>List of mobile network codes in American Samoa</td>\n",
       "      <td>NaN</td>\n",
       "      <td>NaN</td>\n",
       "    </tr>\n",
       "    <tr>\n",
       "      <th>...</th>\n",
       "      <td>...</td>\n",
       "      <td>...</td>\n",
       "      <td>...</td>\n",
       "      <td>...</td>\n",
       "      <td>...</td>\n",
       "      <td>...</td>\n",
       "    </tr>\n",
       "    <tr>\n",
       "      <th>247</th>\n",
       "      <td>452</td>\n",
       "      <td>Vietnam</td>\n",
       "      <td>VN</td>\n",
       "      <td>List of mobile network codes in the Vietnam</td>\n",
       "      <td>NaN</td>\n",
       "      <td>NaN</td>\n",
       "    </tr>\n",
       "    <tr>\n",
       "      <th>248</th>\n",
       "      <td>543</td>\n",
       "      <td>W Wallis and Futuna</td>\n",
       "      <td>WF</td>\n",
       "      <td>List of mobile network codes in Wallis and Futuna</td>\n",
       "      <td>NaN</td>\n",
       "      <td>NaN</td>\n",
       "    </tr>\n",
       "    <tr>\n",
       "      <th>249</th>\n",
       "      <td>421</td>\n",
       "      <td>Y Yemen</td>\n",
       "      <td>YE</td>\n",
       "      <td>List of mobile network codes in the Yemen</td>\n",
       "      <td>NaN</td>\n",
       "      <td>NaN</td>\n",
       "    </tr>\n",
       "    <tr>\n",
       "      <th>250</th>\n",
       "      <td>645</td>\n",
       "      <td>Z Zambia</td>\n",
       "      <td>ZM</td>\n",
       "      <td>List of mobile network codes in Zambia</td>\n",
       "      <td>NaN</td>\n",
       "      <td>NaN</td>\n",
       "    </tr>\n",
       "    <tr>\n",
       "      <th>251</th>\n",
       "      <td>648</td>\n",
       "      <td>Zimbabwe</td>\n",
       "      <td>ZW</td>\n",
       "      <td>List of mobile network codes in Zimbabwe</td>\n",
       "      <td>NaN</td>\n",
       "      <td>NaN</td>\n",
       "    </tr>\n",
       "  </tbody>\n",
       "</table>\n",
       "<p>252 rows × 6 columns</p>\n",
       "</div>"
      ],
      "text/plain": [
       "     Mobile country code                                    Country ISO 3166  \\\n",
       "0                    289                                 A Abkhazia    GE-AB   \n",
       "1                    412                                Afghanistan       AF   \n",
       "2                    276                                    Albania       AL   \n",
       "3                    603                                    Algeria       DZ   \n",
       "4                    544  American Samoa (United States of America)       AS   \n",
       "..                   ...                                        ...      ...   \n",
       "247                  452                                    Vietnam       VN   \n",
       "248                  543                        W Wallis and Futuna       WF   \n",
       "249                  421                                    Y Yemen       YE   \n",
       "250                  645                                   Z Zambia       ZM   \n",
       "251                  648                                   Zimbabwe       ZW   \n",
       "\n",
       "                                  Mobile network codes National MNC authority  \\\n",
       "0             List of mobile network codes in Abkhazia                    NaN   \n",
       "1          List of mobile network codes in Afghanistan                    NaN   \n",
       "2              List of mobile network codes in Albania                    NaN   \n",
       "3              List of mobile network codes in Algeria                    NaN   \n",
       "4       List of mobile network codes in American Samoa                    NaN   \n",
       "..                                                 ...                    ...   \n",
       "247        List of mobile network codes in the Vietnam                    NaN   \n",
       "248  List of mobile network codes in Wallis and Futuna                    NaN   \n",
       "249          List of mobile network codes in the Yemen                    NaN   \n",
       "250             List of mobile network codes in Zambia                    NaN   \n",
       "251           List of mobile network codes in Zimbabwe                    NaN   \n",
       "\n",
       "                      Remarks  \n",
       "0    MCC is not listed by ITU  \n",
       "1                         NaN  \n",
       "2                         NaN  \n",
       "3                         NaN  \n",
       "4                         NaN  \n",
       "..                        ...  \n",
       "247                       NaN  \n",
       "248                       NaN  \n",
       "249                       NaN  \n",
       "250                       NaN  \n",
       "251                       NaN  \n",
       "\n",
       "[252 rows x 6 columns]"
      ]
     },
     "execution_count": 68,
     "metadata": {},
     "output_type": "execute_result"
    }
   ],
   "source": [
    "url_mcc = 'https://en.wikipedia.org/wiki/Mobile_country_code'\n",
    "dfs = pd.read_html(url_mcc, match='Country', header=0)\n",
    "dfs[0]"
   ]
  },
  {
   "cell_type": "markdown",
   "id": "14007b97",
   "metadata": {},
   "source": [
    "# Reading Excel Files"
   ]
  },
  {
   "cell_type": "code",
   "execution_count": 69,
   "id": "7b8794fc",
   "metadata": {},
   "outputs": [
    {
     "ename": "FileNotFoundError",
     "evalue": "[Errno 2] No such file or directory: 'Excel_Sample.xlsx'",
     "output_type": "error",
     "traceback": [
      "\u001b[1;31m---------------------------------------------------------------------------\u001b[0m",
      "\u001b[1;31mFileNotFoundError\u001b[0m                         Traceback (most recent call last)",
      "Input \u001b[1;32mIn [69]\u001b[0m, in \u001b[0;36m<cell line: 1>\u001b[1;34m()\u001b[0m\n\u001b[1;32m----> 1\u001b[0m df_excel\u001b[38;5;241m=\u001b[39m\u001b[43mpd\u001b[49m\u001b[38;5;241;43m.\u001b[39;49m\u001b[43mread_excel\u001b[49m\u001b[43m(\u001b[49m\u001b[38;5;124;43m'\u001b[39;49m\u001b[38;5;124;43mExcel_Sample.xlsx\u001b[39;49m\u001b[38;5;124;43m'\u001b[39;49m\u001b[43m)\u001b[49m\n\u001b[0;32m      2\u001b[0m df_excel\u001b[38;5;241m.\u001b[39mhead()\n",
      "File \u001b[1;32mC:\\ProgramFiles\\Anaconda3\\lib\\site-packages\\pandas\\util\\_decorators.py:311\u001b[0m, in \u001b[0;36mdeprecate_nonkeyword_arguments.<locals>.decorate.<locals>.wrapper\u001b[1;34m(*args, **kwargs)\u001b[0m\n\u001b[0;32m    305\u001b[0m \u001b[38;5;28;01mif\u001b[39;00m \u001b[38;5;28mlen\u001b[39m(args) \u001b[38;5;241m>\u001b[39m num_allow_args:\n\u001b[0;32m    306\u001b[0m     warnings\u001b[38;5;241m.\u001b[39mwarn(\n\u001b[0;32m    307\u001b[0m         msg\u001b[38;5;241m.\u001b[39mformat(arguments\u001b[38;5;241m=\u001b[39marguments),\n\u001b[0;32m    308\u001b[0m         \u001b[38;5;167;01mFutureWarning\u001b[39;00m,\n\u001b[0;32m    309\u001b[0m         stacklevel\u001b[38;5;241m=\u001b[39mstacklevel,\n\u001b[0;32m    310\u001b[0m     )\n\u001b[1;32m--> 311\u001b[0m \u001b[38;5;28;01mreturn\u001b[39;00m func(\u001b[38;5;241m*\u001b[39margs, \u001b[38;5;241m*\u001b[39m\u001b[38;5;241m*\u001b[39mkwargs)\n",
      "File \u001b[1;32mC:\\ProgramFiles\\Anaconda3\\lib\\site-packages\\pandas\\io\\excel\\_base.py:457\u001b[0m, in \u001b[0;36mread_excel\u001b[1;34m(io, sheet_name, header, names, index_col, usecols, squeeze, dtype, engine, converters, true_values, false_values, skiprows, nrows, na_values, keep_default_na, na_filter, verbose, parse_dates, date_parser, thousands, decimal, comment, skipfooter, convert_float, mangle_dupe_cols, storage_options)\u001b[0m\n\u001b[0;32m    455\u001b[0m \u001b[38;5;28;01mif\u001b[39;00m \u001b[38;5;129;01mnot\u001b[39;00m \u001b[38;5;28misinstance\u001b[39m(io, ExcelFile):\n\u001b[0;32m    456\u001b[0m     should_close \u001b[38;5;241m=\u001b[39m \u001b[38;5;28;01mTrue\u001b[39;00m\n\u001b[1;32m--> 457\u001b[0m     io \u001b[38;5;241m=\u001b[39m \u001b[43mExcelFile\u001b[49m\u001b[43m(\u001b[49m\u001b[43mio\u001b[49m\u001b[43m,\u001b[49m\u001b[43m \u001b[49m\u001b[43mstorage_options\u001b[49m\u001b[38;5;241;43m=\u001b[39;49m\u001b[43mstorage_options\u001b[49m\u001b[43m,\u001b[49m\u001b[43m \u001b[49m\u001b[43mengine\u001b[49m\u001b[38;5;241;43m=\u001b[39;49m\u001b[43mengine\u001b[49m\u001b[43m)\u001b[49m\n\u001b[0;32m    458\u001b[0m \u001b[38;5;28;01melif\u001b[39;00m engine \u001b[38;5;129;01mand\u001b[39;00m engine \u001b[38;5;241m!=\u001b[39m io\u001b[38;5;241m.\u001b[39mengine:\n\u001b[0;32m    459\u001b[0m     \u001b[38;5;28;01mraise\u001b[39;00m \u001b[38;5;167;01mValueError\u001b[39;00m(\n\u001b[0;32m    460\u001b[0m         \u001b[38;5;124m\"\u001b[39m\u001b[38;5;124mEngine should not be specified when passing \u001b[39m\u001b[38;5;124m\"\u001b[39m\n\u001b[0;32m    461\u001b[0m         \u001b[38;5;124m\"\u001b[39m\u001b[38;5;124man ExcelFile - ExcelFile already has the engine set\u001b[39m\u001b[38;5;124m\"\u001b[39m\n\u001b[0;32m    462\u001b[0m     )\n",
      "File \u001b[1;32mC:\\ProgramFiles\\Anaconda3\\lib\\site-packages\\pandas\\io\\excel\\_base.py:1376\u001b[0m, in \u001b[0;36mExcelFile.__init__\u001b[1;34m(self, path_or_buffer, engine, storage_options)\u001b[0m\n\u001b[0;32m   1374\u001b[0m     ext \u001b[38;5;241m=\u001b[39m \u001b[38;5;124m\"\u001b[39m\u001b[38;5;124mxls\u001b[39m\u001b[38;5;124m\"\u001b[39m\n\u001b[0;32m   1375\u001b[0m \u001b[38;5;28;01melse\u001b[39;00m:\n\u001b[1;32m-> 1376\u001b[0m     ext \u001b[38;5;241m=\u001b[39m \u001b[43minspect_excel_format\u001b[49m\u001b[43m(\u001b[49m\n\u001b[0;32m   1377\u001b[0m \u001b[43m        \u001b[49m\u001b[43mcontent_or_path\u001b[49m\u001b[38;5;241;43m=\u001b[39;49m\u001b[43mpath_or_buffer\u001b[49m\u001b[43m,\u001b[49m\u001b[43m \u001b[49m\u001b[43mstorage_options\u001b[49m\u001b[38;5;241;43m=\u001b[39;49m\u001b[43mstorage_options\u001b[49m\n\u001b[0;32m   1378\u001b[0m \u001b[43m    \u001b[49m\u001b[43m)\u001b[49m\n\u001b[0;32m   1379\u001b[0m     \u001b[38;5;28;01mif\u001b[39;00m ext \u001b[38;5;129;01mis\u001b[39;00m \u001b[38;5;28;01mNone\u001b[39;00m:\n\u001b[0;32m   1380\u001b[0m         \u001b[38;5;28;01mraise\u001b[39;00m \u001b[38;5;167;01mValueError\u001b[39;00m(\n\u001b[0;32m   1381\u001b[0m             \u001b[38;5;124m\"\u001b[39m\u001b[38;5;124mExcel file format cannot be determined, you must specify \u001b[39m\u001b[38;5;124m\"\u001b[39m\n\u001b[0;32m   1382\u001b[0m             \u001b[38;5;124m\"\u001b[39m\u001b[38;5;124man engine manually.\u001b[39m\u001b[38;5;124m\"\u001b[39m\n\u001b[0;32m   1383\u001b[0m         )\n",
      "File \u001b[1;32mC:\\ProgramFiles\\Anaconda3\\lib\\site-packages\\pandas\\io\\excel\\_base.py:1250\u001b[0m, in \u001b[0;36minspect_excel_format\u001b[1;34m(content_or_path, storage_options)\u001b[0m\n\u001b[0;32m   1247\u001b[0m \u001b[38;5;28;01mif\u001b[39;00m \u001b[38;5;28misinstance\u001b[39m(content_or_path, \u001b[38;5;28mbytes\u001b[39m):\n\u001b[0;32m   1248\u001b[0m     content_or_path \u001b[38;5;241m=\u001b[39m BytesIO(content_or_path)\n\u001b[1;32m-> 1250\u001b[0m \u001b[38;5;28;01mwith\u001b[39;00m \u001b[43mget_handle\u001b[49m\u001b[43m(\u001b[49m\n\u001b[0;32m   1251\u001b[0m \u001b[43m    \u001b[49m\u001b[43mcontent_or_path\u001b[49m\u001b[43m,\u001b[49m\u001b[43m \u001b[49m\u001b[38;5;124;43m\"\u001b[39;49m\u001b[38;5;124;43mrb\u001b[39;49m\u001b[38;5;124;43m\"\u001b[39;49m\u001b[43m,\u001b[49m\u001b[43m \u001b[49m\u001b[43mstorage_options\u001b[49m\u001b[38;5;241;43m=\u001b[39;49m\u001b[43mstorage_options\u001b[49m\u001b[43m,\u001b[49m\u001b[43m \u001b[49m\u001b[43mis_text\u001b[49m\u001b[38;5;241;43m=\u001b[39;49m\u001b[38;5;28;43;01mFalse\u001b[39;49;00m\n\u001b[0;32m   1252\u001b[0m \u001b[43m\u001b[49m\u001b[43m)\u001b[49m \u001b[38;5;28;01mas\u001b[39;00m handle:\n\u001b[0;32m   1253\u001b[0m     stream \u001b[38;5;241m=\u001b[39m handle\u001b[38;5;241m.\u001b[39mhandle\n\u001b[0;32m   1254\u001b[0m     stream\u001b[38;5;241m.\u001b[39mseek(\u001b[38;5;241m0\u001b[39m)\n",
      "File \u001b[1;32mC:\\ProgramFiles\\Anaconda3\\lib\\site-packages\\pandas\\io\\common.py:798\u001b[0m, in \u001b[0;36mget_handle\u001b[1;34m(path_or_buf, mode, encoding, compression, memory_map, is_text, errors, storage_options)\u001b[0m\n\u001b[0;32m    789\u001b[0m         handle \u001b[38;5;241m=\u001b[39m \u001b[38;5;28mopen\u001b[39m(\n\u001b[0;32m    790\u001b[0m             handle,\n\u001b[0;32m    791\u001b[0m             ioargs\u001b[38;5;241m.\u001b[39mmode,\n\u001b[1;32m   (...)\u001b[0m\n\u001b[0;32m    794\u001b[0m             newline\u001b[38;5;241m=\u001b[39m\u001b[38;5;124m\"\u001b[39m\u001b[38;5;124m\"\u001b[39m,\n\u001b[0;32m    795\u001b[0m         )\n\u001b[0;32m    796\u001b[0m     \u001b[38;5;28;01melse\u001b[39;00m:\n\u001b[0;32m    797\u001b[0m         \u001b[38;5;66;03m# Binary mode\u001b[39;00m\n\u001b[1;32m--> 798\u001b[0m         handle \u001b[38;5;241m=\u001b[39m \u001b[38;5;28;43mopen\u001b[39;49m\u001b[43m(\u001b[49m\u001b[43mhandle\u001b[49m\u001b[43m,\u001b[49m\u001b[43m \u001b[49m\u001b[43mioargs\u001b[49m\u001b[38;5;241;43m.\u001b[39;49m\u001b[43mmode\u001b[49m\u001b[43m)\u001b[49m\n\u001b[0;32m    799\u001b[0m     handles\u001b[38;5;241m.\u001b[39mappend(handle)\n\u001b[0;32m    801\u001b[0m \u001b[38;5;66;03m# Convert BytesIO or file objects passed with an encoding\u001b[39;00m\n",
      "\u001b[1;31mFileNotFoundError\u001b[0m: [Errno 2] No such file or directory: 'Excel_Sample.xlsx'"
     ]
    }
   ],
   "source": [
    "df_excel=pd.read_excel('Excel_Sample.xlsx')\n",
    "df_excel.head()"
   ]
  },
  {
   "cell_type": "markdown",
   "id": "7395116d",
   "metadata": {},
   "source": [
    "# Pickling"
   ]
  },
  {
   "cell_type": "code",
   "execution_count": null,
   "id": "3f88df4a",
   "metadata": {},
   "outputs": [],
   "source": [
    "df_excel.to_pickle('df_excel')\n",
    "df=pd.read_pickle('df_excel')\n",
    "df.head()"
   ]
  },
  {
   "cell_type": "markdown",
   "id": "67d3a95b",
   "metadata": {},
   "source": [
    "# MatplotLib"
   ]
  },
  {
   "cell_type": "code",
   "execution_count": null,
   "id": "7993bfd9",
   "metadata": {},
   "outputs": [],
   "source": [
    "##is a plotting library for the Python programming language \n",
    "##and its numerical mathematics extension NumPy. \n",
    "##It provides an object-oriented API for embedding plots into applications using \n",
    "##general-purpose GUI toolkits like Tkinter, wxPython, Qt, or GTK+."
   ]
  },
  {
   "cell_type": "code",
   "execution_count": 70,
   "id": "30d5af28",
   "metadata": {},
   "outputs": [
    {
     "data": {
      "image/png": "[encoded data removed]",
      "text/plain": [
       "<Figure size 432x288 with 1 Axes>"
      ]
     },
     "metadata": {
      "needs_background": "light"
     },
     "output_type": "display_data"
    }
   ],
   "source": [
    "import matplotlib.pyplot as plt\n",
    "\n",
    "%matplotlib inline\n",
    "import numpy as np\n",
    "\n",
    "## Simple Examples\n",
    "x=np.arange(0,10)\n",
    "y=np.arange(11,21)\n",
    "a=np.arange(40,50)\n",
    "b=np.arange(50,60)\n",
    "\n",
    "##plotting using matplotlib \n",
    "##plt scatter\n",
    "plt.scatter(x,y,c='g') #to scatter values of x and y in 2D graph, c-color\n",
    "plt.xlabel('X axis')\n",
    "plt.ylabel('Y axis')\n",
    "plt.title('Graph in 2D')\n",
    "plt.savefig('Test.png')"
   ]
  },
  {
   "cell_type": "code",
   "execution_count": 72,
   "id": "f63207fc",
   "metadata": {},
   "outputs": [
    {
     "data": {
      "text/plain": [
       "Text(0.5, 1.0, '2d Diagram')"
      ]
     },
     "execution_count": 72,
     "metadata": {},
     "output_type": "execute_result"
    },
    {
     "data": {
      "image/png": "[encoded data removed]",
      "text/plain": [
       "<Figure size 432x288 with 1 Axes>"
      ]
     },
     "metadata": {
      "needs_background": "light"
     },
     "output_type": "display_data"
    }
   ],
   "source": [
    "## plt plot\n",
    "##In plot you get a line through the points wheras in scatter, just the points are shown\n",
    "plt.plot(x,y,'r*',linestyle='dashed',linewidth=2, markersize=12)\n",
    "plt.xlabel('X axis')\n",
    "plt.ylabel('Y axis')\n",
    "plt.title('2d Diagram')"
   ]
  },
  {
   "cell_type": "code",
   "execution_count": 77,
   "id": "6b7b186d",
   "metadata": {},
   "outputs": [
    {
     "data": {
      "text/plain": [
       "[<matplotlib.lines.Line2D at 0x13e002e78b0>]"
      ]
     },
     "execution_count": 77,
     "metadata": {},
     "output_type": "execute_result"
    },
    {
     "data": {
      "image/png": "[encoded data removed]",
      "text/plain": [
       "<Figure size 432x288 with 4 Axes>"
      ]
     },
     "metadata": {
      "needs_background": "light"
     },
     "output_type": "display_data"
    }
   ],
   "source": [
    "## Creating Subplots\n",
    "plt.subplot(2,2,1) #syntax-(nrows,ncols,position)\n",
    "plt.plot(x,y,'r--')\n",
    "plt.subplot(2,2,2)\n",
    "plt.plot(x,y,'g*--')\n",
    "plt.subplot(2,2,3)\n",
    "plt.plot(x,y,'bo')\n",
    "plt.subplot(2,2,4)\n",
    "plt.plot(x,y,'go')"
   ]
  },
  {
   "cell_type": "code",
   "execution_count": 79,
   "id": "b39705f0",
   "metadata": {},
   "outputs": [
    {
     "data": {
      "image/png": "[encoded data removed]",
      "text/plain": [
       "<Figure size 432x288 with 1 Axes>"
      ]
     },
     "metadata": {
      "needs_background": "light"
     },
     "output_type": "display_data"
    }
   ],
   "source": [
    "x = np.arange(1,11) \n",
    "y = 3 * x + 5 \n",
    "plt.title(\"Matplotlib demo\") \n",
    "plt.xlabel(\"x axis caption\") \n",
    "plt.ylabel(\"y axis caption\") \n",
    "plt.plot(x,y) \n",
    "plt.show()"
   ]
  },
  {
   "cell_type": "code",
   "execution_count": 80,
   "id": "d9f69262",
   "metadata": {},
   "outputs": [
    {
     "data": {
      "text/plain": [
       "3.141592653589793"
      ]
     },
     "execution_count": 80,
     "metadata": {},
     "output_type": "execute_result"
    }
   ],
   "source": [
    "np.pi"
   ]
  },
  {
   "cell_type": "code",
   "execution_count": 75,
   "id": "b29bb0ac",
   "metadata": {},
   "outputs": [
    {
     "data": {
      "image/png": "[encoded data removed]",
      "text/plain": [
       "<Figure size 432x288 with 1 Axes>"
      ]
     },
     "metadata": {
      "needs_background": "light"
     },
     "output_type": "display_data"
    }
   ],
   "source": [
    "# Compute the x and y coordinates for points on a sine curve \n",
    "x = np.arange(0, 4 * np.pi, 0.1) \n",
    "y = np.sin(x) \n",
    "plt.title(\"sine wave form\") \n",
    "\n",
    "# Plot the points using matplotlib \n",
    "plt.plot(x, y) \n",
    "plt.show() "
   ]
  },
  {
   "cell_type": "code",
   "execution_count": 81,
   "id": "07546f71",
   "metadata": {},
   "outputs": [
    {
     "data": {
      "image/png": "[encoded data removed]",
      "text/plain": [
       "<Figure size 432x288 with 2 Axes>"
      ]
     },
     "metadata": {
      "needs_background": "light"
     },
     "output_type": "display_data"
    }
   ],
   "source": [
    "#Subplot()\n",
    "# Compute the x and y coordinates for points on sine and cosine curves \n",
    "x = np.arange(0, 5 * np.pi, 0.1) \n",
    "y_sin = np.sin(x) \n",
    "y_cos = np.cos(x)  \n",
    "   \n",
    "# Set up a subplot grid that has height 2 and width 1, \n",
    "# and set the first such subplot as active. \n",
    "plt.subplot(2, 1, 1)\n",
    "   \n",
    "# Make the first plot \n",
    "plt.plot(x, y_sin,'r--') \n",
    "plt.title('Sine')  \n",
    "   \n",
    "# Set the second subplot as active, and make the second plot. \n",
    "plt.subplot(2, 1, 2) \n",
    "plt.plot(x, y_cos,'g--') \n",
    "plt.title('Cosine')  \n",
    "   \n",
    "# Show the figure. \n",
    "plt.show()"
   ]
  },
  {
   "cell_type": "code",
   "execution_count": 86,
   "id": "55a24def",
   "metadata": {},
   "outputs": [
    {
     "data": {
      "image/png": "[encoded data removed]",
      "text/plain": [
       "<Figure size 432x288 with 1 Axes>"
      ]
     },
     "metadata": {
      "needs_background": "light"
     },
     "output_type": "display_data"
    }
   ],
   "source": [
    "## Bar plot\n",
    "x = [2,8,10] \n",
    "y = [11,16,9]  \n",
    "\n",
    "x2 = [3,9,11] \n",
    "y2 = [6,15,7] \n",
    "plt.bar(x, y) #this is the first graph (two dataset are plotted here)\n",
    "plt.bar(x2, y2, color = 'g') ##this is the 2nd graph\n",
    "plt.title('Bar graph') \n",
    "plt.ylabel('Y axis') \n",
    "plt.xlabel('X axis')  \n",
    "\n",
    "plt.show()"
   ]
  },
  {
   "cell_type": "markdown",
   "id": "30f8badd",
   "metadata": {},
   "source": [
    "# Histograms"
   ]
  },
  {
   "cell_type": "code",
   "execution_count": 101,
   "id": "4eaf13cd",
   "metadata": {},
   "outputs": [
    {
     "data": {
      "image/png": "[encoded data removed]",
      "text/plain": [
       "<Figure size 432x288 with 1 Axes>"
      ]
     },
     "metadata": {
      "needs_background": "light"
     },
     "output_type": "display_data"
    }
   ],
   "source": [
    "#wrt to numbers given, what is the density or count is given in y axis\n",
    "a = np.array([22,87,5,43,56,73,55,54,11,20,51,5,79,31,27]) \n",
    "plt.hist(a,bins=20) \n",
    "plt.title(\"histogram\") \n",
    "plt.show()"
   ]
  },
  {
   "cell_type": "markdown",
   "id": "566562cc",
   "metadata": {},
   "source": [
    "# Box Plot using Matplotlib"
   ]
  },
  {
   "cell_type": "code",
   "execution_count": 103,
   "id": "ed498d54",
   "metadata": {},
   "outputs": [
    {
     "data": {
      "image/png": "[encoded data removed]",
      "text/plain": [
       "<Figure size 432x288 with 1 Axes>"
      ]
     },
     "metadata": {
      "needs_background": "light"
     },
     "output_type": "display_data"
    }
   ],
   "source": [
    "#boxplot helps you to find percentiles\n",
    "data = [np.random.normal(0, std, 100) for std in range(1, 4)] ##normal distribution, \n",
    "                                                              ##0 to standard deviation value\n",
    "\n",
    "# rectangular box plot\n",
    "plt.boxplot(data,vert=True,patch_artist=False); ##patch_artist=True gives color\n",
    "                                                ##vert=False turns diagram horizontally"
   ]
  },
  {
   "cell_type": "code",
   "execution_count": 89,
   "id": "e37170c5",
   "metadata": {},
   "outputs": [
    {
     "data": {
      "text/plain": [
       "[array([ 0.26911566, -0.0902165 ,  0.20267733,  2.20382151,  0.26616564,\n",
       "         0.85928749,  2.13615137, -0.66945111,  0.79482215, -0.87678984,\n",
       "        -0.10943052, -1.34786499, -0.24228486, -0.27028698, -0.37041278,\n",
       "         0.47247227, -0.94343744, -0.31356158, -0.16492288, -1.00583874,\n",
       "        -1.52684885, -0.05406471, -0.41461684, -0.87251473,  0.86837082,\n",
       "         1.48769971,  0.62927617,  0.1938138 ,  0.69289038, -0.40526989,\n",
       "         0.91461801,  0.51446099, -0.81626863, -0.08123054,  0.58202849,\n",
       "         0.45459969, -1.35840275, -1.01407321,  0.53575154,  1.44948563,\n",
       "        -0.04779213,  0.63641375,  0.99221326,  0.87340511, -0.26463835,\n",
       "         0.91341843,  1.77371459, -0.35926842, -0.03121256,  1.11373015,\n",
       "        -0.96212231,  0.44209274, -0.74715885, -1.29187974, -0.63252544,\n",
       "        -1.64918019, -0.95093125, -0.50389109, -0.10703738,  1.50822069,\n",
       "         0.86499815,  0.62972345, -0.68764777, -0.87780168,  1.87495639,\n",
       "        -1.22886784, -2.05281569,  0.73252473, -2.23801535, -0.03022445,\n",
       "         0.05690576, -0.46105889,  1.73161936,  0.82713645, -0.29399401,\n",
       "         0.35730881,  0.28277165, -0.64665188, -0.95290942,  0.59573468,\n",
       "         1.02317841, -0.01848493, -1.52311219, -0.41532706,  0.91697071,\n",
       "         0.57248038,  0.46739284, -0.55887328, -0.6933387 ,  0.9213184 ,\n",
       "         1.07038829,  0.12676431,  0.65736641, -1.06532984, -0.64082535,\n",
       "        -1.56253939, -0.60984486, -2.22745818, -0.32366367, -0.91593716]),\n",
       " array([-1.15700238,  1.16730616,  1.35996822, -2.52930896, -0.38955719,\n",
       "        -1.31275958, -3.65354539,  1.50285086,  5.20069801,  2.96145252,\n",
       "         1.03107   ,  0.97747097, -1.48047467, -0.30472121, -3.31393869,\n",
       "         1.03839035, -0.32231763, -0.93271915, -1.28721493,  1.71110602,\n",
       "        -1.50754734, -3.19982973,  1.36668156,  1.77376899,  0.9530326 ,\n",
       "         1.14070478,  0.62011959,  0.24996372,  2.21649267,  0.74316229,\n",
       "        -1.53252872,  1.9725312 ,  0.80068407,  2.50581602,  0.78893669,\n",
       "        -1.72681545,  1.19295942, -1.3807199 ,  4.14196122, -0.69972219,\n",
       "        -0.96023254, -2.09268601,  0.10815523, -0.3554921 , -1.80662772,\n",
       "         1.74890855, -0.25960544,  0.14503299,  0.1712351 , -1.3616279 ,\n",
       "        -2.13223993, -0.05519659,  2.1024524 , -2.69098837,  4.23628522,\n",
       "        -2.3573347 ,  3.71936928,  0.1297266 ,  0.32604125, -0.58722396,\n",
       "         1.57156811, -0.90327627, -0.74671718,  4.72798646,  1.08172725,\n",
       "        -1.78777295, -0.33566848,  2.66348736, -1.69880347,  2.00678538,\n",
       "         6.24699602,  1.62817652,  1.14792818,  1.92253457, -1.7746612 ,\n",
       "        -0.19986232,  0.87303674,  1.36573341,  2.21983684, -1.01211564,\n",
       "         3.2751489 ,  1.94600772,  2.14560675,  0.19068701,  1.84319558,\n",
       "        -0.90746391,  1.36046735,  2.74690636, -1.21846739, -1.54080358,\n",
       "        -2.04031318,  3.50306808, -1.58345013, -1.25333585, -1.0060684 ,\n",
       "        -1.82001808, -1.45020285, -1.85165055,  1.52340641,  1.62817261]),\n",
       " array([-2.30769108, -3.68971185, -3.29407318,  7.46009583, -1.36848441,\n",
       "        -2.38027452,  4.40405417,  3.5667403 ,  0.69908741,  7.28552058,\n",
       "        -4.03408056, -6.44409654, -3.33412525, -2.24578717, -1.50716917,\n",
       "         0.3791763 , -0.53490915,  8.19844547, -1.42694042,  0.68490994,\n",
       "        -0.47778258,  0.79112864,  0.90661247, -3.72481504, -0.88755873,\n",
       "         2.37111434,  2.08548851,  1.96963291,  1.49095682,  3.77201791,\n",
       "         6.20123033,  5.41625275,  0.37793571,  0.96227265,  0.89720613,\n",
       "        -0.01498252,  3.2294109 ,  4.06176864, -1.09877353,  0.41566564,\n",
       "        -5.10874018, -3.06054326, -0.56095882,  0.67612287,  3.44140131,\n",
       "        -0.08726593, -5.24855897, -2.4268126 , -3.41275481,  8.57671179,\n",
       "         0.76364194,  2.78179567, -4.7835131 , -3.03552881,  2.88878799,\n",
       "        -2.23222414, -0.8534609 ,  2.6003876 ,  0.40704394, -1.21670736,\n",
       "        -3.51447654,  3.77470589,  0.56147689, -0.21549329, -1.28063866,\n",
       "         2.15616131, -0.33027391,  2.74046084,  3.99800316, -0.92199014,\n",
       "        -1.85865806, -5.78702325, -1.26071104, -2.29901387,  3.07779205,\n",
       "         2.5168342 , -3.73432477,  7.28302157, -0.55776763, -1.58471124,\n",
       "         1.06245674,  1.12389206,  1.35512116,  0.57863448, -0.43933998,\n",
       "         2.70515114,  1.02589728, -0.9381392 , -6.05517819, -0.58303184,\n",
       "         6.207815  , -0.51573547,  0.57741061, -1.39010506, -0.75104261,\n",
       "         1.27103791, -3.56246484,  2.50648657, -2.59211957, -2.97709421])]"
      ]
     },
     "execution_count": 89,
     "metadata": {},
     "output_type": "execute_result"
    }
   ],
   "source": [
    "data"
   ]
  },
  {
   "cell_type": "markdown",
   "id": "45942381",
   "metadata": {},
   "source": [
    "# Pie Chart"
   ]
  },
  {
   "cell_type": "code",
   "execution_count": 102,
   "id": "9b78bc87",
   "metadata": {},
   "outputs": [
    {
     "data": {
      "image/png": "[encoded data removed]",
      "text/plain": [
       "<Figure size 432x288 with 1 Axes>"
      ]
     },
     "metadata": {},
     "output_type": "display_data"
    }
   ],
   "source": [
    "# Data to plot\n",
    "labels = 'Python', 'C++', 'Ruby', 'Java'\n",
    "sizes = [215, 130, 245, 210]\n",
    "colors = ['gold', 'yellowgreen', 'lightcoral', 'lightskyblue']\n",
    "explode = (0.4, 0, 0, 0)  # explode 1st slice\n",
    "\n",
    "# Plot\n",
    "plt.pie(sizes, explode=explode, labels=labels, colors=colors,\n",
    "autopct='%1.1f%%', shadow=False)\n",
    "\n",
    "plt.axis('equal')\n",
    "plt.show()"
   ]
  },
  {
   "cell_type": "markdown",
   "id": "eeff0de2",
   "metadata": {},
   "source": [
    "# Seaborn"
   ]
  },
  {
   "cell_type": "code",
   "execution_count": null,
   "id": "92ed4225",
   "metadata": {},
   "outputs": [],
   "source": [
    "#Distribution plots\n",
    "#distplot\n",
    "#joinplot\n",
    "#pairplot"
   ]
  },
  {
   "cell_type": "code",
   "execution_count": 104,
   "id": "25f881c8",
   "metadata": {},
   "outputs": [
    {
     "data": {
      "text/html": [
       "<div>\n",
       "<style scoped>\n",
       "    .dataframe tbody tr th:only-of-type {\n",
       "        vertical-align: middle;\n",
       "    }\n",
       "\n",
       "    .dataframe tbody tr th {\n",
       "        vertical-align: top;\n",
       "    }\n",
       "\n",
       "    .dataframe thead th {\n",
       "        text-align: right;\n",
       "    }\n",
       "</style>\n",
       "<table border=\"1\" class=\"dataframe\">\n",
       "  <thead>\n",
       "    <tr style=\"text-align: right;\">\n",
       "      <th></th>\n",
       "      <th>total_bill</th>\n",
       "      <th>tip</th>\n",
       "      <th>sex</th>\n",
       "      <th>smoker</th>\n",
       "      <th>day</th>\n",
       "      <th>time</th>\n",
       "      <th>size</th>\n",
       "    </tr>\n",
       "  </thead>\n",
       "  <tbody>\n",
       "    <tr>\n",
       "      <th>0</th>\n",
       "      <td>16.99</td>\n",
       "      <td>1.01</td>\n",
       "      <td>Female</td>\n",
       "      <td>No</td>\n",
       "      <td>Sun</td>\n",
       "      <td>Dinner</td>\n",
       "      <td>2</td>\n",
       "    </tr>\n",
       "    <tr>\n",
       "      <th>1</th>\n",
       "      <td>10.34</td>\n",
       "      <td>1.66</td>\n",
       "      <td>Male</td>\n",
       "      <td>No</td>\n",
       "      <td>Sun</td>\n",
       "      <td>Dinner</td>\n",
       "      <td>3</td>\n",
       "    </tr>\n",
       "    <tr>\n",
       "      <th>2</th>\n",
       "      <td>21.01</td>\n",
       "      <td>3.50</td>\n",
       "      <td>Male</td>\n",
       "      <td>No</td>\n",
       "      <td>Sun</td>\n",
       "      <td>Dinner</td>\n",
       "      <td>3</td>\n",
       "    </tr>\n",
       "    <tr>\n",
       "      <th>3</th>\n",
       "      <td>23.68</td>\n",
       "      <td>3.31</td>\n",
       "      <td>Male</td>\n",
       "      <td>No</td>\n",
       "      <td>Sun</td>\n",
       "      <td>Dinner</td>\n",
       "      <td>2</td>\n",
       "    </tr>\n",
       "    <tr>\n",
       "      <th>4</th>\n",
       "      <td>24.59</td>\n",
       "      <td>3.61</td>\n",
       "      <td>Female</td>\n",
       "      <td>No</td>\n",
       "      <td>Sun</td>\n",
       "      <td>Dinner</td>\n",
       "      <td>4</td>\n",
       "    </tr>\n",
       "  </tbody>\n",
       "</table>\n",
       "</div>"
      ],
      "text/plain": [
       "   total_bill   tip     sex smoker  day    time  size\n",
       "0       16.99  1.01  Female     No  Sun  Dinner     2\n",
       "1       10.34  1.66    Male     No  Sun  Dinner     3\n",
       "2       21.01  3.50    Male     No  Sun  Dinner     3\n",
       "3       23.68  3.31    Male     No  Sun  Dinner     2\n",
       "4       24.59  3.61  Female     No  Sun  Dinner     4"
      ]
     },
     "execution_count": 104,
     "metadata": {},
     "output_type": "execute_result"
    }
   ],
   "source": [
    "import seaborn as sns\n",
    "df=sns.load_dataset(\"tips\")\n",
    "df.head()"
   ]
  },
  {
   "cell_type": "markdown",
   "id": "d7d34ff5",
   "metadata": {},
   "source": [
    "# Corelation with Heatmap"
   ]
  },
  {
   "cell_type": "code",
   "execution_count": null,
   "id": "df0d6526",
   "metadata": {},
   "outputs": [],
   "source": [
    "#A correlation heatmap uses colored cells, typically in a monochromatic scale, \n",
    "#to show a 2D correlation matrix (table) between two discrete dimensions \n",
    "#It is very important in Feature Selection\n",
    "\n",
    "\n",
    "##correlation is not found for categorical features and only for numerical and float\n",
    "#the value ranges from -1 to 1"
   ]
  },
  {
   "cell_type": "code",
   "execution_count": 105,
   "id": "d118a6b0",
   "metadata": {},
   "outputs": [
    {
     "data": {
      "text/html": [
       "<div>\n",
       "<style scoped>\n",
       "    .dataframe tbody tr th:only-of-type {\n",
       "        vertical-align: middle;\n",
       "    }\n",
       "\n",
       "    .dataframe tbody tr th {\n",
       "        vertical-align: top;\n",
       "    }\n",
       "\n",
       "    .dataframe thead th {\n",
       "        text-align: right;\n",
       "    }\n",
       "</style>\n",
       "<table border=\"1\" class=\"dataframe\">\n",
       "  <thead>\n",
       "    <tr style=\"text-align: right;\">\n",
       "      <th></th>\n",
       "      <th>total_bill</th>\n",
       "      <th>tip</th>\n",
       "      <th>size</th>\n",
       "    </tr>\n",
       "  </thead>\n",
       "  <tbody>\n",
       "    <tr>\n",
       "      <th>total_bill</th>\n",
       "      <td>1.000000</td>\n",
       "      <td>0.675734</td>\n",
       "      <td>0.598315</td>\n",
       "    </tr>\n",
       "    <tr>\n",
       "      <th>tip</th>\n",
       "      <td>0.675734</td>\n",
       "      <td>1.000000</td>\n",
       "      <td>0.489299</td>\n",
       "    </tr>\n",
       "    <tr>\n",
       "      <th>size</th>\n",
       "      <td>0.598315</td>\n",
       "      <td>0.489299</td>\n",
       "      <td>1.000000</td>\n",
       "    </tr>\n",
       "  </tbody>\n",
       "</table>\n",
       "</div>"
      ],
      "text/plain": [
       "            total_bill       tip      size\n",
       "total_bill    1.000000  0.675734  0.598315\n",
       "tip           0.675734  1.000000  0.489299\n",
       "size          0.598315  0.489299  1.000000"
      ]
     },
     "execution_count": 105,
     "metadata": {},
     "output_type": "execute_result"
    }
   ],
   "source": [
    "df.corr()"
   ]
  },
  {
   "cell_type": "code",
   "execution_count": 106,
   "id": "2f45a69c",
   "metadata": {},
   "outputs": [
    {
     "data": {
      "text/plain": [
       "<AxesSubplot:>"
      ]
     },
     "execution_count": 106,
     "metadata": {},
     "output_type": "execute_result"
    },
    {
     "data": {
      "image/png": "[encoded data removed]",
      "text/plain": [
       "<Figure size 432x288 with 2 Axes>"
      ]
     },
     "metadata": {
      "needs_background": "light"
     },
     "output_type": "display_data"
    }
   ],
   "source": [
    "sns.heatmap(df.corr())"
   ]
  },
  {
   "cell_type": "markdown",
   "id": "42f4e16d",
   "metadata": {},
   "source": [
    "# JoinPlot"
   ]
  },
  {
   "cell_type": "code",
   "execution_count": null,
   "id": "20b2ddb3",
   "metadata": {},
   "outputs": [],
   "source": [
    "#A join plot allows to study the relationship between 2 numeric variables. \n",
    "#The central chart display their correlation. \n",
    "#It is usually a scatterplot, a hexbin plot, a 2D histogram or a 2D density plot"
   ]
  },
  {
   "cell_type": "markdown",
   "id": "7732f624",
   "metadata": {},
   "source": [
    "# JoinPlot - Univariate Analysis"
   ]
  },
  {
   "cell_type": "code",
   "execution_count": 107,
   "id": "39fdb775",
   "metadata": {},
   "outputs": [
    {
     "data": {
      "text/plain": [
       "<seaborn.axisgrid.JointGrid at 0x13e0070ab20>"
      ]
     },
     "execution_count": 107,
     "metadata": {},
     "output_type": "execute_result"
    },
    {
     "data": {
      "image/png": "[encoded data removed]",
      "text/plain": [
       "<Figure size 432x432 with 3 Axes>"
      ]
     },
     "metadata": {
      "needs_background": "light"
     },
     "output_type": "display_data"
    }
   ],
   "source": [
    "sns.jointplot(x='tip',y='total_bill',data=df,kind='hex')"
   ]
  },
  {
   "cell_type": "code",
   "execution_count": 108,
   "id": "8d8ae0e6",
   "metadata": {},
   "outputs": [
    {
     "data": {
      "text/plain": [
       "<seaborn.axisgrid.JointGrid at 0x13e0331d340>"
      ]
     },
     "execution_count": 108,
     "metadata": {},
     "output_type": "execute_result"
    },
    {
     "data": {
      "image/png": "[encoded data removed]",
      "text/plain": [
       "<Figure size 432x432 with 3 Axes>"
      ]
     },
     "metadata": {
      "needs_background": "light"
     },
     "output_type": "display_data"
    }
   ],
   "source": [
    "sns.jointplot(x='tip',y='total_bill',data=df,kind='reg') #on the sides its the histogram. \n",
    "                                                        #reg(regression) shows the probability density function\n",
    "                                                        #and also draws the reg line ie best fit line"
   ]
  },
  {
   "cell_type": "markdown",
   "id": "32bc3934",
   "metadata": {},
   "source": [
    "# Pair Plot"
   ]
  },
  {
   "cell_type": "code",
   "execution_count": 109,
   "id": "5066a741",
   "metadata": {},
   "outputs": [
    {
     "data": {
      "text/plain": [
       "<seaborn.axisgrid.PairGrid at 0x13e018be1f0>"
      ]
     },
     "execution_count": 109,
     "metadata": {},
     "output_type": "execute_result"
    },
    {
     "data": {
      "image/png": "[encoded data removed]",
      "text/plain": [
       "<Figure size 540x540 with 12 Axes>"
      ]
     },
     "metadata": {
      "needs_background": "light"
     },
     "output_type": "display_data"
    }
   ],
   "source": [
    "#A “pairs plot” is also known as a scatterplot, in which one variable in the same data row \n",
    "#is matched with another variable's value, like this: Pairs plots are just elaborations \n",
    "#on this, showing all variables paired with all the other variables\n",
    "\n",
    "#pair plot - used when there are 2 indepedent variables\n",
    "\n",
    "sns.pairplot(df)"
   ]
  },
  {
   "cell_type": "code",
   "execution_count": 120,
   "id": "7744545a",
   "metadata": {},
   "outputs": [
    {
     "data": {
      "text/plain": [
       "<seaborn.axisgrid.PairGrid at 0x13e05a02670>"
      ]
     },
     "execution_count": 120,
     "metadata": {},
     "output_type": "execute_result"
    },
    {
     "data": {
      "image/png": "[encoded data removed]",
      "text/plain": [
       "<Figure size 612.125x540 with 12 Axes>"
      ]
     },
     "metadata": {
      "needs_background": "light"
     },
     "output_type": "display_data"
    }
   ],
   "source": [
    "sns.pairplot(df,hue='sex')"
   ]
  },
  {
   "cell_type": "markdown",
   "id": "0109907c",
   "metadata": {},
   "source": [
    "# Dist Plot"
   ]
  },
  {
   "cell_type": "code",
   "execution_count": null,
   "id": "83272b6d",
   "metadata": {},
   "outputs": [],
   "source": [
    "#Dist plot helps us to check the distribution of the columns feature"
   ]
  },
  {
   "cell_type": "code",
   "execution_count": null,
   "id": "676d9298",
   "metadata": {},
   "outputs": [],
   "source": [
    "sns.distplot(df['tip'])"
   ]
  },
  {
   "cell_type": "code",
   "execution_count": null,
   "id": "b6b88086",
   "metadata": {},
   "outputs": [],
   "source": [
    "sns.distplot(df['tip'],kde=False,bins=10)"
   ]
  },
  {
   "cell_type": "markdown",
   "id": "9d55ace9",
   "metadata": {},
   "source": [
    "# Categorical Plots"
   ]
  },
  {
   "cell_type": "code",
   "execution_count": null,
   "id": "c39c4a09",
   "metadata": {},
   "outputs": [],
   "source": [
    "#Seaborn also helps us in doing the analysis on Categorical Data points.\n",
    "#In this section we will discuss about\n",
    "\n",
    "#boxplot\n",
    "#violinplot\n",
    "#countplot\n",
    "#bar plot"
   ]
  },
  {
   "cell_type": "code",
   "execution_count": 110,
   "id": "8bffc488",
   "metadata": {},
   "outputs": [
    {
     "name": "stderr",
     "output_type": "stream",
     "text": [
      "C:\\ProgramFiles\\Anaconda3\\lib\\site-packages\\seaborn\\_decorators.py:36: FutureWarning: Pass the following variable as a keyword arg: x. From version 0.12, the only valid positional argument will be `data`, and passing other arguments without an explicit keyword will result in an error or misinterpretation.\n",
      "  warnings.warn(\n"
     ]
    },
    {
     "data": {
      "text/plain": [
       "<AxesSubplot:xlabel='sex', ylabel='count'>"
      ]
     },
     "execution_count": 110,
     "metadata": {},
     "output_type": "execute_result"
    },
    {
     "data": {
      "image/png": "[encoded data removed]",
      "text/plain": [
       "<Figure size 432x288 with 1 Axes>"
      ]
     },
     "metadata": {
      "needs_background": "light"
     },
     "output_type": "display_data"
    }
   ],
   "source": [
    "## Count plot\n",
    "\n",
    "sns.countplot('sex',data=df)"
   ]
  },
  {
   "cell_type": "code",
   "execution_count": 111,
   "id": "55e25449",
   "metadata": {},
   "outputs": [
    {
     "data": {
      "text/plain": [
       "<AxesSubplot:xlabel='count', ylabel='sex'>"
      ]
     },
     "execution_count": 111,
     "metadata": {},
     "output_type": "execute_result"
    },
    {
     "data": {
      "image/png": "[encoded data removed]",
      "text/plain": [
       "<Figure size 432x288 with 1 Axes>"
      ]
     },
     "metadata": {
      "needs_background": "light"
     },
     "output_type": "display_data"
    }
   ],
   "source": [
    "## Count plot\n",
    "\n",
    "sns.countplot(y='sex',data=df)"
   ]
  },
  {
   "cell_type": "code",
   "execution_count": 112,
   "id": "84b51474",
   "metadata": {},
   "outputs": [
    {
     "data": {
      "text/plain": [
       "<AxesSubplot:xlabel='total_bill', ylabel='sex'>"
      ]
     },
     "execution_count": 112,
     "metadata": {},
     "output_type": "execute_result"
    },
    {
     "data": {
      "image/png": "[encoded data removed]",
      "text/plain": [
       "<Figure size 432x288 with 1 Axes>"
      ]
     },
     "metadata": {
      "needs_background": "light"
     },
     "output_type": "display_data"
    }
   ],
   "source": [
    "## Bar plot\n",
    "sns.barplot(x='total_bill',y='sex',data=df)"
   ]
  },
  {
   "cell_type": "code",
   "execution_count": 113,
   "id": "9ebce2a5",
   "metadata": {},
   "outputs": [
    {
     "data": {
      "text/plain": [
       "<AxesSubplot:xlabel='sex', ylabel='total_bill'>"
      ]
     },
     "execution_count": 113,
     "metadata": {},
     "output_type": "execute_result"
    },
    {
     "data": {
      "image/png": "[encoded data removed]",
      "text/plain": [
       "<Figure size 432x288 with 1 Axes>"
      ]
     },
     "metadata": {
      "needs_background": "light"
     },
     "output_type": "display_data"
    }
   ],
   "source": [
    "## Bar plot\n",
    "sns.barplot(x='sex',y='total_bill',data=df)"
   ]
  },
  {
   "cell_type": "code",
   "execution_count": 114,
   "id": "be7514bf",
   "metadata": {},
   "outputs": [
    {
     "data": {
      "text/html": [
       "<div>\n",
       "<style scoped>\n",
       "    .dataframe tbody tr th:only-of-type {\n",
       "        vertical-align: middle;\n",
       "    }\n",
       "\n",
       "    .dataframe tbody tr th {\n",
       "        vertical-align: top;\n",
       "    }\n",
       "\n",
       "    .dataframe thead th {\n",
       "        text-align: right;\n",
       "    }\n",
       "</style>\n",
       "<table border=\"1\" class=\"dataframe\">\n",
       "  <thead>\n",
       "    <tr style=\"text-align: right;\">\n",
       "      <th></th>\n",
       "      <th>total_bill</th>\n",
       "      <th>tip</th>\n",
       "      <th>sex</th>\n",
       "      <th>smoker</th>\n",
       "      <th>day</th>\n",
       "      <th>time</th>\n",
       "      <th>size</th>\n",
       "    </tr>\n",
       "  </thead>\n",
       "  <tbody>\n",
       "    <tr>\n",
       "      <th>0</th>\n",
       "      <td>16.99</td>\n",
       "      <td>1.01</td>\n",
       "      <td>Female</td>\n",
       "      <td>No</td>\n",
       "      <td>Sun</td>\n",
       "      <td>Dinner</td>\n",
       "      <td>2</td>\n",
       "    </tr>\n",
       "    <tr>\n",
       "      <th>1</th>\n",
       "      <td>10.34</td>\n",
       "      <td>1.66</td>\n",
       "      <td>Male</td>\n",
       "      <td>No</td>\n",
       "      <td>Sun</td>\n",
       "      <td>Dinner</td>\n",
       "      <td>3</td>\n",
       "    </tr>\n",
       "    <tr>\n",
       "      <th>2</th>\n",
       "      <td>21.01</td>\n",
       "      <td>3.50</td>\n",
       "      <td>Male</td>\n",
       "      <td>No</td>\n",
       "      <td>Sun</td>\n",
       "      <td>Dinner</td>\n",
       "      <td>3</td>\n",
       "    </tr>\n",
       "    <tr>\n",
       "      <th>3</th>\n",
       "      <td>23.68</td>\n",
       "      <td>3.31</td>\n",
       "      <td>Male</td>\n",
       "      <td>No</td>\n",
       "      <td>Sun</td>\n",
       "      <td>Dinner</td>\n",
       "      <td>2</td>\n",
       "    </tr>\n",
       "    <tr>\n",
       "      <th>4</th>\n",
       "      <td>24.59</td>\n",
       "      <td>3.61</td>\n",
       "      <td>Female</td>\n",
       "      <td>No</td>\n",
       "      <td>Sun</td>\n",
       "      <td>Dinner</td>\n",
       "      <td>4</td>\n",
       "    </tr>\n",
       "  </tbody>\n",
       "</table>\n",
       "</div>"
      ],
      "text/plain": [
       "   total_bill   tip     sex smoker  day    time  size\n",
       "0       16.99  1.01  Female     No  Sun  Dinner     2\n",
       "1       10.34  1.66    Male     No  Sun  Dinner     3\n",
       "2       21.01  3.50    Male     No  Sun  Dinner     3\n",
       "3       23.68  3.31    Male     No  Sun  Dinner     2\n",
       "4       24.59  3.61  Female     No  Sun  Dinner     4"
      ]
     },
     "execution_count": 114,
     "metadata": {},
     "output_type": "execute_result"
    }
   ],
   "source": [
    "df.head()"
   ]
  },
  {
   "cell_type": "markdown",
   "id": "3094398e",
   "metadata": {},
   "source": [
    "# Box Plot"
   ]
  },
  {
   "cell_type": "code",
   "execution_count": null,
   "id": "e3f885c3",
   "metadata": {},
   "outputs": [],
   "source": [
    "#A box and whisker plot (sometimes called a boxplot) is a graph that \n",
    "#presents information from a five-number summary."
   ]
  },
  {
   "cell_type": "code",
   "execution_count": 115,
   "id": "acd18627",
   "metadata": {},
   "outputs": [
    {
     "name": "stderr",
     "output_type": "stream",
     "text": [
      "C:\\ProgramFiles\\Anaconda3\\lib\\site-packages\\seaborn\\_decorators.py:36: FutureWarning: Pass the following variables as keyword args: x, y. From version 0.12, the only valid positional argument will be `data`, and passing other arguments without an explicit keyword will result in an error or misinterpretation.\n",
      "  warnings.warn(\n"
     ]
    },
    {
     "data": {
      "text/plain": [
       "<AxesSubplot:xlabel='smoker', ylabel='total_bill'>"
      ]
     },
     "execution_count": 115,
     "metadata": {},
     "output_type": "execute_result"
    },
    {
     "data": {
      "image/png": "[encoded data removed]",
      "text/plain": [
       "<Figure size 432x288 with 1 Axes>"
      ]
     },
     "metadata": {
      "needs_background": "light"
     },
     "output_type": "display_data"
    }
   ],
   "source": [
    "sns.boxplot('smoker','total_bill', data=df)"
   ]
  },
  {
   "cell_type": "code",
   "execution_count": 116,
   "id": "94f5a40f",
   "metadata": {},
   "outputs": [
    {
     "data": {
      "text/plain": [
       "<AxesSubplot:xlabel='day', ylabel='total_bill'>"
      ]
     },
     "execution_count": 116,
     "metadata": {},
     "output_type": "execute_result"
    },
    {
     "data": {
      "image/png": "[encoded data removed]",
      "text/plain": [
       "<Figure size 432x288 with 1 Axes>"
      ]
     },
     "metadata": {
      "needs_background": "light"
     },
     "output_type": "display_data"
    }
   ],
   "source": [
    "sns.boxplot(x=\"day\", y=\"total_bill\", data=df,palette='rainbow')"
   ]
  },
  {
   "cell_type": "code",
   "execution_count": 117,
   "id": "b838b3c0",
   "metadata": {},
   "outputs": [
    {
     "data": {
      "text/plain": [
       "<AxesSubplot:>"
      ]
     },
     "execution_count": 117,
     "metadata": {},
     "output_type": "execute_result"
    },
    {
     "data": {
      "image/png": "[encoded data removed]",
      "text/plain": [
       "<Figure size 432x288 with 1 Axes>"
      ]
     },
     "metadata": {
      "needs_background": "light"
     },
     "output_type": "display_data"
    }
   ],
   "source": [
    "sns.boxplot(data=df,orient='v')"
   ]
  },
  {
   "cell_type": "code",
   "execution_count": 118,
   "id": "6375bb0e",
   "metadata": {},
   "outputs": [
    {
     "data": {
      "text/plain": [
       "<AxesSubplot:xlabel='total_bill', ylabel='day'>"
      ]
     },
     "execution_count": 118,
     "metadata": {},
     "output_type": "execute_result"
    },
    {
     "data": {
      "image/png": "[encoded data removed]",
      "text/plain": [
       "<Figure size 432x288 with 1 Axes>"
      ]
     },
     "metadata": {
      "needs_background": "light"
     },
     "output_type": "display_data"
    }
   ],
   "source": [
    "# categorize my data based on some other categories\n",
    "\n",
    "sns.boxplot(x=\"total_bill\", y=\"day\", hue=\"smoker\",data=df)"
   ]
  },
  {
   "cell_type": "markdown",
   "id": "df7b5504",
   "metadata": {},
   "source": [
    "# Violin Plot"
   ]
  },
  {
   "cell_type": "code",
   "execution_count": 119,
   "id": "f2d729e1",
   "metadata": {},
   "outputs": [
    {
     "data": {
      "text/plain": [
       "<AxesSubplot:xlabel='total_bill', ylabel='day'>"
      ]
     },
     "execution_count": 119,
     "metadata": {},
     "output_type": "execute_result"
    },
    {
     "data": {
      "image/png": "[encoded data removed]",
      "text/plain": [
       "<Figure size 432x288 with 1 Axes>"
      ]
     },
     "metadata": {
      "needs_background": "light"
     },
     "output_type": "display_data"
    }
   ],
   "source": [
    "#Violin plot helps us to see both the distribution of data in terms\n",
    "#of Kernel density estimation and the box plot\n",
    "\n",
    "sns.violinplot(x=\"total_bill\", y=\"day\", data=df,palette='rainbow')"
   ]
  },
  {
   "cell_type": "code",
   "execution_count": null,
   "id": "b396a72d",
   "metadata": {},
   "outputs": [],
   "source": []
  },
  {
   "cell_type": "code",
   "execution_count": 46,
   "id": "30dd219c",
   "metadata": {},
   "outputs": [
    {
     "ename": "NameError",
     "evalue": "name 'pd' is not defined",
     "output_type": "error",
     "traceback": [
      "\u001b[1;31m---------------------------------------------------------------------------\u001b[0m",
      "\u001b[1;31mNameError\u001b[0m                                 Traceback (most recent call last)",
      "Input \u001b[1;32mIn [46]\u001b[0m, in \u001b[0;36m<cell line: 2>\u001b[1;34m()\u001b[0m\n\u001b[0;32m      1\u001b[0m \u001b[38;5;28;01mimport\u001b[39;00m \u001b[38;5;21;01mseaborn\u001b[39;00m \u001b[38;5;28;01mas\u001b[39;00m \u001b[38;5;21;01msns\u001b[39;00m\n\u001b[1;32m----> 2\u001b[0m sns\u001b[38;5;241m.\u001b[39mdistplot(\u001b[43mpd\u001b[49m\u001b[38;5;241m.\u001b[39mDataFrame(arr_ex\u001b[38;5;241m.\u001b[39mreshape(\u001b[38;5;241m16\u001b[39m,\u001b[38;5;241m1\u001b[39m)))\n",
      "\u001b[1;31mNameError\u001b[0m: name 'pd' is not defined"
     ]
    }
   ],
   "source": []
  },
  {
   "cell_type": "code",
   "execution_count": null,
   "id": "96db0e59",
   "metadata": {},
   "outputs": [],
   "source": []
  },
  {
   "cell_type": "code",
   "execution_count": null,
   "id": "8bdb2b2b",
   "metadata": {},
   "outputs": [],
   "source": []
  }
 ],
 "metadata": {
  "kernelspec": {
   "display_name": "Python 3 (ipykernel)",
   "language": "python",
   "name": "python3"
  },
  "language_info": {
   "codemirror_mode": {
    "name": "ipython",
    "version": 3
   },
   "file_extension": ".py",
   "mimetype": "text/x-python",
   "name": "python",
   "nbconvert_exporter": "python",
   "pygments_lexer": "ipython3",
   "version": "3.9.12"
  }
 },
 "nbformat": 4,
 "nbformat_minor": 5
}
